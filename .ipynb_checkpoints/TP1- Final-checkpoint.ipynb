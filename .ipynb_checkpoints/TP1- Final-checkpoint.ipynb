{
 "cells": [
  {
   "cell_type": "markdown",
   "metadata": {},
   "source": [
    "# Trabajo Practico N° 1 - Organizacion de Datos"
   ]
  },
  {
   "cell_type": "markdown",
   "metadata": {},
   "source": [
    "# Analisis exploratorio de un dataset con informacion provista por Navent"
   ]
  },
  {
   "cell_type": "markdown",
   "metadata": {},
   "source": [
    "Link al repositorio de GitHub: https://github.com/Andivisciglio/TP1-OrganizacionDeDatos-Grupo28"
   ]
  },
  {
   "cell_type": "code",
   "execution_count": 1,
   "metadata": {},
   "outputs": [],
   "source": [
    "import datetime as datetime\n",
    "import pandas as pd\n",
    "import numpy as np\n",
    "import matplotlib.pyplot as plt\n",
    "import seaborn as sns\n",
    "\n",
    "%matplotlib inline\n",
    "\n",
    "plt.style.use('default') # haciendo los graficos un poco mas bonitos en matplotlib\n",
    "#plt.rcParams['figure.figsize'] = (20, 10)\n",
    "\n",
    "sns.set(style=\"whitegrid\") # seteando tipo de grid en seaborn"
   ]
  },
  {
   "cell_type": "code",
   "execution_count": 2,
   "metadata": {},
   "outputs": [
    {
     "ename": "FileNotFoundError",
     "evalue": "File b'fiuba_1_postulantes_educacion.csv' does not exist",
     "output_type": "error",
     "traceback": [
      "\u001b[1;31m---------------------------------------------------------------------------\u001b[0m",
      "\u001b[1;31mFileNotFoundError\u001b[0m                         Traceback (most recent call last)",
      "\u001b[1;32m<ipython-input-2-573e13cc062a>\u001b[0m in \u001b[0;36m<module>\u001b[1;34m()\u001b[0m\n\u001b[1;32m----> 1\u001b[1;33m \u001b[0mpostulantes_edu_df\u001b[0m \u001b[1;33m=\u001b[0m \u001b[0mpd\u001b[0m\u001b[1;33m.\u001b[0m\u001b[0mread_csv\u001b[0m\u001b[1;33m(\u001b[0m\u001b[1;34m'fiuba_1_postulantes_educacion.csv'\u001b[0m\u001b[1;33m)\u001b[0m\u001b[1;33m\u001b[0m\u001b[0m\n\u001b[0m\u001b[0;32m      2\u001b[0m \u001b[0mpostulantes_gye_df\u001b[0m \u001b[1;33m=\u001b[0m \u001b[0mpd\u001b[0m\u001b[1;33m.\u001b[0m\u001b[0mread_csv\u001b[0m\u001b[1;33m(\u001b[0m\u001b[1;34m'fiuba_2_postulantes_genero_y_edad.csv'\u001b[0m\u001b[1;33m)\u001b[0m\u001b[1;33m\u001b[0m\u001b[0m\n\u001b[0;32m      3\u001b[0m \u001b[0mvistas_df\u001b[0m \u001b[1;33m=\u001b[0m \u001b[0mpd\u001b[0m\u001b[1;33m.\u001b[0m\u001b[0mread_csv\u001b[0m\u001b[1;33m(\u001b[0m\u001b[1;34m'fiuba_3_vistas.csv'\u001b[0m\u001b[1;33m)\u001b[0m\u001b[1;33m\u001b[0m\u001b[0m\n\u001b[0;32m      4\u001b[0m \u001b[0mpostulaciones_df\u001b[0m \u001b[1;33m=\u001b[0m \u001b[0mpd\u001b[0m\u001b[1;33m.\u001b[0m\u001b[0mread_csv\u001b[0m\u001b[1;33m(\u001b[0m\u001b[1;34m'fiuba_4_postulaciones.csv'\u001b[0m\u001b[1;33m)\u001b[0m\u001b[1;33m\u001b[0m\u001b[0m\n\u001b[0;32m      5\u001b[0m \u001b[0mavisos_online_df\u001b[0m \u001b[1;33m=\u001b[0m \u001b[0mpd\u001b[0m\u001b[1;33m.\u001b[0m\u001b[0mread_csv\u001b[0m\u001b[1;33m(\u001b[0m\u001b[1;34m'fiuba_5_avisos_online.csv'\u001b[0m\u001b[1;33m)\u001b[0m\u001b[1;33m\u001b[0m\u001b[0m\n",
      "\u001b[1;32m~\\Anaconda3\\lib\\site-packages\\pandas\\io\\parsers.py\u001b[0m in \u001b[0;36mparser_f\u001b[1;34m(filepath_or_buffer, sep, delimiter, header, names, index_col, usecols, squeeze, prefix, mangle_dupe_cols, dtype, engine, converters, true_values, false_values, skipinitialspace, skiprows, nrows, na_values, keep_default_na, na_filter, verbose, skip_blank_lines, parse_dates, infer_datetime_format, keep_date_col, date_parser, dayfirst, iterator, chunksize, compression, thousands, decimal, lineterminator, quotechar, quoting, escapechar, comment, encoding, dialect, tupleize_cols, error_bad_lines, warn_bad_lines, skipfooter, skip_footer, doublequote, delim_whitespace, as_recarray, compact_ints, use_unsigned, low_memory, buffer_lines, memory_map, float_precision)\u001b[0m\n\u001b[0;32m    707\u001b[0m                     skip_blank_lines=skip_blank_lines)\n\u001b[0;32m    708\u001b[0m \u001b[1;33m\u001b[0m\u001b[0m\n\u001b[1;32m--> 709\u001b[1;33m         \u001b[1;32mreturn\u001b[0m \u001b[0m_read\u001b[0m\u001b[1;33m(\u001b[0m\u001b[0mfilepath_or_buffer\u001b[0m\u001b[1;33m,\u001b[0m \u001b[0mkwds\u001b[0m\u001b[1;33m)\u001b[0m\u001b[1;33m\u001b[0m\u001b[0m\n\u001b[0m\u001b[0;32m    710\u001b[0m \u001b[1;33m\u001b[0m\u001b[0m\n\u001b[0;32m    711\u001b[0m     \u001b[0mparser_f\u001b[0m\u001b[1;33m.\u001b[0m\u001b[0m__name__\u001b[0m \u001b[1;33m=\u001b[0m \u001b[0mname\u001b[0m\u001b[1;33m\u001b[0m\u001b[0m\n",
      "\u001b[1;32m~\\Anaconda3\\lib\\site-packages\\pandas\\io\\parsers.py\u001b[0m in \u001b[0;36m_read\u001b[1;34m(filepath_or_buffer, kwds)\u001b[0m\n\u001b[0;32m    447\u001b[0m \u001b[1;33m\u001b[0m\u001b[0m\n\u001b[0;32m    448\u001b[0m     \u001b[1;31m# Create the parser.\u001b[0m\u001b[1;33m\u001b[0m\u001b[1;33m\u001b[0m\u001b[0m\n\u001b[1;32m--> 449\u001b[1;33m     \u001b[0mparser\u001b[0m \u001b[1;33m=\u001b[0m \u001b[0mTextFileReader\u001b[0m\u001b[1;33m(\u001b[0m\u001b[0mfilepath_or_buffer\u001b[0m\u001b[1;33m,\u001b[0m \u001b[1;33m**\u001b[0m\u001b[0mkwds\u001b[0m\u001b[1;33m)\u001b[0m\u001b[1;33m\u001b[0m\u001b[0m\n\u001b[0m\u001b[0;32m    450\u001b[0m \u001b[1;33m\u001b[0m\u001b[0m\n\u001b[0;32m    451\u001b[0m     \u001b[1;32mif\u001b[0m \u001b[0mchunksize\u001b[0m \u001b[1;32mor\u001b[0m \u001b[0miterator\u001b[0m\u001b[1;33m:\u001b[0m\u001b[1;33m\u001b[0m\u001b[0m\n",
      "\u001b[1;32m~\\Anaconda3\\lib\\site-packages\\pandas\\io\\parsers.py\u001b[0m in \u001b[0;36m__init__\u001b[1;34m(self, f, engine, **kwds)\u001b[0m\n\u001b[0;32m    816\u001b[0m             \u001b[0mself\u001b[0m\u001b[1;33m.\u001b[0m\u001b[0moptions\u001b[0m\u001b[1;33m[\u001b[0m\u001b[1;34m'has_index_names'\u001b[0m\u001b[1;33m]\u001b[0m \u001b[1;33m=\u001b[0m \u001b[0mkwds\u001b[0m\u001b[1;33m[\u001b[0m\u001b[1;34m'has_index_names'\u001b[0m\u001b[1;33m]\u001b[0m\u001b[1;33m\u001b[0m\u001b[0m\n\u001b[0;32m    817\u001b[0m \u001b[1;33m\u001b[0m\u001b[0m\n\u001b[1;32m--> 818\u001b[1;33m         \u001b[0mself\u001b[0m\u001b[1;33m.\u001b[0m\u001b[0m_make_engine\u001b[0m\u001b[1;33m(\u001b[0m\u001b[0mself\u001b[0m\u001b[1;33m.\u001b[0m\u001b[0mengine\u001b[0m\u001b[1;33m)\u001b[0m\u001b[1;33m\u001b[0m\u001b[0m\n\u001b[0m\u001b[0;32m    819\u001b[0m \u001b[1;33m\u001b[0m\u001b[0m\n\u001b[0;32m    820\u001b[0m     \u001b[1;32mdef\u001b[0m \u001b[0mclose\u001b[0m\u001b[1;33m(\u001b[0m\u001b[0mself\u001b[0m\u001b[1;33m)\u001b[0m\u001b[1;33m:\u001b[0m\u001b[1;33m\u001b[0m\u001b[0m\n",
      "\u001b[1;32m~\\Anaconda3\\lib\\site-packages\\pandas\\io\\parsers.py\u001b[0m in \u001b[0;36m_make_engine\u001b[1;34m(self, engine)\u001b[0m\n\u001b[0;32m   1047\u001b[0m     \u001b[1;32mdef\u001b[0m \u001b[0m_make_engine\u001b[0m\u001b[1;33m(\u001b[0m\u001b[0mself\u001b[0m\u001b[1;33m,\u001b[0m \u001b[0mengine\u001b[0m\u001b[1;33m=\u001b[0m\u001b[1;34m'c'\u001b[0m\u001b[1;33m)\u001b[0m\u001b[1;33m:\u001b[0m\u001b[1;33m\u001b[0m\u001b[0m\n\u001b[0;32m   1048\u001b[0m         \u001b[1;32mif\u001b[0m \u001b[0mengine\u001b[0m \u001b[1;33m==\u001b[0m \u001b[1;34m'c'\u001b[0m\u001b[1;33m:\u001b[0m\u001b[1;33m\u001b[0m\u001b[0m\n\u001b[1;32m-> 1049\u001b[1;33m             \u001b[0mself\u001b[0m\u001b[1;33m.\u001b[0m\u001b[0m_engine\u001b[0m \u001b[1;33m=\u001b[0m \u001b[0mCParserWrapper\u001b[0m\u001b[1;33m(\u001b[0m\u001b[0mself\u001b[0m\u001b[1;33m.\u001b[0m\u001b[0mf\u001b[0m\u001b[1;33m,\u001b[0m \u001b[1;33m**\u001b[0m\u001b[0mself\u001b[0m\u001b[1;33m.\u001b[0m\u001b[0moptions\u001b[0m\u001b[1;33m)\u001b[0m\u001b[1;33m\u001b[0m\u001b[0m\n\u001b[0m\u001b[0;32m   1050\u001b[0m         \u001b[1;32melse\u001b[0m\u001b[1;33m:\u001b[0m\u001b[1;33m\u001b[0m\u001b[0m\n\u001b[0;32m   1051\u001b[0m             \u001b[1;32mif\u001b[0m \u001b[0mengine\u001b[0m \u001b[1;33m==\u001b[0m \u001b[1;34m'python'\u001b[0m\u001b[1;33m:\u001b[0m\u001b[1;33m\u001b[0m\u001b[0m\n",
      "\u001b[1;32m~\\Anaconda3\\lib\\site-packages\\pandas\\io\\parsers.py\u001b[0m in \u001b[0;36m__init__\u001b[1;34m(self, src, **kwds)\u001b[0m\n\u001b[0;32m   1693\u001b[0m         \u001b[0mkwds\u001b[0m\u001b[1;33m[\u001b[0m\u001b[1;34m'allow_leading_cols'\u001b[0m\u001b[1;33m]\u001b[0m \u001b[1;33m=\u001b[0m \u001b[0mself\u001b[0m\u001b[1;33m.\u001b[0m\u001b[0mindex_col\u001b[0m \u001b[1;32mis\u001b[0m \u001b[1;32mnot\u001b[0m \u001b[1;32mFalse\u001b[0m\u001b[1;33m\u001b[0m\u001b[0m\n\u001b[0;32m   1694\u001b[0m \u001b[1;33m\u001b[0m\u001b[0m\n\u001b[1;32m-> 1695\u001b[1;33m         \u001b[0mself\u001b[0m\u001b[1;33m.\u001b[0m\u001b[0m_reader\u001b[0m \u001b[1;33m=\u001b[0m \u001b[0mparsers\u001b[0m\u001b[1;33m.\u001b[0m\u001b[0mTextReader\u001b[0m\u001b[1;33m(\u001b[0m\u001b[0msrc\u001b[0m\u001b[1;33m,\u001b[0m \u001b[1;33m**\u001b[0m\u001b[0mkwds\u001b[0m\u001b[1;33m)\u001b[0m\u001b[1;33m\u001b[0m\u001b[0m\n\u001b[0m\u001b[0;32m   1696\u001b[0m \u001b[1;33m\u001b[0m\u001b[0m\n\u001b[0;32m   1697\u001b[0m         \u001b[1;31m# XXX\u001b[0m\u001b[1;33m\u001b[0m\u001b[1;33m\u001b[0m\u001b[0m\n",
      "\u001b[1;32mpandas/_libs/parsers.pyx\u001b[0m in \u001b[0;36mpandas._libs.parsers.TextReader.__cinit__\u001b[1;34m()\u001b[0m\n",
      "\u001b[1;32mpandas/_libs/parsers.pyx\u001b[0m in \u001b[0;36mpandas._libs.parsers.TextReader._setup_parser_source\u001b[1;34m()\u001b[0m\n",
      "\u001b[1;31mFileNotFoundError\u001b[0m: File b'fiuba_1_postulantes_educacion.csv' does not exist"
     ]
    }
   ],
   "source": [
    "postulantes_edu_df = pd.read_csv('fiuba_1_postulantes_educacion.csv')\n",
    "postulantes_gye_df = pd.read_csv('fiuba_2_postulantes_genero_y_edad.csv')\n",
    "vistas_df = pd.read_csv('fiuba_3_vistas.csv')\n",
    "postulaciones_df = pd.read_csv('fiuba_4_postulaciones.csv')\n",
    "avisos_online_df = pd.read_csv('fiuba_5_avisos_online.csv')\n",
    "avisos_detalle_df = pd.read_csv('fiuba_6_avisos_detalle.csv')"
   ]
  },
  {
   "cell_type": "markdown",
   "metadata": {},
   "source": [
    "# Analizamos la informacion disponible"
   ]
  },
  {
   "cell_type": "code",
   "execution_count": null,
   "metadata": {},
   "outputs": [],
   "source": [
    "postulaciones_df.columns"
   ]
  },
  {
   "cell_type": "code",
   "execution_count": null,
   "metadata": {},
   "outputs": [],
   "source": [
    "#Verificamos que no haya nulos en las columnas del dataframe\n",
    "print(postulaciones_df['idaviso'].isnull().any())\n",
    "print(postulaciones_df['fechapostulacion'].isnull().any())\n",
    "print(postulaciones_df['idpostulante'].isnull().any())\n"
   ]
  },
  {
   "cell_type": "code",
   "execution_count": null,
   "metadata": {},
   "outputs": [],
   "source": [
    "avisos_detalle_df.columns"
   ]
  },
  {
   "cell_type": "code",
   "execution_count": null,
   "metadata": {},
   "outputs": [],
   "source": [
    "print(avisos_detalle_df['idaviso'].isnull().any())\n",
    "print(avisos_detalle_df['idpais'].isnull().any())\n",
    "print(avisos_detalle_df['titulo'].isnull().any())\n",
    "print(avisos_detalle_df['mapacalle'].isnull().any())\n",
    "print(avisos_detalle_df['tipo_de_trabajo'].isnull().any())\n",
    "print(avisos_detalle_df['nivel_laboral'].isnull().any())\n",
    "print(avisos_detalle_df['nombre_area'].isnull().any())\n",
    "print(avisos_detalle_df['descripcion'].isnull().any())\n",
    "print(avisos_detalle_df['titulo'].isnull().any())\n",
    "print(avisos_detalle_df['idaviso'].isnull().any())\n",
    "print(avisos_detalle_df['ciudad'].isnull().any())\n",
    "print(avisos_detalle_df['nombre_zona'].isnull().any())"
   ]
  },
  {
   "cell_type": "code",
   "execution_count": null,
   "metadata": {},
   "outputs": [],
   "source": [
    "#Observo que solo 47 avisos de 13mil tienen ciudad especificada.\n",
    "#No es suficiente como para generalizar conclusiones.\n",
    "#Eliminamos la columna \"ciudad\"\n",
    "print(avisos_detalle_df['ciudad'].shape)\n",
    "print(avisos_detalle_df['ciudad'].count())\n",
    "avisos_detalle_df = avisos_detalle_df.drop('ciudad', 1)\n"
   ]
  },
  {
   "cell_type": "code",
   "execution_count": null,
   "metadata": {},
   "outputs": [],
   "source": [
    "#Observamos que la columna \"idpais\" siempre tiene el mismo valor.\n",
    "print(avisos_detalle_df['idpais'].value_counts())\n"
   ]
  },
  {
   "cell_type": "code",
   "execution_count": null,
   "metadata": {},
   "outputs": [],
   "source": [
    "#Como no brinda informacion relevante, la eliminamos.\n",
    "avisos_detalle_df = avisos_detalle_df.drop('idpais',1)"
   ]
  },
  {
   "cell_type": "code",
   "execution_count": null,
   "metadata": {},
   "outputs": [],
   "source": [
    "#Observamos que la informacion utilizable hace referencia a CABA vs GBA, \n",
    "#por lo tanto descartamos los demas.\n",
    "print(avisos_detalle_df['nombre_zona'].value_counts())\n",
    "avisos_detalle_df = avisos_detalle_df[ (avisos_detalle_df['nombre_zona'] \n",
    "                                        == 'GBA Oeste') == False]\n",
    "avisos_detalle_df = avisos_detalle_df[ (avisos_detalle_df['nombre_zona'] \n",
    "                                        == 'Buenos Aires (fuera de GBA)') == False]\n",
    "print()\n",
    "print(avisos_detalle_df['nombre_zona'].value_counts())\n",
    "\n"
   ]
  },
  {
   "cell_type": "code",
   "execution_count": null,
   "metadata": {},
   "outputs": [],
   "source": [
    "#Vemos que los datos del archivo de vistas son limitados a unos pocos dias\n",
    "#del mes de febrero y solo un dia de marzo.\n",
    "vistas_df['timestamp'] = pd.to_datetime(vistas_df['timestamp'])\n",
    "print(vistas_df['timestamp'].dt.day.value_counts())\n",
    "print(vistas_df['timestamp'].dt.month.value_counts())"
   ]
  },
  {
   "cell_type": "code",
   "execution_count": null,
   "metadata": {},
   "outputs": [],
   "source": [
    "#Observamos que tanto para el dia 23 como para el dia 1, hay muy poca \n",
    "#informacion.\n",
    "df = vistas_df[vistas_df['timestamp'].dt.day == 1 ]\n",
    "print(df['timestamp'].dt.hour.value_counts())\n",
    "df = vistas_df[vistas_df['timestamp'].dt.day == 23 ]\n",
    "print(df['timestamp'].dt.hour.value_counts())"
   ]
  },
  {
   "cell_type": "code",
   "execution_count": null,
   "metadata": {},
   "outputs": [],
   "source": [
    "#Al trabajar con los datos de los postulantes, se ve que hay fechas nulas.\n",
    "print(postulantes_gye_df.isnull().any())\n",
    "print()\n",
    "print(postulantes_gye_df['fechanacimiento'].isnull().value_counts())\n",
    "print()\n",
    "print('True indica la cantidad de fechas nulas.')\n"
   ]
  },
  {
   "cell_type": "code",
   "execution_count": null,
   "metadata": {},
   "outputs": [],
   "source": [
    "postulantes_gye_df['sexo'].value_counts()"
   ]
  },
  {
   "cell_type": "code",
   "execution_count": null,
   "metadata": {},
   "outputs": [],
   "source": [
    "#Se ve que la mayoria de entradas con fecha nula, estan asociadas a \n",
    "#sexo no declarado.\n",
    "postulantes_gye_df = postulantes_gye_df.dropna()\n",
    "postulantes_gye_df['sexo'].value_counts()"
   ]
  },
  {
   "cell_type": "code",
   "execution_count": null,
   "metadata": {},
   "outputs": [],
   "source": [
    "#Como la cantidad de entradas con sexo no declarado bajo considerablemente, \n",
    "#no es suficiente como para generalizar.\n",
    "#Eliminamos esas entradas\n",
    "postulantes_gye_df = postulantes_gye_df[ (postulantes_gye_df['sexo'] == \n",
    "                                          'NO_DECLARA') == False]\n"
   ]
  },
  {
   "cell_type": "code",
   "execution_count": null,
   "metadata": {},
   "outputs": [],
   "source": [
    "postulantes_gye_df['sexo'].value_counts()"
   ]
  },
  {
   "cell_type": "code",
   "execution_count": null,
   "metadata": {},
   "outputs": [],
   "source": [
    "#Tambien en este archivo se puede ver que hay fechas anormales, que seran \n",
    "#filtradas luego dependiendo de que se busca averiguar.\n",
    "print('Entradas con fechas incorrectas :')\n",
    "print(postulantes_gye_df[postulantes_gye_df['fechanacimiento'].str.\n",
    "                         startswith('00')])"
   ]
  },
  {
   "cell_type": "code",
   "execution_count": null,
   "metadata": {},
   "outputs": [],
   "source": [
    "#Analizando la cantidad de postulaciones por usuario, nos encontramos con \n",
    "#tres casos atipicos donde se supera holgadamente el promedio\n",
    "#de postulaciones por usuario.\n",
    "#Sin embargo los datos son irrelevantes a la hora de analizar el archivo en \n",
    "#su totalidad.\n",
    "print(postulaciones_df['idpostulante'].value_counts().head(5))\n",
    "print()\n",
    "print('El promedio de postulaciones por usuario es: ', \n",
    "      postulaciones_df['idpostulante'].value_counts().mean() )"
   ]
  },
  {
   "cell_type": "code",
   "execution_count": null,
   "metadata": {},
   "outputs": [],
   "source": [
    "#A la hora de analizar la descripcion de los avisos, se puede ver que varios \n",
    "#de ellos son de otras provincias.\n",
    "#Esta informacion relevante no figura en ninguna columna del set de datos.\n",
    "\n",
    "\n",
    "df = avisos_detalle_df[avisos_detalle_df['descripcion'].str.contains('Cordoba')]\n",
    "df = df['descripcion'].value_counts().to_frame().reset_index()\n",
    "df.iloc[2,0]\n"
   ]
  },
  {
   "cell_type": "code",
   "execution_count": null,
   "metadata": {},
   "outputs": [],
   "source": [
    "#Otro ejemplo con mendoza.\n",
    "df = avisos_detalle_df[avisos_detalle_df['descripcion'].str.contains('Mendoza')]\n",
    "df = df['descripcion'].value_counts().to_frame().reset_index()\n",
    "df.iloc[5,0]"
   ]
  },
  {
   "cell_type": "markdown",
   "metadata": {},
   "source": [
    "# ¿Que nivel laboral tiene mayor oferta y demanda?"
   ]
  },
  {
   "cell_type": "code",
   "execution_count": null,
   "metadata": {},
   "outputs": [],
   "source": [
    "#Comenzamos uniendo los datos de los archivos de avisos y postulaciones.\n",
    "merge_detalle_postulaciones_df = postulaciones_df.merge(avisos_detalle_df, \n",
    "                                                        on = 'idaviso')"
   ]
  },
  {
   "cell_type": "code",
   "execution_count": null,
   "metadata": {},
   "outputs": [],
   "source": [
    "#Confirmamos que la union se hizo correctamente\n",
    "print(merge_detalle_postulaciones_df.count())\n",
    "merge_detalle_postulaciones_df.head()"
   ]
  },
  {
   "cell_type": "code",
   "execution_count": null,
   "metadata": {},
   "outputs": [],
   "source": [
    "#Se identifican las variables categoricas de la columna \"nivel Laboral\"\n",
    "avisos_detalle_df['nivel_laboral'].unique()"
   ]
  },
  {
   "cell_type": "code",
   "execution_count": null,
   "metadata": {},
   "outputs": [],
   "source": [
    "avisos_detalle_df['nivel_laboral'].value_counts()"
   ]
  },
  {
   "cell_type": "code",
   "execution_count": null,
   "metadata": {},
   "outputs": [],
   "source": [
    "#Ahora graficamos la cantidad de avisos para cada nivel laboral, usando \n",
    "#solo el archivo de avisos.\n",
    "g = avisos_detalle_df['nivel_laboral'].value_counts(ascending =\n",
    "        True).plot(kind = 'barh', color = ['lightblue','lightblue','lightblue',\n",
    "                                           'lightblue','blue'])\n",
    "g.set_title(\"Avisos por nivel laboral\", fontsize = 20)\n",
    "g.set_xlabel(\"Cantidad\", fontsize = 15, weight = 'bold')\n",
    "g.set_ylabel(\"Nivel laboral\", fontsize = 15, weight = 'bold')"
   ]
  },
  {
   "cell_type": "code",
   "execution_count": null,
   "metadata": {},
   "outputs": [],
   "source": [
    "#Ahora lo mismo que antes, pero con el data frame que une los datos.\n",
    "g = merge_detalle_postulaciones_df['nivel_laboral'].value_counts(ascending=\n",
    "    True).plot(kind = 'barh',color = ['lightblue','lightblue','lightblue','lightblue','blue'])\n",
    "g.set_title(\"Postulaciones por nivel laboral\", \n",
    "                                  fontsize = 20)\n",
    "g.set_xlabel(\"Cantidad\", fontsize = 15, \n",
    "                                   weight = 'bold')\n",
    "g.set_ylabel(\"Nivel laboral\", fontsize = 15,\n",
    "                                   weight = 'bold')"
   ]
  },
  {
   "cell_type": "markdown",
   "metadata": {},
   "source": [
    "Como se puede ver, ambos gráficos son de aspecto similar, por lo que se mantiene la relación de oferta y demanda para los diferentes niveles laborales. Claramente el nivel mas apuntado por las empresas a la hora de buscar postulantes es Senior / Semi-Senior, y a su vez es el nivel con mayor demanda, lo que puede indicar que es el sector mas activo del mundo laboral."
   ]
  },
  {
   "cell_type": "markdown",
   "metadata": {},
   "source": [
    "#  ¿Como es la relacion entre oferta y demanda en las diferentes areas laborales?"
   ]
  },
  {
   "cell_type": "code",
   "execution_count": null,
   "metadata": {},
   "outputs": [],
   "source": [
    "#Comenzamos con un grafico que muestra el Top 10 de areas con mas avisos.\n",
    "g = avisos_detalle_df['nombre_area'].value_counts().head(10).sort_values().plot(kind =\n",
    "'barh',color = ['lightblue','lightblue','lightblue','lightblue','lightblue',\n",
    "'lightblue','lightblue','lightblue','lightblue','blue'])\n",
    "g.set_title(\"Top 10 areas con mas avisos\", fontsize = 20)\n",
    "g.set_xlabel(\"Cantidad\",fontsize = 15, weight = 'bold')\n",
    "g.set_ylabel(\"Area\", fontsize = 15, weight = 'bold')"
   ]
  },
  {
   "cell_type": "code",
   "execution_count": null,
   "metadata": {},
   "outputs": [],
   "source": [
    "#Ahora lo mismo pero para las potulaciones.\n",
    "g = merge_detalle_postulaciones_df['nombre_area'].value_counts().head(10).sort_values().plot(kind =\n",
    "'barh',color = ['lightblue','lightblue','lightblue','lightblue','lightblue','lightblue','lightblue',\n",
    "'lightblue','lightblue','blue'])\n",
    "g.set_title(\"Top 10 areas con mas postulaciones\", fontsize = 20)\n",
    "g.set_xlabel(\"Cantidad\",fontsize = 15, weight = 'bold')\n",
    "g.set_ylabel(\"Area\", fontsize = 15, weight = 'bold')"
   ]
  },
  {
   "cell_type": "markdown",
   "metadata": {},
   "source": [
    "Empezamos a relacionar la cantidad de postulaciones con la cantidad de avisos. La condicion esta dada por el 25% del promedio de avisos aproximadamente."
   ]
  },
  {
   "cell_type": "code",
   "execution_count": null,
   "metadata": {},
   "outputs": [],
   "source": [
    "merge = avisos_detalle_df['nombre_area'].value_counts().to_frame().reset_index()\n",
    "columnas = ['nombre_area','cantidad_avisos']\n",
    "merge.columns = columnas\n",
    "merge = merge[(merge['cantidad_avisos']) > 30]\n",
    "merge.head()"
   ]
  },
  {
   "cell_type": "code",
   "execution_count": null,
   "metadata": {},
   "outputs": [],
   "source": [
    "df = merge_detalle_postulaciones_df['nombre_area'].value_counts().to_frame().reset_index()\n",
    "columnas = ['nombre_area','cantidad_postulaciones']\n",
    "df.columns = columnas\n",
    "\n",
    "df.head()"
   ]
  },
  {
   "cell_type": "code",
   "execution_count": null,
   "metadata": {},
   "outputs": [],
   "source": [
    "merge = merge.merge(df, on = 'nombre_area')\n",
    "merge.head()"
   ]
  },
  {
   "cell_type": "code",
   "execution_count": null,
   "metadata": {},
   "outputs": [],
   "source": [
    "#Obtenemos la relacion postulaciones/avisos.\n",
    "merge['postulaciones/avisos'] = ( merge['cantidad_postulaciones'] ) / (merge['cantidad_avisos'] )\n",
    "\n",
    "merge.head()"
   ]
  },
  {
   "cell_type": "code",
   "execution_count": null,
   "metadata": {},
   "outputs": [],
   "source": [
    "#Grafico de relacion entre cantidad de postulaciones y cantidad de avisos por nombre de area.\n",
    "g = merge.groupby('nombre_area').agg({'postulaciones/avisos'\n",
    ": 'sum'}).sort_values(by = 'postulaciones/avisos',\n",
    "ascending = False).head(10).sort_values(by='postulaciones/avisos').plot(kind =\n",
    "'barh',figsize = (12,8),legend = False)\n",
    "g.set_title('Top 10 areas con mas postulaciones por aviso', fontsize=20)\n",
    "g.set_xlabel(\"Postulaciones/avisos\", fontsize = 15, weight = 'bold')\n",
    "g.set_ylabel(\"Area\", fontsize = 15, weight = 'bold')"
   ]
  },
  {
   "cell_type": "code",
   "execution_count": null,
   "metadata": {},
   "outputs": [],
   "source": [
    "g = merge.groupby('nombre_area').agg({'postulaciones/avisos' : 'sum'}).sort_values(by = 'postulaciones/avisos',\n",
    "ascending = False).tail(10).plot(kind = 'barh',figsize = (12,8),legend = False)\n",
    "g.set_title('Top 10 areas con menor postulaciones por aviso', fontsize=20)\n",
    "g.set_xlabel(\"Postulaciones/avisos\", fontsize = 15, weight = 'bold')\n",
    "g.set_ylabel(\"Area\", fontsize = 15, weight = 'bold')"
   ]
  },
  {
   "cell_type": "markdown",
   "metadata": {},
   "source": [
    "Conclusión: Programacion es el area que menor demanda tiene en relacion a su oferta, siendo que por cada aviso relacionado a programacion en promedio se postulan menos de 20 personas, en contraste con Recepcionista, a la cual por cada aviso se postulan en promedio mas de 800 personas.\n",
    "Tambien se observa que el mayor volumen de postulaciones se obtienen por trabajos no calificados, mientras que los que menos postulaciones tienen lo son (en mayor medida relacionados al rubro de la informatica)."
   ]
  },
  {
   "cell_type": "markdown",
   "metadata": {},
   "source": [
    "# ¿Alguna empresa esta acaparando mas postulaciones que las demás en relacion con su cantidad de avisos?"
   ]
  },
  {
   "cell_type": "code",
   "execution_count": null,
   "metadata": {},
   "outputs": [],
   "source": [
    "g = avisos_detalle_df['denominacion_empresa'].value_counts().head(10).sort_values().plot(kind =\n",
    "'barh', color = ['lightblue','lightblue','lightblue','lightblue','lightblue','lightblue',\n",
    "'lightblue','lightblue','lightblue','blue'])\n",
    "g.set_title(\"Top 10 Empresas Con Mas Avisos\", fontsize = 20)\n",
    "g.set_xlabel('Cantidad', fontsize = 15, weight = 'bold')\n",
    "g.set_ylabel('Empresas', fontsize = 15, weight = 'bold')"
   ]
  },
  {
   "cell_type": "code",
   "execution_count": null,
   "metadata": {},
   "outputs": [],
   "source": [
    "g = merge_detalle_postulaciones_df['denominacion_empresa'].value_counts().head(10).sort_values().plot(kind =\n",
    "'barh', color = ['lightblue','lightblue','lightblue','lightblue','lightblue','lightblue','lightblue',\n",
    "'lightblue','lightblue','blue'])\n",
    "g.set_title(\"Top 10 Empresas Con Mas Postulaciones\", fontsize = 20)\n",
    "g.set_xlabel('Cantidad', fontsize = 15, weight = 'bold')\n",
    "g.set_ylabel('Empresas', fontsize = 15, weight = 'bold')"
   ]
  },
  {
   "cell_type": "markdown",
   "metadata": {},
   "source": [
    "Ahora vemos la relacion entre postulaciones y avisos pero con las empresas."
   ]
  },
  {
   "cell_type": "code",
   "execution_count": null,
   "metadata": {},
   "outputs": [],
   "source": [
    "#Teniendo en cuenta la ecuacion de Moivre, la desviacion estandard y el promedio de avisos\n",
    "#por empresas, decidmos filtrar por empresas con mas de 20 avisos.\n",
    "merge = avisos_detalle_df['denominacion_empresa'].value_counts().reset_index()\n",
    "columnas = ['denominacion_empresa','cantidad_avisos']\n",
    "merge.columns = columnas\n",
    "print(merge['cantidad_avisos'].describe())\n",
    "merge = merge[ (merge['cantidad_avisos'] > 20 ) ]\n",
    "merge.head()"
   ]
  },
  {
   "cell_type": "code",
   "execution_count": null,
   "metadata": {},
   "outputs": [],
   "source": [
    "df = merge_detalle_postulaciones_df['denominacion_empresa'].value_counts().reset_index()\n",
    "columnas = ['denominacion_empresa','cantidad_postulaciones']\n",
    "df.columns = columnas\n",
    "df.head()"
   ]
  },
  {
   "cell_type": "code",
   "execution_count": null,
   "metadata": {},
   "outputs": [],
   "source": [
    "merge = merge.merge(df, on = 'denominacion_empresa')\n",
    "merge.head()"
   ]
  },
  {
   "cell_type": "code",
   "execution_count": null,
   "metadata": {},
   "outputs": [],
   "source": [
    "#Obtenemos la relacion.\n",
    "merge['postulaciones/avisos'] = ( merge['cantidad_postulaciones'] / merge['cantidad_avisos'])\n",
    "merge.head()"
   ]
  },
  {
   "cell_type": "code",
   "execution_count": null,
   "metadata": {},
   "outputs": [],
   "source": [
    "#Grafico de relacion entre postulaciones y avisos.\n",
    "g = merge.groupby('denominacion_empresa').agg({'postulaciones/avisos' : 'sum'}).sort_values(by =\n",
    "'postulaciones/avisos', ascending = False).head(10).sort_values(by =\n",
    "'postulaciones/avisos').plot(kind = 'barh',legend = False)\n",
    "g.set_title('Top 10 empresas con mas postulaciones por aviso', fontsize = 20)\n",
    "g.set_xlabel('Cantidad', fontsize = 15, weight = 'bold')\n",
    "g.set_ylabel('Empresas', fontsize = 15, weight = 'bold')\n",
    "#Grafico de relacion entre postulaciones y avisos (por empresa)"
   ]
  },
  {
   "cell_type": "code",
   "execution_count": null,
   "metadata": {},
   "outputs": [],
   "source": [
    "g = merge.groupby('denominacion_empresa').agg({'postulaciones/avisos' : 'sum'}).sort_values(by =\n",
    "'postulaciones/avisos', ascending = False).tail(10).plot(kind = 'barh', legend = False)\n",
    "g.set_title('Top 10 empresas con menos postulaciones por aviso', fontsize = 20)\n",
    "g.set_xlabel('Cantidad', fontsize = 15, weight = 'bold')\n",
    "g.set_ylabel('Empresas', fontsize = 15, weight = 'bold')\n",
    "#Grafico de relacion entre postulaciones y avisos (por empresa)"
   ]
  },
  {
   "cell_type": "markdown",
   "metadata": {},
   "source": [
    "Nuevamente, las empresas relacionadas a informatica son las que menor cantidad de postulantes tienen."
   ]
  },
  {
   "cell_type": "markdown",
   "metadata": {},
   "source": [
    "# ¿Cual es el rango de edad con mas postulaciones? ¿Cual es el promedio de edad de los postulantes para cada nivel laboral?"
   ]
  },
  {
   "cell_type": "markdown",
   "metadata": {},
   "source": [
    "Para hallar la relacion entre nivel laboral y edad media de los postulantes se descartan los usuarios con fechas nulas o incorrectas."
   ]
  },
  {
   "cell_type": "code",
   "execution_count": null,
   "metadata": {},
   "outputs": [],
   "source": [
    "print('Cantidad original: 196138')\n",
    "print('')\n",
    "print('Fechas incorrectas :')\n",
    "print(postulantes_gye_df[postulantes_gye_df['fechanacimiento'].str.startswith('00')])\n",
    "print('')\n",
    "print('Cantidad de fechas incorrectas: ' \n",
    ", postulantes_gye_df[postulantes_gye_df['fechanacimiento'].str.startswith('00')].shape)\n",
    "df = postulantes_gye_df[ (postulantes_gye_df['fechanacimiento'].str.startswith('00')) == False]\n",
    "print('')\n",
    "print('Cantidad sin fechas incorrectas : ', df.shape)\n"
   ]
  },
  {
   "cell_type": "code",
   "execution_count": null,
   "metadata": {},
   "outputs": [],
   "source": [
    "#Ahora, sin las fechas incorrectas, puedo calcular la edad promedio. \n",
    "df.loc[:,'fechanacimiento'] = pd.to_datetime(df['fechanacimiento']) \n",
    "df.info()"
   ]
  },
  {
   "cell_type": "code",
   "execution_count": null,
   "metadata": {},
   "outputs": [],
   "source": [
    "#Calculo la edad de los postulantes y agrego la columna.\n",
    "df.loc[:,'edad'] = (2018 - df.fechanacimiento.dt.year)\n",
    "df.head()"
   ]
  },
  {
   "cell_type": "code",
   "execution_count": null,
   "metadata": {},
   "outputs": [],
   "source": [
    "#Hay postulantes con edades anormales, tambien los saco\n",
    "print('Postualantes con edad incorrecta: ')\n",
    "print(df[ ( df['edad'] > 70) | (df['edad'] < 18) ])\n",
    "\n",
    "df = df[ ( (df['edad'] > 70) | (df['edad'] < 18) ) == False ]\n",
    "\n"
   ]
  },
  {
   "cell_type": "code",
   "execution_count": null,
   "metadata": {},
   "outputs": [],
   "source": [
    "#Visualizacion de las postulaciones segun la edad del postulante.\n",
    "g = df.edad.value_counts().sort_index().plot()\n",
    "g.set_title('Postulantes por edad', fontsize=18)\n",
    "g.set_xlabel('Edad', fontsize = 15, weight = 'bold')\n",
    "g.set_ylabel('Cantidad', fontsize = 15, weight = 'bold')"
   ]
  },
  {
   "cell_type": "code",
   "execution_count": null,
   "metadata": {},
   "outputs": [],
   "source": [
    "#Ahora junto la informacion de las edades con el data frame de postulaciones-avisos.\n",
    "merge = merge_detalle_postulaciones_df.merge(df, on = 'idpostulante')\n",
    "merge.head()\n",
    "print(merge.shape)"
   ]
  },
  {
   "cell_type": "code",
   "execution_count": null,
   "metadata": {},
   "outputs": [],
   "source": [
    "#Relaizamos un grafico de barras para mostrar la edad promedio de cada nivel laboral.\n",
    "g = merge.groupby('nivel_laboral').agg({'edad':'mean'}).sort_values(by\n",
    "= 'edad').plot(kind = 'barh', legend = False)\n",
    "g.set_title('Promedio de edades en cada nivel laboral', fontsize = 20)\n",
    "g.set_xlabel('Edad', fontsize = 15, weight = 'bold')\n",
    "g.set_ylabel('Nivel laboral', fontsize = 15, weight = 'bold')"
   ]
  },
  {
   "cell_type": "code",
   "execution_count": null,
   "metadata": {},
   "outputs": [],
   "source": [
    "#ANUNCIOS POR EMPRESA\n",
    "df = avisos_detalle_df['denominacion_empresa'].value_counts().to_frame().reset_index()\n",
    "\n",
    "menos_de_20 = df[df['denominacion_empresa']<= 20]\n",
    "menos_de_20 = menos_de_20['denominacion_empresa'].sum()\n",
    "\n",
    "mas_de_100 = df[df['denominacion_empresa'] >= 100]\n",
    "mas_de_100 = mas_de_100['denominacion_empresa'].sum()\n",
    "\n",
    "otros = df[(df['denominacion_empresa'] > 20)\n",
    "&(df['denominacion_empresa'] < 100) ]\n",
    "otros = otros['denominacion_empresa'].sum()\n",
    "\n"
   ]
  },
  {
   "cell_type": "markdown",
   "metadata": {},
   "source": [
    "# Anuncios por empresa"
   ]
  },
  {
   "cell_type": "code",
   "execution_count": null,
   "metadata": {},
   "outputs": [],
   "source": [
    "pie_chart = plt.pie([otros,mas_de_100,menos_de_20],\n",
    "labels = ['Entre 20 y 100 anuncios','Mas de 100 Anuncios','Menos de 20 Anuncios'],\n",
    "shadow=True,startangle=90,radius=1.3,explode=(0.1,0.1,0.1),autopct='%1.0f%%')"
   ]
  },
  {
   "cell_type": "code",
   "execution_count": null,
   "metadata": {},
   "outputs": [],
   "source": [
    "#Trabajar con las postulaciones unicamente."
   ]
  },
  {
   "cell_type": "code",
   "execution_count": null,
   "metadata": {},
   "outputs": [],
   "source": [
    "postulaciones_df['fechapostulacion'] = pd.to_datetime(postulaciones_df['fechapostulacion'])\n",
    "g = postulaciones_df['fechapostulacion'].dt.hour.value_counts().sort_index().plot(xticks=range(24))\n",
    "g.set_title('Postulaciones segun hora del dia', fontsize = 20)\n",
    "g.set_xlabel('Hora del dia', fontsize = 15, weight = 'bold')\n",
    "g.set_ylabel('Cantidad', fontsize = 15, weight = 'bold')"
   ]
  },
  {
   "cell_type": "markdown",
   "metadata": {},
   "source": [
    "Viendo el grafico se puede notar que el rango horario mas activo en cuanto a postulaciones es la media mañana. El flujo de gente que ingresa en este horario al sitio es considerable."
   ]
  },
  {
   "cell_type": "code",
   "execution_count": null,
   "metadata": {},
   "outputs": [],
   "source": [
    "df = postulantes_edu_df.merge(postulaciones_df, on='idpostulante')\n",
    "df['cantidad'] = 1\n",
    "df.groupby('nombre').agg({'cantidad':'count'}).sort_values(by = 'cantidad')"
   ]
  },
  {
   "cell_type": "code",
   "execution_count": null,
   "metadata": {},
   "outputs": [],
   "source": [
    "g = df.groupby('nombre').agg({'cantidad':'count'}).sort_values(by =\n",
    "'cantidad').plot(kind = 'barh', legend = False)\n",
    "g.set_title('Postulaciones segun el nivel academico', fontsize = 18)\n",
    "g.set_xlabel('Cantidad de postulaciones', fontsize = 15, weight = 'bold')\n",
    "g.set_ylabel('Nivel academico', fontsize = 15, weight = 'bold')"
   ]
  },
  {
   "cell_type": "code",
   "execution_count": null,
   "metadata": {},
   "outputs": [],
   "source": [
    "g = df.groupby('estado').agg({'cantidad':'count'}).plot(kind =\n",
    "'bar', legend = False)\n",
    "g.set_title('Postulaciones segun estado academico actual',\n",
    "fontsize = 20)\n",
    "g.set_xlabel('Estado', fontsize = 15, weight = 'bold')\n",
    "g.set_ylabel('Cantidad', fontsize = 15, weight = 'bold')"
   ]
  },
  {
   "cell_type": "markdown",
   "metadata": {},
   "source": [
    "El mayor flujo de postulaciones lo dan los postulantes graduados."
   ]
  },
  {
   "cell_type": "code",
   "execution_count": null,
   "metadata": {},
   "outputs": [],
   "source": [
    "df = postulantes_gye_df.merge(postulaciones_df, on='idpostulante')\n",
    "g = df['sexo'].value_counts().sort_values().plot('bar', color = \n",
    "            ['darkblue','pink'], rot = 0)\n",
    "g.set_title('Postulaciones segun el genero', fontsize = 20)\n",
    "g.set_ylabel('Cantidad', fontsize = 15, weight = 'bold')"
   ]
  },
  {
   "cell_type": "markdown",
   "metadata": {},
   "source": [
    "# Ahora queremos ver la relaciones entre las vistas y las postulaciones."
   ]
  },
  {
   "cell_type": "code",
   "execution_count": null,
   "metadata": {},
   "outputs": [],
   "source": [
    "postulaciones_df['fechapostulacion'] = pd.to_datetime(postulaciones_df['fechapostulacion'] )"
   ]
  },
  {
   "cell_type": "code",
   "execution_count": null,
   "metadata": {},
   "outputs": [],
   "source": [
    "postulaciones_df['fechapostulacion'].dt.month.value_counts()"
   ]
  },
  {
   "cell_type": "code",
   "execution_count": null,
   "metadata": {},
   "outputs": [],
   "source": [
    "vistas_df['timestamp'].dt.month.value_counts()"
   ]
  },
  {
   "cell_type": "markdown",
   "metadata": {},
   "source": [
    "Observamos que solo hay datos en comun en el mes de febrero."
   ]
  },
  {
   "cell_type": "code",
   "execution_count": null,
   "metadata": {},
   "outputs": [],
   "source": [
    "#Observamos que la informacion disponible es de solo la ultima semana de febrero,\n",
    "#por lo tanto filtramos las postulaciones para esa fecha.\n",
    "#Filtramos los dias que tienen datos incompletos \n",
    "#(viernes 23 de febrero y jueves 1 de marzo).\n",
    "postulaciones_filtradas = postulaciones_df[(postulaciones_df['fechapostulacion'].dt.month == 2 )\n",
    "& ((postulaciones_df['fechapostulacion'].dt.day > 23) \n",
    "& ( postulaciones_df['fechapostulacion'].dt.day < 29)) ]\n",
    "vistas = vistas_df[(vistas_df['timestamp'].dt.month == 2 ) \n",
    "& ((vistas_df['timestamp'].dt.day > 23) \n",
    "& ( vistas_df['timestamp'].dt.day < 29)) ]\n",
    "postulaciones_filtradas.head()"
   ]
  },
  {
   "cell_type": "code",
   "execution_count": null,
   "metadata": {},
   "outputs": [],
   "source": [
    "fig = plt.figure() #Creates a figure for the next plot, then disapears\n",
    "\n",
    "ax = fig.add_subplot(111)#Form and background\n",
    "\n",
    "plt.title('Tendencia de postulaciones y vistas segun la hora',\n",
    "    fontsize=16,fontweight='bold')\n",
    "\n",
    "ax.set_xlabel('Horas del dia',fontsize=16)\n",
    "\n",
    "\n",
    "vistas['timestamp'].dt.hour.value_counts().sort_index().plot(color='red',\n",
    "            label = 'Vistas', legend= True,xticks=range(24))\n",
    "postulaciones_filtradas['fechapostulacion'].dt.hour.value_counts().sort_index().plot(color=\n",
    "'blue',figsize=(14,10), legend = True, label = 'Postulaciones')#Density plot\n",
    "ax.set_ylabel('Cantidad',fontsize=16,)"
   ]
  },
  {
   "cell_type": "markdown",
   "metadata": {},
   "source": [
    "En este grafico notamos una irregularidad entre las 5 y las 10 horas. Suponemos que la gran diferencia de vistas y postulaciones se debe a la forma en la que se recopilan los datos. Por ejemplo, puede ser que a la hora de postularse en un aviso, no se cuente la vista al mismo."
   ]
  },
  {
   "cell_type": "code",
   "execution_count": null,
   "metadata": {},
   "outputs": [],
   "source": [
    "#Ahora empezamos a trabajar con los datos para analizar por día.\n",
    "vistas  = vistas['timestamp'].dt.weekday_name.to_frame()\n",
    "vistas['timestamp'] = pd.Categorical(vistas['timestamp'],\n",
    "categories=['Monday','Tuesday','Wednesday','Saturday', 'Sunday'], ordered=True)\n",
    "postulaciones_filtradas = postulaciones_filtradas['fechapostulacion'].dt.weekday_name.to_frame()\n",
    "postulaciones_filtradas['fechapostulacion'] =pd.Categorical(postulaciones_filtradas['fechapostulacion'], categories=['Monday','Tuesday','Wednesday','Saturday', 'Sunday'], ordered=True)"
   ]
  },
  {
   "cell_type": "code",
   "execution_count": null,
   "metadata": {},
   "outputs": [],
   "source": [
    "print(postulaciones_filtradas['fechapostulacion'].value_counts().sort_index())\n",
    "print()\n",
    "print(vistas['timestamp'].value_counts().sort_index())"
   ]
  },
  {
   "cell_type": "code",
   "execution_count": null,
   "metadata": {},
   "outputs": [],
   "source": [
    "\n",
    "df = vistas['timestamp'].value_counts().to_frame()\n",
    "df['postulaciones'] = postulaciones_filtradas['fechapostulacion'].value_counts()\n",
    "df.columns = ['vistas','postulaciones']\n",
    "\n",
    "df.sort_index(inplace=True)\n",
    "df.head()\n"
   ]
  },
  {
   "cell_type": "code",
   "execution_count": null,
   "metadata": {},
   "outputs": [],
   "source": [
    "g = df.plot(kind='bar', rot = 45)\n",
    "g.set_title('Cantidad de vistas y postulaciones por dia', fontsize = 20)\n",
    "g.set_ylabel('Cantidad', fontsize = 15, weight = 'bold')\n",
    "\n",
    "\n"
   ]
  },
  {
   "cell_type": "markdown",
   "metadata": {},
   "source": [
    "Viendo solo una cantidad muy limitada de datos de algunos dias de febrero, podemos observar que la cantidad tanto de vistas como postulaciones disminuye considerablemente el fin de semana."
   ]
  },
  {
   "cell_type": "code",
   "execution_count": null,
   "metadata": {
    "scrolled": true
   },
   "outputs": [],
   "source": [
    "#vistas promedio por persona en el rango dado\n",
    "\n",
    "vistas_df['cantidad'] = 1\n",
    "vistas_per_capita = vistas_df.groupby('idpostulante').agg({'cantidad':'count'})\n",
    "vistas_per_capita['cantidad'].mean()"
   ]
  },
  {
   "cell_type": "markdown",
   "metadata": {},
   "source": [
    "# ¿Las palabras en los títulos de los avisos pueden predecir o atraer postulaciones?"
   ]
  },
  {
   "cell_type": "code",
   "execution_count": null,
   "metadata": {},
   "outputs": [],
   "source": [
    "from collections import Counter\n",
    "#Hacemos una lista con todas las palabras que aparecen en los titulos \n",
    "#y sus apariciones, sacando los chars \"( ) ,\"\n",
    "contador_palabras_avisos = Counter(\" \".join(avisos_detalle_df['titulo'].\\\n",
    "values.tolist()).lower().replace(\"(\",'').replace(\")\",'').replace(\",\",' ').split(\" \")).items()\n",
    "\n",
    "#Formo un DF con esa lista\n",
    "\n",
    "contador_palabras_avisos = list(contador_palabras_avisos)\n",
    "\n",
    "\n",
    "contador_palabras_avisos_df = pd.DataFrame(contador_palabras_avisos)\n",
    "contador_palabras_avisos_df.head()\n",
    "\n",
    "contador_palabras_avisos_df.columns=['palabra','apariciones']\n",
    "contador_palabras_avisos_df=contador_palabras_avisos_df.set_index('palabra')\n",
    "\n",
    "#Saco los adverbios del df\n",
    "adverbios=['','-','de','con','en','y','a','para','la','al','los','/']\n",
    "contador_palabras_avisos_df=contador_palabras_avisos_df.drop(adverbios)"
   ]
  },
  {
   "cell_type": "code",
   "execution_count": null,
   "metadata": {},
   "outputs": [],
   "source": [
    "plot = contador_palabras_avisos_df.sort_values(by='apariciones',ascending=False).\\\n",
    "head(20).sort_values(by='apariciones').plot(kind='barh', legend = False, figsize = (12,8))\n",
    "plot.set_title('Palabras mas frecuentes en titulos de avisos', fontsize = 20)\n",
    "plot.set_xlabel('Apariciones', fontsize = 15, weight = 'bold')\n",
    "plot.set_ylabel('Palabras', fontsize = 15, weight = 'bold')"
   ]
  },
  {
   "cell_type": "code",
   "execution_count": null,
   "metadata": {},
   "outputs": [],
   "source": [
    "#Por cada postulacion contamos las palabras que aparecen en el titulo \n",
    "#del aviso al que se postularon\n",
    "contador_palabras_postulaciones = Counter(\" \".join(merge_detalle_postulaciones_df['titulo']\\\n",
    ".values.tolist()).lower().replace(\"(\",'').replace(\")\",'').strip(\")\").replace(\")\",'')\\\n",
    ".replace(\",\",' ').split(\" \")).items()\n",
    "\n",
    "contador_palabras_postulaciones = list(contador_palabras_postulaciones)\n",
    "\n",
    "\n",
    "contador_palabras_postulaciones_df=pd.DataFrame(contador_palabras_postulaciones)\n",
    "\n",
    "contador_palabras_postulaciones_df.columns=['palabra','apariciones']\n",
    "contador_palabras_postulaciones_df=contador_palabras_postulaciones_df.set_index('palabra')\n",
    "\n",
    "contador_palabras_postulaciones_df=contador_palabras_postulaciones_df.drop(adverbios)\n"
   ]
  },
  {
   "cell_type": "code",
   "execution_count": null,
   "metadata": {},
   "outputs": [],
   "source": [
    "plot = contador_palabras_postulaciones_df.sort_values(by='apariciones',ascending=False)\\\n",
    ".head(20).sort_values(by='apariciones').plot(kind='barh', legend = False, figsize = (12,8))\n",
    "plot.set_title('Palabras mas frecuentes en titulos de avisos a los que se postularon',\n",
    "fontsize = 20)\n",
    "plot.set_xlabel('Apariciones', fontsize = 15, weight = 'bold')\n",
    "plot.set_ylabel('Palabras', fontsize = 15, weight = 'bold')"
   ]
  },
  {
   "cell_type": "code",
   "execution_count": null,
   "metadata": {},
   "outputs": [],
   "source": [
    "# Nos quedamos con las palabras que figuran en al menos 20 avisos\n",
    "contador_palabras_avisos_df_filtrado=contador_palabras_avisos_df\\\n",
    ".loc[contador_palabras_avisos_df['apariciones']>=20]\n",
    "\n",
    "efectividad_palabras_df = contador_palabras_postulaciones_df.sort_values(by='apariciones',ascending=False) / contador_palabras_avisos_df_filtrado.sort_values(by='apariciones',ascending=False)\n",
    "efectividad_palabras_df = efectividad_palabras_df.dropna()\n",
    "efectividad_palabras_df.columns=['postulaciones/avisos']"
   ]
  },
  {
   "cell_type": "code",
   "execution_count": null,
   "metadata": {},
   "outputs": [],
   "source": [
    "plot = efectividad_palabras_df.sort_values(by='postulaciones/avisos',ascending= False)\\\n",
    ".tail(20).plot(kind='barh', figsize = (12,8),legend = False)\n",
    "plot.set_title('Palabras que menos postulaciones atraen', fontsize = 20)\n",
    "plot.set_xlabel('Postulaciones/avisos', fontsize = 15, weight = 'bold')\n",
    "plot.set_ylabel('Palabras', fontsize = 15, weight = 'bold')\n"
   ]
  },
  {
   "cell_type": "code",
   "execution_count": null,
   "metadata": {},
   "outputs": [],
   "source": [
    "plot = efectividad_palabras_df.sort_values(by='postulaciones/avisos',ascending= False)\\\n",
    ".head(20).sort_values(by='postulaciones/avisos').plot(kind='barh', figsize = (12,8))\n",
    "plot.set_title('Palabras que mas postulaciones atraen', fontsize = 20)\n",
    "plot.set_xlabel('Postulaciones/avisos', fontsize = 15, weight = 'bold')\n",
    "plot.set_ylabel('Palabras', fontsize = 15, weight = 'bold')\n"
   ]
  },
  {
   "cell_type": "markdown",
   "metadata": {},
   "source": [
    "Algunas conclusiones: Puede verse que el empleo de cajero tiene significativamente más postulaciones por aviso que los demás, lo que explica el por qué el area de ventas figura en la primer posicion del top de areas con mas postulaciones. Tambien puede verse que los anuncios con palabras relacionadas a programación tienen relativamente muy pocas postulaciones (¿Algo bueno para nosotros?). Ademas, si bien analista es la palabra que mas aparece en los titulos de las postulaciones, esto seguramente se deba a que es la que mas figura en todos los avisos en general."
   ]
  },
  {
   "cell_type": "markdown",
   "metadata": {},
   "source": [
    "# Mas graficos con informacion de postulaciones y vistas."
   ]
  },
  {
   "cell_type": "markdown",
   "metadata": {},
   "source": [
    " Comenzamos a trabajar los datos para generar un heatmap.\n",
    " Primero mostrando las vistas segun el horario y el dia de la semana.\n",
    " Luego las postulaciones segun el horario y dia de la semana."
   ]
  },
  {
   "cell_type": "code",
   "execution_count": null,
   "metadata": {},
   "outputs": [],
   "source": [
    "vistas_df.rename(columns={'idAviso': 'idaviso'}, inplace= True)\n",
    "df= avisos_detalle_df.merge(vistas_df, on= 'idaviso')\n",
    "df['timestamp'] =pd.to_datetime(df['timestamp'])\n",
    "df['Weekday'] = df['timestamp'].map(lambda x:x.weekday_name)\n",
    "df['Hour']=df['timestamp'].dt.hour\n",
    "df['count']= 1"
   ]
  },
  {
   "cell_type": "code",
   "execution_count": null,
   "metadata": {},
   "outputs": [],
   "source": [
    "for_heatmap = df.pivot_table(index='Hour', columns='Weekday',\n",
    "                    values='count', aggfunc='sum')\n",
    "for_heatmap = for_heatmap.reindex(['Monday','Tuesday','Wednesday','Saturday','Sunday'], axis=1)"
   ]
  },
  {
   "cell_type": "code",
   "execution_count": null,
   "metadata": {},
   "outputs": [],
   "source": [
    "g = sns.heatmap(for_heatmap,linewidths=.5,  cmap=\"YlGnBu\")\n",
    "g.set_title(\"Cantidad de vistas por hora y dia de la semana\", fontsize=22)\n",
    "g.set_xlabel(\"Dia de la Semana \",fontsize=18)\n",
    "g.set_ylabel(\" Hora de vista\", fontsize=18)"
   ]
  },
  {
   "cell_type": "code",
   "execution_count": null,
   "metadata": {},
   "outputs": [],
   "source": [
    "df = postulaciones_df['fechapostulacion'].to_frame()\n",
    "\n",
    "df['fechapostulacion'] =pd.to_datetime(df['fechapostulacion'])\n",
    "df['Weekday'] = df['fechapostulacion'].map(lambda x:x.weekday_name)\n",
    "df['Hour']=df['fechapostulacion'].dt.hour\n",
    "df['count']= 1\n"
   ]
  },
  {
   "cell_type": "code",
   "execution_count": null,
   "metadata": {},
   "outputs": [],
   "source": [
    "for_heatmap = df.pivot_table(index='Hour', columns='Weekday',\n",
    "        values='count', aggfunc='sum')\n",
    "for_heatmap = for_heatmap.reindex(['Monday','Tuesday','Wednesday'\n",
    "        ,'Thursday','Friday','Saturday','Sunday'], axis=1)\n",
    "g = sns.heatmap(for_heatmap,linewidths=.5,  cmap=\"YlGnBu\")\n",
    "g.set_title(\"Cantidad de postulaciones efectivas por hora y dia de la semana\"\n",
    "    , fontsize=22)\n",
    "g.set_xlabel(\"Dia de la Semana \",fontsize=18)\n",
    "g.set_ylabel(\" Hora de vista\", fontsize=18)"
   ]
  },
  {
   "cell_type": "code",
   "execution_count": null,
   "metadata": {},
   "outputs": [],
   "source": [
    "df = vistas_df.merge(postulantes_gye_df, on='idpostulante')\n",
    "df['timestamp'] = pd.to_datetime(df['timestamp'] )\n",
    "df['timestamp'] = df['timestamp'].dt.hour\n",
    "plot = pd.crosstab(df.timestamp,df.sexo).plot(kind='bar',\n",
    "            figsize=(14,10),fontsize=20)\n",
    "plot.set_title('Vistas por Genero',fontsize=20)\n",
    "plot.set_xlabel('Hora', fontsize = 15, weight = 'bold')\n",
    "plot.set_ylabel('Cantidad', fontsize = 15, weight = 'bold')\n"
   ]
  },
  {
   "cell_type": "code",
   "execution_count": null,
   "metadata": {},
   "outputs": [],
   "source": [
    "df = postulaciones_df.merge(postulantes_gye_df, on='idpostulante')\n",
    "df['fechapostulacion'] = pd.to_datetime(df['fechapostulacion'] )\n",
    "df['fechapostulacion'] = df['fechapostulacion'].dt.weekday_name\n",
    "plot = pd.crosstab(df['fechapostulacion'],df['sexo'])\\\n",
    ".plot(kind='bar',figsize=(14,10),fontsize=20)\n",
    "plot.set_title('Genero vs Postulaciones',fontsize=20)\n",
    "plot.set_xlabel('Dia', fontsize = 15, weight = 'bold')\n",
    "plot.set_ylabel('Cantidad', fontsize = 15, weight = 'bold')"
   ]
  },
  {
   "cell_type": "code",
   "execution_count": null,
   "metadata": {},
   "outputs": [],
   "source": [
    "df = postulaciones_df.merge(avisos_detalle_df, on='idaviso')\n",
    "df['fechapostulacion'] =pd.to_datetime(df['fechapostulacion'])\n",
    "df['fechapostulacion'] =df['fechapostulacion'].dt.hour\n",
    "plot = pd.crosstab(df['fechapostulacion'],df['nivel_laboral'])\\\n",
    ".plot(kind='line',figsize=(10,8),xticks=range(24))\n",
    "plot.set_title('Vistas segun el nivel laboral por hora', fontsize = 20)\n",
    "plot.set_xlabel('Hora del dia', fontsize = 15, weight = 'bold')\n",
    "plot.set_ylabel('Cantidad', fontsize = 15, weight = 'bold')"
   ]
  },
  {
   "cell_type": "code",
   "execution_count": null,
   "metadata": {},
   "outputs": [],
   "source": []
  }
 ],
 "metadata": {
  "kernelspec": {
   "display_name": "Python 3",
   "language": "python",
   "name": "python3"
  },
  "language_info": {
   "codemirror_mode": {
    "name": "ipython",
    "version": 3
   },
   "file_extension": ".py",
   "mimetype": "text/x-python",
   "name": "python",
   "nbconvert_exporter": "python",
   "pygments_lexer": "ipython3",
   "version": "3.6.4"
  }
 },
 "nbformat": 4,
 "nbformat_minor": 2
}
