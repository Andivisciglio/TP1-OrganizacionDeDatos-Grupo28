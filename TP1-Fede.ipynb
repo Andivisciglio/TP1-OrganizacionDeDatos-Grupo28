{
 "cells": [
  {
   "cell_type": "code",
   "execution_count": 273,
   "metadata": {},
   "outputs": [],
   "source": [
    "import pandas as pd\n",
    "import numpy as np\n",
    "import matplotlib.pyplot as plt\n",
    "import seaborn as sns\n",
    "\n",
    "%matplotlib inline"
   ]
  },
  {
   "cell_type": "code",
   "execution_count": 274,
   "metadata": {},
   "outputs": [],
   "source": [
    "postulantes_edu_df = pd.read_csv('Navent/fiuba_1_postulantes_educacion.csv')\n",
    "postulantes_gye_df = pd.read_csv('Navent/fiuba_2_postulantes_genero_y_edad.csv')\n",
    "vistas_df = pd.read_csv('Navent/fiuba_3_vistas.csv')\n",
    "postulaciones_df = pd.read_csv('Navent/fiuba_4_postulaciones.csv')\n",
    "avisos_online_df = pd.read_csv('Navent/fiuba_5_avisos_online.csv') #No sirve\n",
    "avisos_detalle_df = pd.read_csv('Navent/fiuba_6_avisos_detalle.csv')"
   ]
  },
  {
   "cell_type": "code",
   "execution_count": 275,
   "metadata": {},
   "outputs": [
    {
     "name": "stdout",
     "output_type": "stream",
     "text": [
      "False    294668\n",
      "True       3563\n",
      "Name: fechanacimiento, dtype: int64\n"
     ]
    },
    {
     "data": {
      "text/html": [
       "<div>\n",
       "<style scoped>\n",
       "    .dataframe tbody tr th:only-of-type {\n",
       "        vertical-align: middle;\n",
       "    }\n",
       "\n",
       "    .dataframe tbody tr th {\n",
       "        vertical-align: top;\n",
       "    }\n",
       "\n",
       "    .dataframe thead th {\n",
       "        text-align: right;\n",
       "    }\n",
       "</style>\n",
       "<table border=\"1\" class=\"dataframe\">\n",
       "  <thead>\n",
       "    <tr style=\"text-align: right;\">\n",
       "      <th></th>\n",
       "      <th>idpostulante</th>\n",
       "      <th>nombre</th>\n",
       "      <th>estado</th>\n",
       "      <th>fechanacimiento</th>\n",
       "      <th>sexo</th>\n",
       "    </tr>\n",
       "  </thead>\n",
       "  <tbody>\n",
       "    <tr>\n",
       "      <th>0</th>\n",
       "      <td>NdJl</td>\n",
       "      <td>Posgrado</td>\n",
       "      <td>En Curso</td>\n",
       "      <td>1969-05-09</td>\n",
       "      <td>MASC</td>\n",
       "    </tr>\n",
       "    <tr>\n",
       "      <th>1</th>\n",
       "      <td>NdJl</td>\n",
       "      <td>Universitario</td>\n",
       "      <td>Graduado</td>\n",
       "      <td>1969-05-09</td>\n",
       "      <td>MASC</td>\n",
       "    </tr>\n",
       "    <tr>\n",
       "      <th>2</th>\n",
       "      <td>8BkL</td>\n",
       "      <td>Universitario</td>\n",
       "      <td>En Curso</td>\n",
       "      <td>1976-07-21</td>\n",
       "      <td>FEM</td>\n",
       "    </tr>\n",
       "    <tr>\n",
       "      <th>3</th>\n",
       "      <td>8BkL</td>\n",
       "      <td>Universitario</td>\n",
       "      <td>Graduado</td>\n",
       "      <td>1976-07-21</td>\n",
       "      <td>FEM</td>\n",
       "    </tr>\n",
       "    <tr>\n",
       "      <th>4</th>\n",
       "      <td>8BkL</td>\n",
       "      <td>Posgrado</td>\n",
       "      <td>Graduado</td>\n",
       "      <td>1976-07-21</td>\n",
       "      <td>FEM</td>\n",
       "    </tr>\n",
       "  </tbody>\n",
       "</table>\n",
       "</div>"
      ],
      "text/plain": [
       "  idpostulante         nombre    estado fechanacimiento  sexo\n",
       "0         NdJl       Posgrado  En Curso      1969-05-09  MASC\n",
       "1         NdJl  Universitario  Graduado      1969-05-09  MASC\n",
       "2         8BkL  Universitario  En Curso      1976-07-21   FEM\n",
       "3         8BkL  Universitario  Graduado      1976-07-21   FEM\n",
       "4         8BkL       Posgrado  Graduado      1976-07-21   FEM"
      ]
     },
     "execution_count": 275,
     "metadata": {},
     "output_type": "execute_result"
    }
   ],
   "source": [
    "merge_edu_gye_df = postulantes_edu_df.merge(postulantes_gye_df, on = 'idpostulante')\n",
    "print(merge_edu_gye_df.fechanacimiento.isnull().value_counts())\n",
    "merge_edu_gye_df.head()"
   ]
  },
  {
   "cell_type": "code",
   "execution_count": 276,
   "metadata": {},
   "outputs": [
    {
     "data": {
      "text/html": [
       "<div>\n",
       "<style scoped>\n",
       "    .dataframe tbody tr th:only-of-type {\n",
       "        vertical-align: middle;\n",
       "    }\n",
       "\n",
       "    .dataframe tbody tr th {\n",
       "        vertical-align: top;\n",
       "    }\n",
       "\n",
       "    .dataframe thead th {\n",
       "        text-align: right;\n",
       "    }\n",
       "</style>\n",
       "<table border=\"1\" class=\"dataframe\">\n",
       "  <thead>\n",
       "    <tr style=\"text-align: right;\">\n",
       "      <th></th>\n",
       "      <th>idaviso</th>\n",
       "      <th>idpais</th>\n",
       "      <th>titulo</th>\n",
       "      <th>descripcion</th>\n",
       "      <th>nombre_zona</th>\n",
       "      <th>ciudad</th>\n",
       "      <th>mapacalle</th>\n",
       "      <th>tipo_de_trabajo</th>\n",
       "      <th>nivel_laboral</th>\n",
       "      <th>nombre_area</th>\n",
       "      <th>denominacion_empresa</th>\n",
       "    </tr>\n",
       "  </thead>\n",
       "  <tbody>\n",
       "    <tr>\n",
       "      <th>0</th>\n",
       "      <td>8725750</td>\n",
       "      <td>1</td>\n",
       "      <td>VENDEDOR/A PROVINCIA DE SANTA FE</td>\n",
       "      <td>&lt;p&gt;&lt;strong&gt;&lt;strong&gt;Empresa:&lt;/strong&gt;&lt;/strong&gt; ...</td>\n",
       "      <td>Gran Buenos Aires</td>\n",
       "      <td>NaN</td>\n",
       "      <td>NaN</td>\n",
       "      <td>Full-time</td>\n",
       "      <td>Senior / Semi-Senior</td>\n",
       "      <td>Comercial</td>\n",
       "      <td>VENTOR</td>\n",
       "    </tr>\n",
       "    <tr>\n",
       "      <th>1</th>\n",
       "      <td>17903700</td>\n",
       "      <td>1</td>\n",
       "      <td>Enfermeras</td>\n",
       "      <td>&lt;p&gt;Solicitamos para importante cadena de farma...</td>\n",
       "      <td>Gran Buenos Aires</td>\n",
       "      <td>NaN</td>\n",
       "      <td>NaN</td>\n",
       "      <td>Full-time</td>\n",
       "      <td>Senior / Semi-Senior</td>\n",
       "      <td>Salud</td>\n",
       "      <td>Farmacias Central Oeste</td>\n",
       "    </tr>\n",
       "    <tr>\n",
       "      <th>2</th>\n",
       "      <td>1000150677</td>\n",
       "      <td>1</td>\n",
       "      <td>Chofer de taxi</td>\n",
       "      <td>&lt;p&gt;TE GUSTA MANEJAR? QUERES GANAR PLATA HACIEN...</td>\n",
       "      <td>Capital Federal</td>\n",
       "      <td>NaN</td>\n",
       "      <td>Empedrado 2336</td>\n",
       "      <td>Full-time</td>\n",
       "      <td>Senior / Semi-Senior</td>\n",
       "      <td>Transporte</td>\n",
       "      <td>FAMITAX SRL</td>\n",
       "    </tr>\n",
       "    <tr>\n",
       "      <th>3</th>\n",
       "      <td>1000610287</td>\n",
       "      <td>1</td>\n",
       "      <td>CHOFER DE CAMIONETA BAHIA BLANCA - PUNTA ALTA</td>\n",
       "      <td>&lt;p&gt;&lt;strong&gt;Somos una empresa multinacional que...</td>\n",
       "      <td>Gran Buenos Aires</td>\n",
       "      <td>NaN</td>\n",
       "      <td>NaN</td>\n",
       "      <td>Full-time</td>\n",
       "      <td>Senior / Semi-Senior</td>\n",
       "      <td>Transporte</td>\n",
       "      <td>Wurth Argentina S.A</td>\n",
       "    </tr>\n",
       "    <tr>\n",
       "      <th>4</th>\n",
       "      <td>1000872556</td>\n",
       "      <td>1</td>\n",
       "      <td>Operarios de Planta - Rubro Electrodomésticos</td>\n",
       "      <td>&lt;p&gt;&lt;strong&gt;OPERARIOS DE PLANTA&lt;/strong&gt;&lt;/p&gt;&lt;p&gt;...</td>\n",
       "      <td>Gran Buenos Aires</td>\n",
       "      <td>NaN</td>\n",
       "      <td>NaN</td>\n",
       "      <td>Full-time</td>\n",
       "      <td>Senior / Semi-Senior</td>\n",
       "      <td>Producción</td>\n",
       "      <td>ELECTRO OUTLET SRL</td>\n",
       "    </tr>\n",
       "  </tbody>\n",
       "</table>\n",
       "</div>"
      ],
      "text/plain": [
       "      idaviso  idpais                                         titulo  \\\n",
       "0     8725750       1               VENDEDOR/A PROVINCIA DE SANTA FE   \n",
       "1    17903700       1                                     Enfermeras   \n",
       "2  1000150677       1                                 Chofer de taxi   \n",
       "3  1000610287       1  CHOFER DE CAMIONETA BAHIA BLANCA - PUNTA ALTA   \n",
       "4  1000872556       1  Operarios de Planta - Rubro Electrodomésticos   \n",
       "\n",
       "                                         descripcion        nombre_zona  \\\n",
       "0  <p><strong><strong>Empresa:</strong></strong> ...  Gran Buenos Aires   \n",
       "1  <p>Solicitamos para importante cadena de farma...  Gran Buenos Aires   \n",
       "2  <p>TE GUSTA MANEJAR? QUERES GANAR PLATA HACIEN...    Capital Federal   \n",
       "3  <p><strong>Somos una empresa multinacional que...  Gran Buenos Aires   \n",
       "4  <p><strong>OPERARIOS DE PLANTA</strong></p><p>...  Gran Buenos Aires   \n",
       "\n",
       "  ciudad       mapacalle tipo_de_trabajo         nivel_laboral nombre_area  \\\n",
       "0    NaN             NaN       Full-time  Senior / Semi-Senior   Comercial   \n",
       "1    NaN             NaN       Full-time  Senior / Semi-Senior       Salud   \n",
       "2    NaN  Empedrado 2336       Full-time  Senior / Semi-Senior  Transporte   \n",
       "3    NaN             NaN       Full-time  Senior / Semi-Senior  Transporte   \n",
       "4    NaN             NaN       Full-time  Senior / Semi-Senior  Producción   \n",
       "\n",
       "      denominacion_empresa  \n",
       "0                   VENTOR  \n",
       "1  Farmacias Central Oeste  \n",
       "2              FAMITAX SRL  \n",
       "3      Wurth Argentina S.A  \n",
       "4       ELECTRO OUTLET SRL  "
      ]
     },
     "execution_count": 276,
     "metadata": {},
     "output_type": "execute_result"
    }
   ],
   "source": [
    "avisos_detalle_df.head()"
   ]
  },
  {
   "cell_type": "code",
   "execution_count": 277,
   "metadata": {},
   "outputs": [
    {
     "data": {
      "text/html": [
       "<div>\n",
       "<style scoped>\n",
       "    .dataframe tbody tr th:only-of-type {\n",
       "        vertical-align: middle;\n",
       "    }\n",
       "\n",
       "    .dataframe tbody tr th {\n",
       "        vertical-align: top;\n",
       "    }\n",
       "\n",
       "    .dataframe thead th {\n",
       "        text-align: right;\n",
       "    }\n",
       "</style>\n",
       "<table border=\"1\" class=\"dataframe\">\n",
       "  <thead>\n",
       "    <tr style=\"text-align: right;\">\n",
       "      <th></th>\n",
       "      <th>idaviso</th>\n",
       "      <th>idpostulante</th>\n",
       "      <th>fechapostulacion</th>\n",
       "    </tr>\n",
       "  </thead>\n",
       "  <tbody>\n",
       "    <tr>\n",
       "      <th>0</th>\n",
       "      <td>1112257047</td>\n",
       "      <td>NM5M</td>\n",
       "      <td>2018-01-15 16:22:34</td>\n",
       "    </tr>\n",
       "    <tr>\n",
       "      <th>1</th>\n",
       "      <td>1111920714</td>\n",
       "      <td>NM5M</td>\n",
       "      <td>2018-02-06 09:04:50</td>\n",
       "    </tr>\n",
       "    <tr>\n",
       "      <th>2</th>\n",
       "      <td>1112346945</td>\n",
       "      <td>NM5M</td>\n",
       "      <td>2018-02-22 09:04:47</td>\n",
       "    </tr>\n",
       "    <tr>\n",
       "      <th>3</th>\n",
       "      <td>1112345547</td>\n",
       "      <td>NM5M</td>\n",
       "      <td>2018-02-22 09:04:59</td>\n",
       "    </tr>\n",
       "    <tr>\n",
       "      <th>4</th>\n",
       "      <td>1112237522</td>\n",
       "      <td>5awk</td>\n",
       "      <td>2018-01-25 18:55:03</td>\n",
       "    </tr>\n",
       "  </tbody>\n",
       "</table>\n",
       "</div>"
      ],
      "text/plain": [
       "      idaviso idpostulante     fechapostulacion\n",
       "0  1112257047         NM5M  2018-01-15 16:22:34\n",
       "1  1111920714         NM5M  2018-02-06 09:04:50\n",
       "2  1112346945         NM5M  2018-02-22 09:04:47\n",
       "3  1112345547         NM5M  2018-02-22 09:04:59\n",
       "4  1112237522         5awk  2018-01-25 18:55:03"
      ]
     },
     "execution_count": 277,
     "metadata": {},
     "output_type": "execute_result"
    }
   ],
   "source": [
    "postulaciones_df.head()"
   ]
  },
  {
   "cell_type": "code",
   "execution_count": 278,
   "metadata": {},
   "outputs": [
    {
     "data": {
      "text/html": [
       "<div>\n",
       "<style scoped>\n",
       "    .dataframe tbody tr th:only-of-type {\n",
       "        vertical-align: middle;\n",
       "    }\n",
       "\n",
       "    .dataframe tbody tr th {\n",
       "        vertical-align: top;\n",
       "    }\n",
       "\n",
       "    .dataframe thead th {\n",
       "        text-align: right;\n",
       "    }\n",
       "</style>\n",
       "<table border=\"1\" class=\"dataframe\">\n",
       "  <thead>\n",
       "    <tr style=\"text-align: right;\">\n",
       "      <th></th>\n",
       "      <th>idaviso</th>\n",
       "      <th>idpostulante</th>\n",
       "      <th>fechapostulacion</th>\n",
       "      <th>idpais</th>\n",
       "      <th>titulo</th>\n",
       "      <th>descripcion</th>\n",
       "      <th>nombre_zona</th>\n",
       "      <th>ciudad</th>\n",
       "      <th>mapacalle</th>\n",
       "      <th>tipo_de_trabajo</th>\n",
       "      <th>nivel_laboral</th>\n",
       "      <th>nombre_area</th>\n",
       "      <th>denominacion_empresa</th>\n",
       "    </tr>\n",
       "  </thead>\n",
       "  <tbody>\n",
       "    <tr>\n",
       "      <th>0</th>\n",
       "      <td>1112257047</td>\n",
       "      <td>NM5M</td>\n",
       "      <td>2018-01-15 16:22:34</td>\n",
       "      <td>1</td>\n",
       "      <td>REPRESENTANTES DE ATENCIÓN AL CLIENTE/ RETENCIÓN</td>\n",
       "      <td>&lt;p&gt;&lt;strong&gt;&lt;em&gt;&lt;span style=\"\"&gt;En &lt;/span&gt;&lt;/em&gt;&lt;...</td>\n",
       "      <td>Gran Buenos Aires</td>\n",
       "      <td>NaN</td>\n",
       "      <td>NaN</td>\n",
       "      <td>Part-time</td>\n",
       "      <td>Otro</td>\n",
       "      <td>Atención al Cliente</td>\n",
       "      <td>Eficasia Argentina SA</td>\n",
       "    </tr>\n",
       "    <tr>\n",
       "      <th>1</th>\n",
       "      <td>1112257047</td>\n",
       "      <td>1kJqGb</td>\n",
       "      <td>2018-01-15 10:23:11</td>\n",
       "      <td>1</td>\n",
       "      <td>REPRESENTANTES DE ATENCIÓN AL CLIENTE/ RETENCIÓN</td>\n",
       "      <td>&lt;p&gt;&lt;strong&gt;&lt;em&gt;&lt;span style=\"\"&gt;En &lt;/span&gt;&lt;/em&gt;&lt;...</td>\n",
       "      <td>Gran Buenos Aires</td>\n",
       "      <td>NaN</td>\n",
       "      <td>NaN</td>\n",
       "      <td>Part-time</td>\n",
       "      <td>Otro</td>\n",
       "      <td>Atención al Cliente</td>\n",
       "      <td>Eficasia Argentina SA</td>\n",
       "    </tr>\n",
       "    <tr>\n",
       "      <th>2</th>\n",
       "      <td>1112257047</td>\n",
       "      <td>eOE9Rr</td>\n",
       "      <td>2018-01-15 10:42:07</td>\n",
       "      <td>1</td>\n",
       "      <td>REPRESENTANTES DE ATENCIÓN AL CLIENTE/ RETENCIÓN</td>\n",
       "      <td>&lt;p&gt;&lt;strong&gt;&lt;em&gt;&lt;span style=\"\"&gt;En &lt;/span&gt;&lt;/em&gt;&lt;...</td>\n",
       "      <td>Gran Buenos Aires</td>\n",
       "      <td>NaN</td>\n",
       "      <td>NaN</td>\n",
       "      <td>Part-time</td>\n",
       "      <td>Otro</td>\n",
       "      <td>Atención al Cliente</td>\n",
       "      <td>Eficasia Argentina SA</td>\n",
       "    </tr>\n",
       "    <tr>\n",
       "      <th>3</th>\n",
       "      <td>1112257047</td>\n",
       "      <td>Zrx8Xz</td>\n",
       "      <td>2018-01-30 10:18:14</td>\n",
       "      <td>1</td>\n",
       "      <td>REPRESENTANTES DE ATENCIÓN AL CLIENTE/ RETENCIÓN</td>\n",
       "      <td>&lt;p&gt;&lt;strong&gt;&lt;em&gt;&lt;span style=\"\"&gt;En &lt;/span&gt;&lt;/em&gt;&lt;...</td>\n",
       "      <td>Gran Buenos Aires</td>\n",
       "      <td>NaN</td>\n",
       "      <td>NaN</td>\n",
       "      <td>Part-time</td>\n",
       "      <td>Otro</td>\n",
       "      <td>Atención al Cliente</td>\n",
       "      <td>Eficasia Argentina SA</td>\n",
       "    </tr>\n",
       "    <tr>\n",
       "      <th>4</th>\n",
       "      <td>1112257047</td>\n",
       "      <td>ZrKNQY</td>\n",
       "      <td>2018-01-16 17:19:38</td>\n",
       "      <td>1</td>\n",
       "      <td>REPRESENTANTES DE ATENCIÓN AL CLIENTE/ RETENCIÓN</td>\n",
       "      <td>&lt;p&gt;&lt;strong&gt;&lt;em&gt;&lt;span style=\"\"&gt;En &lt;/span&gt;&lt;/em&gt;&lt;...</td>\n",
       "      <td>Gran Buenos Aires</td>\n",
       "      <td>NaN</td>\n",
       "      <td>NaN</td>\n",
       "      <td>Part-time</td>\n",
       "      <td>Otro</td>\n",
       "      <td>Atención al Cliente</td>\n",
       "      <td>Eficasia Argentina SA</td>\n",
       "    </tr>\n",
       "  </tbody>\n",
       "</table>\n",
       "</div>"
      ],
      "text/plain": [
       "      idaviso idpostulante     fechapostulacion  idpais  \\\n",
       "0  1112257047         NM5M  2018-01-15 16:22:34       1   \n",
       "1  1112257047       1kJqGb  2018-01-15 10:23:11       1   \n",
       "2  1112257047       eOE9Rr  2018-01-15 10:42:07       1   \n",
       "3  1112257047       Zrx8Xz  2018-01-30 10:18:14       1   \n",
       "4  1112257047       ZrKNQY  2018-01-16 17:19:38       1   \n",
       "\n",
       "                                             titulo  \\\n",
       "0  REPRESENTANTES DE ATENCIÓN AL CLIENTE/ RETENCIÓN   \n",
       "1  REPRESENTANTES DE ATENCIÓN AL CLIENTE/ RETENCIÓN   \n",
       "2  REPRESENTANTES DE ATENCIÓN AL CLIENTE/ RETENCIÓN   \n",
       "3  REPRESENTANTES DE ATENCIÓN AL CLIENTE/ RETENCIÓN   \n",
       "4  REPRESENTANTES DE ATENCIÓN AL CLIENTE/ RETENCIÓN   \n",
       "\n",
       "                                         descripcion        nombre_zona  \\\n",
       "0  <p><strong><em><span style=\"\">En </span></em><...  Gran Buenos Aires   \n",
       "1  <p><strong><em><span style=\"\">En </span></em><...  Gran Buenos Aires   \n",
       "2  <p><strong><em><span style=\"\">En </span></em><...  Gran Buenos Aires   \n",
       "3  <p><strong><em><span style=\"\">En </span></em><...  Gran Buenos Aires   \n",
       "4  <p><strong><em><span style=\"\">En </span></em><...  Gran Buenos Aires   \n",
       "\n",
       "  ciudad mapacalle tipo_de_trabajo nivel_laboral          nombre_area  \\\n",
       "0    NaN       NaN       Part-time          Otro  Atención al Cliente   \n",
       "1    NaN       NaN       Part-time          Otro  Atención al Cliente   \n",
       "2    NaN       NaN       Part-time          Otro  Atención al Cliente   \n",
       "3    NaN       NaN       Part-time          Otro  Atención al Cliente   \n",
       "4    NaN       NaN       Part-time          Otro  Atención al Cliente   \n",
       "\n",
       "     denominacion_empresa  \n",
       "0  Eficasia Argentina SA   \n",
       "1  Eficasia Argentina SA   \n",
       "2  Eficasia Argentina SA   \n",
       "3  Eficasia Argentina SA   \n",
       "4  Eficasia Argentina SA   "
      ]
     },
     "execution_count": 278,
     "metadata": {},
     "output_type": "execute_result"
    }
   ],
   "source": [
    "merge_detalle_postulaciones_df = postulaciones_df.merge(avisos_detalle_df, on = 'idaviso')\n",
    "merge_detalle_postulaciones_df.head()"
   ]
  },
  {
   "cell_type": "code",
   "execution_count": 279,
   "metadata": {},
   "outputs": [
    {
     "data": {
      "text/plain": [
       "idaviso                 3074206\n",
       "idpostulante            3074206\n",
       "fechapostulacion        3074206\n",
       "idpais                  3074206\n",
       "titulo                  3074206\n",
       "descripcion             3074206\n",
       "nombre_zona             3074206\n",
       "ciudad                    10296\n",
       "mapacalle                205497\n",
       "tipo_de_trabajo         3074206\n",
       "nivel_laboral           3074206\n",
       "nombre_area             3074206\n",
       "denominacion_empresa    3073956\n",
       "dtype: int64"
      ]
     },
     "execution_count": 279,
     "metadata": {},
     "output_type": "execute_result"
    }
   ],
   "source": [
    "merge_detalle_postulaciones_df.count()"
   ]
  },
  {
   "cell_type": "code",
   "execution_count": 280,
   "metadata": {},
   "outputs": [
    {
     "data": {
      "text/plain": [
       "array(['Senior / Semi-Senior', 'Junior',\n",
       "       'Jefe / Supervisor / Responsable', 'Otro',\n",
       "       'Gerencia / Alta Gerencia / Dirección'], dtype=object)"
      ]
     },
     "execution_count": 280,
     "metadata": {},
     "output_type": "execute_result"
    }
   ],
   "source": [
    "avisos_detalle_df.nivel_laboral.unique()"
   ]
  },
  {
   "cell_type": "code",
   "execution_count": 281,
   "metadata": {},
   "outputs": [
    {
     "data": {
      "text/plain": [
       "Senior / Semi-Senior                    9407\n",
       "Junior                                  2216\n",
       "Otro                                     921\n",
       "Jefe / Supervisor / Responsable          809\n",
       "Gerencia / Alta Gerencia / Dirección     181\n",
       "Name: nivel_laboral, dtype: int64"
      ]
     },
     "execution_count": 281,
     "metadata": {},
     "output_type": "execute_result"
    }
   ],
   "source": [
    "avisos_detalle_df.nivel_laboral.value_counts()"
   ]
  },
  {
   "cell_type": "code",
   "execution_count": 282,
   "metadata": {},
   "outputs": [
    {
     "data": {
      "text/plain": [
       "Text(0,0.5,'Nivel laboral')"
      ]
     },
     "execution_count": 282,
     "metadata": {},
     "output_type": "execute_result"
    },
    {
     "data": {
      "image/png": "[encoded data removed]",
      "text/plain": [
       "<matplotlib.figure.Figure at 0x15c00311ac8>"
      ]
     },
     "metadata": {},
     "output_type": "display_data"
    }
   ],
   "source": [
    "avisos_por_nivel = avisos_detalle_df.nivel_laboral.value_counts(ascending = True).plot(kind = 'barh', color = ['lightblue','lightblue','lightblue','lightblue','red'])\n",
    "avisos_por_nivel.set_title(\"Avisos por nivel laboral\", fontsize = 20)\n",
    "avisos_por_nivel.set_xlabel(\"Numero de avisos\")\n",
    "avisos_por_nivel.set_ylabel(\"Nivel laboral\")"
   ]
  },
  {
   "cell_type": "code",
   "execution_count": 283,
   "metadata": {},
   "outputs": [
    {
     "data": {
      "text/plain": [
       "Text(0.5,1,'Postulaciones por nivel laboral')"
      ]
     },
     "execution_count": 283,
     "metadata": {},
     "output_type": "execute_result"
    },
    {
     "data": {
      "image/png": "[encoded data removed]",
      "text/plain": [
       "<matplotlib.figure.Figure at 0x15c0031f208>"
      ]
     },
     "metadata": {},
     "output_type": "display_data"
    }
   ],
   "source": [
    "postulaciones_por_nivel = merge_detalle_postulaciones_df.nivel_laboral.value_counts().plot(kind = 'bar')\n",
    "postulaciones_por_nivel.set_title(\"Postulaciones por nivel laboral\", fontsize = 20)"
   ]
  },
  {
   "cell_type": "code",
   "execution_count": 284,
   "metadata": {},
   "outputs": [
    {
     "data": {
      "text/plain": [
       "Text(0.5,1,'Top 10 areas con mas avisos')"
      ]
     },
     "execution_count": 284,
     "metadata": {},
     "output_type": "execute_result"
    },
    {
     "data": {
      "image/png": "[encoded data removed]",
      "text/plain": [
       "<matplotlib.figure.Figure at 0x15c003110f0>"
      ]
     },
     "metadata": {},
     "output_type": "display_data"
    }
   ],
   "source": [
    "avisos_por_nombre_area = avisos_detalle_df.nombre_area.value_counts().head(10).sort_values().plot(kind = 'barh',colormap='Paired')\n",
    "avisos_por_nombre_area.set_title(\"Top 10 areas con mas avisos\")"
   ]
  },
  {
   "cell_type": "code",
   "execution_count": 285,
   "metadata": {},
   "outputs": [
    {
     "data": {
      "text/plain": [
       "Text(0.5,1,'Top 10 areas con mas postulaciones')"
      ]
     },
     "execution_count": 285,
     "metadata": {},
     "output_type": "execute_result"
    },
    {
     "data": {
      "image/png": "[encoded data removed]",
      "text/plain": [
       "<matplotlib.figure.Figure at 0x15c0034a6d8>"
      ]
     },
     "metadata": {},
     "output_type": "display_data"
    }
   ],
   "source": [
    "postulaciones_por_nombre_area = merge_detalle_postulaciones_df.nombre_area.value_counts().head(10).sort_values().plot(kind = 'barh',colormap='Paired')\n",
    "postulaciones_por_nombre_area.set_title(\"Top 10 areas con mas postulaciones\")"
   ]
  },
  {
   "cell_type": "code",
   "execution_count": 286,
   "metadata": {},
   "outputs": [
    {
     "data": {
      "text/html": [
       "<div>\n",
       "<style scoped>\n",
       "    .dataframe tbody tr th:only-of-type {\n",
       "        vertical-align: middle;\n",
       "    }\n",
       "\n",
       "    .dataframe tbody tr th {\n",
       "        vertical-align: top;\n",
       "    }\n",
       "\n",
       "    .dataframe thead th {\n",
       "        text-align: right;\n",
       "    }\n",
       "</style>\n",
       "<table border=\"1\" class=\"dataframe\">\n",
       "  <thead>\n",
       "    <tr style=\"text-align: right;\">\n",
       "      <th></th>\n",
       "      <th>nombre_area</th>\n",
       "      <th>cantidad_avisos</th>\n",
       "    </tr>\n",
       "  </thead>\n",
       "  <tbody>\n",
       "    <tr>\n",
       "      <th>0</th>\n",
       "      <td>Ventas</td>\n",
       "      <td>1659</td>\n",
       "    </tr>\n",
       "    <tr>\n",
       "      <th>1</th>\n",
       "      <td>Comercial</td>\n",
       "      <td>983</td>\n",
       "    </tr>\n",
       "    <tr>\n",
       "      <th>2</th>\n",
       "      <td>Administración</td>\n",
       "      <td>901</td>\n",
       "    </tr>\n",
       "    <tr>\n",
       "      <th>3</th>\n",
       "      <td>Producción</td>\n",
       "      <td>821</td>\n",
       "    </tr>\n",
       "    <tr>\n",
       "      <th>4</th>\n",
       "      <td>Programación</td>\n",
       "      <td>576</td>\n",
       "    </tr>\n",
       "  </tbody>\n",
       "</table>\n",
       "</div>"
      ],
      "text/plain": [
       "      nombre_area  cantidad_avisos\n",
       "0          Ventas             1659\n",
       "1       Comercial              983\n",
       "2  Administración              901\n",
       "3      Producción              821\n",
       "4    Programación              576"
      ]
     },
     "execution_count": 286,
     "metadata": {},
     "output_type": "execute_result"
    }
   ],
   "source": [
    "#Empiezo a relacionar la cantidad de postulaciones con la cantidad de avisos (por area). CONDICION = MAS DE 50 AVISOS\n",
    "merge = avisos_detalle_df.nombre_area.value_counts().to_frame().reset_index()\n",
    "columnas = ['nombre_area','cantidad_avisos']\n",
    "merge.columns = columnas\n",
    "merge = merge[(merge.cantidad_avisos) > 200]\n",
    "merge.head()\n"
   ]
  },
  {
   "cell_type": "code",
   "execution_count": 287,
   "metadata": {},
   "outputs": [
    {
     "data": {
      "text/html": [
       "<div>\n",
       "<style scoped>\n",
       "    .dataframe tbody tr th:only-of-type {\n",
       "        vertical-align: middle;\n",
       "    }\n",
       "\n",
       "    .dataframe tbody tr th {\n",
       "        vertical-align: top;\n",
       "    }\n",
       "\n",
       "    .dataframe thead th {\n",
       "        text-align: right;\n",
       "    }\n",
       "</style>\n",
       "<table border=\"1\" class=\"dataframe\">\n",
       "  <thead>\n",
       "    <tr style=\"text-align: right;\">\n",
       "      <th></th>\n",
       "      <th>nombre_area</th>\n",
       "      <th>cantidad_postulaciones</th>\n",
       "    </tr>\n",
       "  </thead>\n",
       "  <tbody>\n",
       "    <tr>\n",
       "      <th>0</th>\n",
       "      <td>Ventas</td>\n",
       "      <td>408148</td>\n",
       "    </tr>\n",
       "    <tr>\n",
       "      <th>1</th>\n",
       "      <td>Administración</td>\n",
       "      <td>291135</td>\n",
       "    </tr>\n",
       "    <tr>\n",
       "      <th>2</th>\n",
       "      <td>Producción</td>\n",
       "      <td>277089</td>\n",
       "    </tr>\n",
       "    <tr>\n",
       "      <th>3</th>\n",
       "      <td>Comercial</td>\n",
       "      <td>216677</td>\n",
       "    </tr>\n",
       "    <tr>\n",
       "      <th>4</th>\n",
       "      <td>Atención al Cliente</td>\n",
       "      <td>195636</td>\n",
       "    </tr>\n",
       "  </tbody>\n",
       "</table>\n",
       "</div>"
      ],
      "text/plain": [
       "           nombre_area  cantidad_postulaciones\n",
       "0               Ventas                  408148\n",
       "1       Administración                  291135\n",
       "2           Producción                  277089\n",
       "3            Comercial                  216677\n",
       "4  Atención al Cliente                  195636"
      ]
     },
     "execution_count": 287,
     "metadata": {},
     "output_type": "execute_result"
    }
   ],
   "source": [
    "df = merge_detalle_postulaciones_df.nombre_area.value_counts().to_frame().reset_index()\n",
    "columnas = ['nombre_area','cantidad_postulaciones']\n",
    "df.columns = columnas\n",
    "df.head()"
   ]
  },
  {
   "cell_type": "code",
   "execution_count": 288,
   "metadata": {},
   "outputs": [
    {
     "data": {
      "text/html": [
       "<div>\n",
       "<style scoped>\n",
       "    .dataframe tbody tr th:only-of-type {\n",
       "        vertical-align: middle;\n",
       "    }\n",
       "\n",
       "    .dataframe tbody tr th {\n",
       "        vertical-align: top;\n",
       "    }\n",
       "\n",
       "    .dataframe thead th {\n",
       "        text-align: right;\n",
       "    }\n",
       "</style>\n",
       "<table border=\"1\" class=\"dataframe\">\n",
       "  <thead>\n",
       "    <tr style=\"text-align: right;\">\n",
       "      <th></th>\n",
       "      <th>nombre_area</th>\n",
       "      <th>cantidad_avisos</th>\n",
       "      <th>cantidad_postulaciones</th>\n",
       "    </tr>\n",
       "  </thead>\n",
       "  <tbody>\n",
       "    <tr>\n",
       "      <th>0</th>\n",
       "      <td>Ventas</td>\n",
       "      <td>1659</td>\n",
       "      <td>408148</td>\n",
       "    </tr>\n",
       "    <tr>\n",
       "      <th>1</th>\n",
       "      <td>Comercial</td>\n",
       "      <td>983</td>\n",
       "      <td>216677</td>\n",
       "    </tr>\n",
       "    <tr>\n",
       "      <th>2</th>\n",
       "      <td>Administración</td>\n",
       "      <td>901</td>\n",
       "      <td>291135</td>\n",
       "    </tr>\n",
       "    <tr>\n",
       "      <th>3</th>\n",
       "      <td>Producción</td>\n",
       "      <td>821</td>\n",
       "      <td>277089</td>\n",
       "    </tr>\n",
       "    <tr>\n",
       "      <th>4</th>\n",
       "      <td>Programación</td>\n",
       "      <td>576</td>\n",
       "      <td>8188</td>\n",
       "    </tr>\n",
       "  </tbody>\n",
       "</table>\n",
       "</div>"
      ],
      "text/plain": [
       "      nombre_area  cantidad_avisos  cantidad_postulaciones\n",
       "0          Ventas             1659                  408148\n",
       "1       Comercial              983                  216677\n",
       "2  Administración              901                  291135\n",
       "3      Producción              821                  277089\n",
       "4    Programación              576                    8188"
      ]
     },
     "execution_count": 288,
     "metadata": {},
     "output_type": "execute_result"
    }
   ],
   "source": [
    "merge = merge.merge(df, on = 'nombre_area')\n",
    "merge.head()"
   ]
  },
  {
   "cell_type": "code",
   "execution_count": 289,
   "metadata": {},
   "outputs": [
    {
     "data": {
      "text/html": [
       "<div>\n",
       "<style scoped>\n",
       "    .dataframe tbody tr th:only-of-type {\n",
       "        vertical-align: middle;\n",
       "    }\n",
       "\n",
       "    .dataframe tbody tr th {\n",
       "        vertical-align: top;\n",
       "    }\n",
       "\n",
       "    .dataframe thead th {\n",
       "        text-align: right;\n",
       "    }\n",
       "</style>\n",
       "<table border=\"1\" class=\"dataframe\">\n",
       "  <thead>\n",
       "    <tr style=\"text-align: right;\">\n",
       "      <th></th>\n",
       "      <th>nombre_area</th>\n",
       "      <th>cantidad_avisos</th>\n",
       "      <th>cantidad_postulaciones</th>\n",
       "      <th>relacion</th>\n",
       "    </tr>\n",
       "  </thead>\n",
       "  <tbody>\n",
       "    <tr>\n",
       "      <th>0</th>\n",
       "      <td>Ventas</td>\n",
       "      <td>1659</td>\n",
       "      <td>408148</td>\n",
       "      <td>246.020494</td>\n",
       "    </tr>\n",
       "    <tr>\n",
       "      <th>1</th>\n",
       "      <td>Comercial</td>\n",
       "      <td>983</td>\n",
       "      <td>216677</td>\n",
       "      <td>220.424212</td>\n",
       "    </tr>\n",
       "    <tr>\n",
       "      <th>2</th>\n",
       "      <td>Administración</td>\n",
       "      <td>901</td>\n",
       "      <td>291135</td>\n",
       "      <td>323.124306</td>\n",
       "    </tr>\n",
       "    <tr>\n",
       "      <th>3</th>\n",
       "      <td>Producción</td>\n",
       "      <td>821</td>\n",
       "      <td>277089</td>\n",
       "      <td>337.501827</td>\n",
       "    </tr>\n",
       "    <tr>\n",
       "      <th>4</th>\n",
       "      <td>Programación</td>\n",
       "      <td>576</td>\n",
       "      <td>8188</td>\n",
       "      <td>14.215278</td>\n",
       "    </tr>\n",
       "  </tbody>\n",
       "</table>\n",
       "</div>"
      ],
      "text/plain": [
       "      nombre_area  cantidad_avisos  cantidad_postulaciones    relacion\n",
       "0          Ventas             1659                  408148  246.020494\n",
       "1       Comercial              983                  216677  220.424212\n",
       "2  Administración              901                  291135  323.124306\n",
       "3      Producción              821                  277089  337.501827\n",
       "4    Programación              576                    8188   14.215278"
      ]
     },
     "execution_count": 289,
     "metadata": {},
     "output_type": "execute_result"
    }
   ],
   "source": [
    "merge['relacion'] = ( merge['cantidad_postulaciones'] ) / (merge['cantidad_avisos'] )\n",
    "merge.head()"
   ]
  },
  {
   "cell_type": "code",
   "execution_count": 290,
   "metadata": {},
   "outputs": [
    {
     "data": {
      "text/plain": [
       "<matplotlib.axes._subplots.AxesSubplot at 0x15c0039b908>"
      ]
     },
     "execution_count": 290,
     "metadata": {},
     "output_type": "execute_result"
    },
    {
     "data": {
      "image/png": "[encoded data removed]",
      "text/plain": [
       "<matplotlib.figure.Figure at 0x15c0047f5c0>"
      ]
     },
     "metadata": {},
     "output_type": "display_data"
    }
   ],
   "source": [
    "merge.groupby('nombre_area').agg({'relacion' : 'sum'}).sort_values(by = 'relacion',ascending = False).head(10).plot(kind = 'barh',figsize = (14,10))\n",
    "#Grafico de relacion entre cantidad de postulaciones y cantidad de avisos por nombre de area. Ojo con la cantidad de avisos, ecuacion mas peligrosa de la historia."
   ]
  },
  {
   "cell_type": "code",
   "execution_count": 291,
   "metadata": {},
   "outputs": [
    {
     "data": {
      "text/plain": [
       "Text(0.5,1,'Top 10 Empresas Con Mas Avisos')"
      ]
     },
     "execution_count": 291,
     "metadata": {},
     "output_type": "execute_result"
    },
    {
     "data": {
      "image/png": "[encoded data removed]",
      "text/plain": [
       "<matplotlib.figure.Figure at 0x15c004e80f0>"
      ]
     },
     "metadata": {},
     "output_type": "display_data"
    }
   ],
   "source": [
    "empresas_con_mas_avisos = avisos_detalle_df.denominacion_empresa.value_counts().head(10).sort_values().plot(kind = 'barh')\n",
    "empresas_con_mas_avisos.set_title(\"Top 10 Empresas Con Mas Avisos\", fontsize = 20)\n"
   ]
  },
  {
   "cell_type": "code",
   "execution_count": 292,
   "metadata": {},
   "outputs": [
    {
     "data": {
      "text/plain": [
       "Text(0.5,1,'Top 10 Empresas Con Mas Postulaciones')"
      ]
     },
     "execution_count": 292,
     "metadata": {},
     "output_type": "execute_result"
    },
    {
     "data": {
      "image/png": "[encoded data removed]",
      "text/plain": [
       "<matplotlib.figure.Figure at 0x15c00555198>"
      ]
     },
     "metadata": {},
     "output_type": "display_data"
    }
   ],
   "source": [
    "empresas_con_mas_postulaciones = merge_detalle_postulaciones_df.denominacion_empresa.value_counts().head(10).sort_values().plot(kind = 'barh')\n",
    "empresas_con_mas_postulaciones.set_title(\"Top 10 Empresas Con Mas Postulaciones\", fontsize = 20)"
   ]
  },
  {
   "cell_type": "code",
   "execution_count": 293,
   "metadata": {},
   "outputs": [
    {
     "data": {
      "text/html": [
       "<div>\n",
       "<style scoped>\n",
       "    .dataframe tbody tr th:only-of-type {\n",
       "        vertical-align: middle;\n",
       "    }\n",
       "\n",
       "    .dataframe tbody tr th {\n",
       "        vertical-align: top;\n",
       "    }\n",
       "\n",
       "    .dataframe thead th {\n",
       "        text-align: right;\n",
       "    }\n",
       "</style>\n",
       "<table border=\"1\" class=\"dataframe\">\n",
       "  <thead>\n",
       "    <tr style=\"text-align: right;\">\n",
       "      <th></th>\n",
       "      <th>denominacion_empresa</th>\n",
       "      <th>cantidad_avisos</th>\n",
       "    </tr>\n",
       "  </thead>\n",
       "  <tbody>\n",
       "    <tr>\n",
       "      <th>3</th>\n",
       "      <td>Assistem</td>\n",
       "      <td>289</td>\n",
       "    </tr>\n",
       "    <tr>\n",
       "      <th>4</th>\n",
       "      <td>SOLUTIX S.A.</td>\n",
       "      <td>260</td>\n",
       "    </tr>\n",
       "    <tr>\n",
       "      <th>5</th>\n",
       "      <td>BAYTON</td>\n",
       "      <td>238</td>\n",
       "    </tr>\n",
       "    <tr>\n",
       "      <th>6</th>\n",
       "      <td>Pullmen Servicios Empresarios S.A.</td>\n",
       "      <td>229</td>\n",
       "    </tr>\n",
       "    <tr>\n",
       "      <th>7</th>\n",
       "      <td>Adecco - Región NORTE &amp; OESTE GBA</td>\n",
       "      <td>205</td>\n",
       "    </tr>\n",
       "  </tbody>\n",
       "</table>\n",
       "</div>"
      ],
      "text/plain": [
       "                 denominacion_empresa  cantidad_avisos\n",
       "3                            Assistem              289\n",
       "4                       SOLUTIX S.A.               260\n",
       "5                              BAYTON              238\n",
       "6  Pullmen Servicios Empresarios S.A.              229\n",
       "7   Adecco - Región NORTE & OESTE GBA              205"
      ]
     },
     "execution_count": 293,
     "metadata": {},
     "output_type": "execute_result"
    }
   ],
   "source": [
    "#Ahora veo la relacion entre postulaciones y avisos pero con las empresas.\n",
    "merge = avisos_detalle_df.denominacion_empresa.value_counts().reset_index()\n",
    "columnas = ['denominacion_empresa','cantidad_avisos']\n",
    "merge.columns = columnas\n",
    "merge = merge[ (merge.cantidad_avisos > 50 ) & (merge.cantidad_avisos < 300) ]\n",
    "merge.head()"
   ]
  },
  {
   "cell_type": "code",
   "execution_count": 294,
   "metadata": {},
   "outputs": [
    {
     "data": {
      "text/html": [
       "<div>\n",
       "<style scoped>\n",
       "    .dataframe tbody tr th:only-of-type {\n",
       "        vertical-align: middle;\n",
       "    }\n",
       "\n",
       "    .dataframe tbody tr th {\n",
       "        vertical-align: top;\n",
       "    }\n",
       "\n",
       "    .dataframe thead th {\n",
       "        text-align: right;\n",
       "    }\n",
       "</style>\n",
       "<table border=\"1\" class=\"dataframe\">\n",
       "  <thead>\n",
       "    <tr style=\"text-align: right;\">\n",
       "      <th></th>\n",
       "      <th>denominacion_empresa</th>\n",
       "      <th>cantidad_postulaciones</th>\n",
       "    </tr>\n",
       "  </thead>\n",
       "  <tbody>\n",
       "    <tr>\n",
       "      <th>0</th>\n",
       "      <td>Manpower</td>\n",
       "      <td>119013</td>\n",
       "    </tr>\n",
       "    <tr>\n",
       "      <th>1</th>\n",
       "      <td>RANDSTAD</td>\n",
       "      <td>102640</td>\n",
       "    </tr>\n",
       "    <tr>\n",
       "      <th>2</th>\n",
       "      <td>Grupo Gestión</td>\n",
       "      <td>89950</td>\n",
       "    </tr>\n",
       "    <tr>\n",
       "      <th>3</th>\n",
       "      <td>Adecco -Región Office</td>\n",
       "      <td>83530</td>\n",
       "    </tr>\n",
       "    <tr>\n",
       "      <th>4</th>\n",
       "      <td>Assistem</td>\n",
       "      <td>68125</td>\n",
       "    </tr>\n",
       "  </tbody>\n",
       "</table>\n",
       "</div>"
      ],
      "text/plain": [
       "    denominacion_empresa  cantidad_postulaciones\n",
       "0               Manpower                  119013\n",
       "1               RANDSTAD                  102640\n",
       "2          Grupo Gestión                   89950\n",
       "3  Adecco -Región Office                   83530\n",
       "4               Assistem                   68125"
      ]
     },
     "execution_count": 294,
     "metadata": {},
     "output_type": "execute_result"
    }
   ],
   "source": [
    "df = merge_detalle_postulaciones_df.denominacion_empresa.value_counts().reset_index()\n",
    "columnas = ['denominacion_empresa','cantidad_postulaciones']\n",
    "df.columns = columnas\n",
    "df.head()"
   ]
  },
  {
   "cell_type": "code",
   "execution_count": 295,
   "metadata": {},
   "outputs": [
    {
     "data": {
      "text/html": [
       "<div>\n",
       "<style scoped>\n",
       "    .dataframe tbody tr th:only-of-type {\n",
       "        vertical-align: middle;\n",
       "    }\n",
       "\n",
       "    .dataframe tbody tr th {\n",
       "        vertical-align: top;\n",
       "    }\n",
       "\n",
       "    .dataframe thead th {\n",
       "        text-align: right;\n",
       "    }\n",
       "</style>\n",
       "<table border=\"1\" class=\"dataframe\">\n",
       "  <thead>\n",
       "    <tr style=\"text-align: right;\">\n",
       "      <th></th>\n",
       "      <th>denominacion_empresa</th>\n",
       "      <th>cantidad_avisos</th>\n",
       "      <th>cantidad_postulaciones</th>\n",
       "    </tr>\n",
       "  </thead>\n",
       "  <tbody>\n",
       "    <tr>\n",
       "      <th>0</th>\n",
       "      <td>Assistem</td>\n",
       "      <td>289</td>\n",
       "      <td>68125</td>\n",
       "    </tr>\n",
       "    <tr>\n",
       "      <th>1</th>\n",
       "      <td>SOLUTIX S.A.</td>\n",
       "      <td>260</td>\n",
       "      <td>8206</td>\n",
       "    </tr>\n",
       "    <tr>\n",
       "      <th>2</th>\n",
       "      <td>BAYTON</td>\n",
       "      <td>238</td>\n",
       "      <td>55048</td>\n",
       "    </tr>\n",
       "    <tr>\n",
       "      <th>3</th>\n",
       "      <td>Pullmen Servicios Empresarios S.A.</td>\n",
       "      <td>229</td>\n",
       "      <td>51471</td>\n",
       "    </tr>\n",
       "    <tr>\n",
       "      <th>4</th>\n",
       "      <td>Adecco - Región NORTE &amp; OESTE GBA</td>\n",
       "      <td>205</td>\n",
       "      <td>45912</td>\n",
       "    </tr>\n",
       "  </tbody>\n",
       "</table>\n",
       "</div>"
      ],
      "text/plain": [
       "                 denominacion_empresa  cantidad_avisos  cantidad_postulaciones\n",
       "0                            Assistem              289                   68125\n",
       "1                       SOLUTIX S.A.               260                    8206\n",
       "2                              BAYTON              238                   55048\n",
       "3  Pullmen Servicios Empresarios S.A.              229                   51471\n",
       "4   Adecco - Región NORTE & OESTE GBA              205                   45912"
      ]
     },
     "execution_count": 295,
     "metadata": {},
     "output_type": "execute_result"
    }
   ],
   "source": [
    "merge = merge.merge(df, on = 'denominacion_empresa')\n",
    "merge.head()"
   ]
  },
  {
   "cell_type": "code",
   "execution_count": 296,
   "metadata": {},
   "outputs": [
    {
     "data": {
      "text/html": [
       "<div>\n",
       "<style scoped>\n",
       "    .dataframe tbody tr th:only-of-type {\n",
       "        vertical-align: middle;\n",
       "    }\n",
       "\n",
       "    .dataframe tbody tr th {\n",
       "        vertical-align: top;\n",
       "    }\n",
       "\n",
       "    .dataframe thead th {\n",
       "        text-align: right;\n",
       "    }\n",
       "</style>\n",
       "<table border=\"1\" class=\"dataframe\">\n",
       "  <thead>\n",
       "    <tr style=\"text-align: right;\">\n",
       "      <th></th>\n",
       "      <th>denominacion_empresa</th>\n",
       "      <th>cantidad_avisos</th>\n",
       "      <th>cantidad_postulaciones</th>\n",
       "      <th>relacion</th>\n",
       "    </tr>\n",
       "  </thead>\n",
       "  <tbody>\n",
       "    <tr>\n",
       "      <th>0</th>\n",
       "      <td>Assistem</td>\n",
       "      <td>289</td>\n",
       "      <td>68125</td>\n",
       "      <td>235.726644</td>\n",
       "    </tr>\n",
       "    <tr>\n",
       "      <th>1</th>\n",
       "      <td>SOLUTIX S.A.</td>\n",
       "      <td>260</td>\n",
       "      <td>8206</td>\n",
       "      <td>31.561538</td>\n",
       "    </tr>\n",
       "    <tr>\n",
       "      <th>2</th>\n",
       "      <td>BAYTON</td>\n",
       "      <td>238</td>\n",
       "      <td>55048</td>\n",
       "      <td>231.294118</td>\n",
       "    </tr>\n",
       "    <tr>\n",
       "      <th>3</th>\n",
       "      <td>Pullmen Servicios Empresarios S.A.</td>\n",
       "      <td>229</td>\n",
       "      <td>51471</td>\n",
       "      <td>224.764192</td>\n",
       "    </tr>\n",
       "    <tr>\n",
       "      <th>4</th>\n",
       "      <td>Adecco - Región NORTE &amp; OESTE GBA</td>\n",
       "      <td>205</td>\n",
       "      <td>45912</td>\n",
       "      <td>223.960976</td>\n",
       "    </tr>\n",
       "  </tbody>\n",
       "</table>\n",
       "</div>"
      ],
      "text/plain": [
       "                 denominacion_empresa  cantidad_avisos  \\\n",
       "0                            Assistem              289   \n",
       "1                       SOLUTIX S.A.               260   \n",
       "2                              BAYTON              238   \n",
       "3  Pullmen Servicios Empresarios S.A.              229   \n",
       "4   Adecco - Región NORTE & OESTE GBA              205   \n",
       "\n",
       "   cantidad_postulaciones    relacion  \n",
       "0                   68125  235.726644  \n",
       "1                    8206   31.561538  \n",
       "2                   55048  231.294118  \n",
       "3                   51471  224.764192  \n",
       "4                   45912  223.960976  "
      ]
     },
     "execution_count": 296,
     "metadata": {},
     "output_type": "execute_result"
    }
   ],
   "source": [
    "merge['relacion'] = ( merge.cantidad_postulaciones / merge.cantidad_avisos)\n",
    "merge.head()"
   ]
  },
  {
   "cell_type": "code",
   "execution_count": 297,
   "metadata": {},
   "outputs": [
    {
     "data": {
      "text/plain": [
       "<matplotlib.axes._subplots.AxesSubplot at 0x15c009dffd0>"
      ]
     },
     "execution_count": 297,
     "metadata": {},
     "output_type": "execute_result"
    },
    {
     "data": {
      "image/png": "[encoded data removed]",
      "text/plain": [
       "<matplotlib.figure.Figure at 0x15c00a0b2b0>"
      ]
     },
     "metadata": {},
     "output_type": "display_data"
    }
   ],
   "source": [
    "merge.groupby('denominacion_empresa').agg({'relacion' : 'sum'}).sort_values(by = 'relacion', ascending = False).head(10).plot(kind = 'barh')\n",
    "#Grafico de relacion entre postulaciones y avisos (por empresa)"
   ]
  },
  {
   "cell_type": "code",
   "execution_count": 298,
   "metadata": {},
   "outputs": [
    {
     "name": "stdout",
     "output_type": "stream",
     "text": [
      "Cantidades con valores nulos :\n",
      "idpostulante       200888\n",
      "fechanacimiento    196138\n",
      "sexo               200888\n",
      "dtype: int64\n",
      "Cantidades sin valores nulos :\n",
      "idpostulante       196138\n",
      "fechanacimiento    196138\n",
      "sexo               196138\n",
      "dtype: int64\n"
     ]
    }
   ],
   "source": [
    "#NIVEL LABORAL Y EDAD MEDIA DE LOS POSTULANTES\n",
    "\n",
    "print('Cantidades con valores nulos :')\n",
    "print(postulantes_gye_df.count())\n",
    "#Solo la columna 'fechanacimiento' tiene valores nulos, los saco\n",
    "print('Cantidades sin valores nulos :')\n",
    "postulantes_gye_df = postulantes_gye_df.dropna()\n",
    "print(postulantes_gye_df.count())"
   ]
  },
  {
   "cell_type": "code",
   "execution_count": 299,
   "metadata": {},
   "outputs": [
    {
     "name": "stdout",
     "output_type": "stream",
     "text": [
      "Cantidad original: 196138\n",
      "\n",
      "Fechas incorrectas :\n",
      "       idpostulante fechanacimiento        sexo\n",
      "56206       xkPwXwY      0031-12-11         FEM\n",
      "71458       LN85Y3b      0029-05-11        MASC\n",
      "130846      8M2R6pz      0024-02-09         FEM\n",
      "141832      A36Npjj      0033-09-14         FEM\n",
      "145683      dYjV0rb      0012-11-04  NO_DECLARA\n",
      "148638      GNZOvAv      0004-07-19        MASC\n",
      "149653      1QPQ8QL      0011-03-08        MASC\n",
      "\n",
      "Cantidad de fechas incorrectas:  (7, 3)\n",
      "\n",
      "Cantidad sin fechas incorrectas :  (196131, 3)\n"
     ]
    }
   ],
   "source": [
    "#Hay fechas que no son correctas, las saco.\n",
    "print('Cantidad original: 196138')\n",
    "print('')\n",
    "print('Fechas incorrectas :')\n",
    "print(postulantes_gye_df[postulantes_gye_df['fechanacimiento'].str.startswith('00')])\n",
    "print('')\n",
    "print('Cantidad de fechas incorrectas: ' , postulantes_gye_df[postulantes_gye_df['fechanacimiento'].str.startswith('00')].shape)\n",
    "postulantes_gye_df = postulantes_gye_df[ (postulantes_gye_df['fechanacimiento'].str.startswith('00')) == False]\n",
    "print('')\n",
    "print('Cantidad sin fechas incorrectas : ', postulantes_gye_df.shape)\n"
   ]
  },
  {
   "cell_type": "code",
   "execution_count": 300,
   "metadata": {},
   "outputs": [
    {
     "name": "stdout",
     "output_type": "stream",
     "text": [
      "<class 'pandas.core.frame.DataFrame'>\n",
      "Int64Index: 196131 entries, 0 to 200886\n",
      "Data columns (total 3 columns):\n",
      "idpostulante       196131 non-null object\n",
      "fechanacimiento    196131 non-null datetime64[ns]\n",
      "sexo               196131 non-null object\n",
      "dtypes: datetime64[ns](1), object(2)\n",
      "memory usage: 6.0+ MB\n"
     ]
    }
   ],
   "source": [
    "#Ahora sin las fechas incorrectas, puedo calcular la edad promedio.\n",
    "postulantes_gye_df.fechanacimiento = pd.to_datetime(postulantes_gye_df.fechanacimiento)\n",
    "postulantes_gye_df.info()"
   ]
  },
  {
   "cell_type": "code",
   "execution_count": 301,
   "metadata": {},
   "outputs": [
    {
     "data": {
      "text/html": [
       "<div>\n",
       "<style scoped>\n",
       "    .dataframe tbody tr th:only-of-type {\n",
       "        vertical-align: middle;\n",
       "    }\n",
       "\n",
       "    .dataframe tbody tr th {\n",
       "        vertical-align: top;\n",
       "    }\n",
       "\n",
       "    .dataframe thead th {\n",
       "        text-align: right;\n",
       "    }\n",
       "</style>\n",
       "<table border=\"1\" class=\"dataframe\">\n",
       "  <thead>\n",
       "    <tr style=\"text-align: right;\">\n",
       "      <th></th>\n",
       "      <th>idpostulante</th>\n",
       "      <th>fechanacimiento</th>\n",
       "      <th>sexo</th>\n",
       "      <th>edad</th>\n",
       "    </tr>\n",
       "  </thead>\n",
       "  <tbody>\n",
       "    <tr>\n",
       "      <th>0</th>\n",
       "      <td>NM5M</td>\n",
       "      <td>1970-12-03</td>\n",
       "      <td>FEM</td>\n",
       "      <td>48</td>\n",
       "    </tr>\n",
       "    <tr>\n",
       "      <th>1</th>\n",
       "      <td>5awk</td>\n",
       "      <td>1962-12-04</td>\n",
       "      <td>FEM</td>\n",
       "      <td>56</td>\n",
       "    </tr>\n",
       "    <tr>\n",
       "      <th>2</th>\n",
       "      <td>ZaO5</td>\n",
       "      <td>1978-08-10</td>\n",
       "      <td>FEM</td>\n",
       "      <td>40</td>\n",
       "    </tr>\n",
       "    <tr>\n",
       "      <th>3</th>\n",
       "      <td>NdJl</td>\n",
       "      <td>1969-05-09</td>\n",
       "      <td>MASC</td>\n",
       "      <td>49</td>\n",
       "    </tr>\n",
       "    <tr>\n",
       "      <th>4</th>\n",
       "      <td>eo2p</td>\n",
       "      <td>1981-02-16</td>\n",
       "      <td>MASC</td>\n",
       "      <td>37</td>\n",
       "    </tr>\n",
       "  </tbody>\n",
       "</table>\n",
       "</div>"
      ],
      "text/plain": [
       "  idpostulante fechanacimiento  sexo  edad\n",
       "0         NM5M      1970-12-03   FEM    48\n",
       "1         5awk      1962-12-04   FEM    56\n",
       "2         ZaO5      1978-08-10   FEM    40\n",
       "3         NdJl      1969-05-09  MASC    49\n",
       "4         eo2p      1981-02-16  MASC    37"
      ]
     },
     "execution_count": 301,
     "metadata": {},
     "output_type": "execute_result"
    }
   ],
   "source": [
    "postulantes_gye_df['edad'] = (2018 - postulantes_gye_df.fechanacimiento.dt.year)\n",
    "postulantes_gye_df.head()"
   ]
  },
  {
   "cell_type": "code",
   "execution_count": 302,
   "metadata": {},
   "outputs": [
    {
     "name": "stdout",
     "output_type": "stream",
     "text": [
      "Postualantes con edad trucha: \n",
      "       idpostulante fechanacimiento  sexo  edad\n",
      "6869         a5qWAm      2006-01-01  MASC    12\n",
      "154559      xkdvwm0      1775-07-09  MASC   243\n",
      "156483      4rP8l0R      1921-08-18   FEM    97\n",
      "164618      96X1loa      1917-07-08  MASC   101\n"
     ]
    }
   ],
   "source": [
    "#Hay postulantes con mas de 100 años, tambien los saco\n",
    "print('Postualantes con edad trucha: ')\n",
    "print(postulantes_gye_df[ ( postulantes_gye_df['edad'] > 80) | (postulantes_gye_df['edad'] < 18) ])\n",
    "\n",
    "postulantes_gye_df = postulantes_gye_df[ ( (postulantes_gye_df['edad'] > 80) | (postulantes_gye_df['edad'] < 18) ) == False ]\n",
    "\n"
   ]
  },
  {
   "cell_type": "code",
   "execution_count": 310,
   "metadata": {},
   "outputs": [
    {
     "data": {
      "text/plain": [
       "Text(0.5,1,'Postulantes por edad')"
      ]
     },
     "execution_count": 310,
     "metadata": {},
     "output_type": "execute_result"
    },
    {
     "data": {
      "image/png": "[encoded data removed]",
      "text/plain": [
       "<matplotlib.figure.Figure at 0x15c22f58400>"
      ]
     },
     "metadata": {},
     "output_type": "display_data"
    }
   ],
   "source": [
    "postulantes_gye_df.edad.value_counts().sort_index().plot(kind = 'line').set_title('Postulantes por edad', fontsize=18)"
   ]
  },
  {
   "cell_type": "code",
   "execution_count": 313,
   "metadata": {},
   "outputs": [
    {
     "name": "stdout",
     "output_type": "stream",
     "text": [
      "(3034428, 16)\n"
     ]
    }
   ],
   "source": [
    "#Ahora junto la informacion de las edades con el data frame de postulaciones-avisos.\n",
    "merge = merge_detalle_postulaciones_df.merge(postulantes_gye_df, on = 'idpostulante')\n",
    "merge.head()\n",
    "print(merge.shape)"
   ]
  },
  {
   "cell_type": "code",
   "execution_count": 327,
   "metadata": {},
   "outputs": [
    {
     "data": {
      "text/plain": [
       "<matplotlib.axes._subplots.AxesSubplot at 0x15c00f50470>"
      ]
     },
     "execution_count": 327,
     "metadata": {},
     "output_type": "execute_result"
    },
    {
     "data": {
      "image/png": "[encoded data removed]",
      "text/plain": [
       "<matplotlib.figure.Figure at 0x15c00f562e8>"
      ]
     },
     "metadata": {},
     "output_type": "display_data"
    }
   ],
   "source": [
    "merge.groupby('nivel_laboral').agg({'edad':'mean'}).plot(kind = 'bar',rot = 60)"
   ]
  },
  {
   "cell_type": "code",
   "execution_count": null,
   "metadata": {},
   "outputs": [],
   "source": []
  }
 ],
 "metadata": {
  "kernelspec": {
   "display_name": "Python 3",
   "language": "python",
   "name": "python3"
  },
  "language_info": {
   "codemirror_mode": {
    "name": "ipython",
    "version": 3
   },
   "file_extension": ".py",
   "mimetype": "text/x-python",
   "name": "python",
   "nbconvert_exporter": "python",
   "pygments_lexer": "ipython3",
   "version": "3.6.4"
  }
 },
 "nbformat": 4,
 "nbformat_minor": 2
}
