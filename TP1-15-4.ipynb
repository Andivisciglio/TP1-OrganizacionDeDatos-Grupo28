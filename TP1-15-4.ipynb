{
 "cells": [
  {
   "cell_type": "code",
   "execution_count": 1,
   "metadata": {},
   "outputs": [],
   "source": [
    "import datetime as datetime\n",
    "import pandas as pd\n",
    "import numpy as np\n",
    "import matplotlib.pyplot as plt\n",
    "import seaborn as sns\n",
    "\n",
    "%matplotlib inline\n",
    "\n",
    "plt.style.use('default') # haciendo los graficos un poco mas bonitos en matplotlib\n",
    "#plt.rcParams['figure.figsize'] = (20, 10)\n",
    "\n",
    "sns.set(style=\"whitegrid\") # seteando tipo de grid en seaborn"
   ]
  },
  {
   "cell_type": "code",
   "execution_count": 118,
   "metadata": {},
   "outputs": [],
   "source": [
    "postulantes_edu_df = pd.read_csv('fiuba_1_postulantes_educacion.csv')\n",
    "postulantes_gye_df = pd.read_csv('fiuba_2_postulantes_genero_y_edad.csv')\n",
    "vistas_df = pd.read_csv('fiuba_3_vistas.csv')\n",
    "postulaciones_df = pd.read_csv('fiuba_4_postulaciones.csv')\n",
    "avisos_online_df = pd.read_csv('fiuba_5_avisos_online.csv')\n",
    "avisos_detalle_df = pd.read_csv('fiuba_6_avisos_detalle.csv')"
   ]
  },
  {
   "cell_type": "markdown",
   "metadata": {},
   "source": [
    "# Analizamos la informacion disponible"
   ]
  },
  {
   "cell_type": "code",
   "execution_count": 3,
   "metadata": {},
   "outputs": [
    {
     "data": {
      "text/plain": [
       "Index(['idaviso', 'idpostulante', 'fechapostulacion'], dtype='object')"
      ]
     },
     "execution_count": 3,
     "metadata": {},
     "output_type": "execute_result"
    }
   ],
   "source": [
    "postulaciones_df.columns"
   ]
  },
  {
   "cell_type": "code",
   "execution_count": 4,
   "metadata": {},
   "outputs": [
    {
     "name": "stdout",
     "output_type": "stream",
     "text": [
      "False\n",
      "False\n",
      "False\n"
     ]
    }
   ],
   "source": [
    "#Verificamos que no haya nulos en las columnas del dataframe\n",
    "print(postulaciones_df['idaviso'].isnull().any())\n",
    "print(postulaciones_df['fechapostulacion'].isnull().any())\n",
    "print(postulaciones_df['idpostulante'].isnull().any())\n"
   ]
  },
  {
   "cell_type": "code",
   "execution_count": 5,
   "metadata": {},
   "outputs": [
    {
     "data": {
      "text/plain": [
       "Index(['idaviso', 'idpais', 'titulo', 'descripcion', 'nombre_zona', 'ciudad',\n",
       "       'mapacalle', 'tipo_de_trabajo', 'nivel_laboral', 'nombre_area',\n",
       "       'denominacion_empresa'],\n",
       "      dtype='object')"
      ]
     },
     "execution_count": 5,
     "metadata": {},
     "output_type": "execute_result"
    }
   ],
   "source": [
    "avisos_detalle_df.columns"
   ]
  },
  {
   "cell_type": "code",
   "execution_count": 6,
   "metadata": {},
   "outputs": [
    {
     "name": "stdout",
     "output_type": "stream",
     "text": [
      "False\n",
      "False\n",
      "False\n",
      "True\n",
      "False\n",
      "False\n",
      "False\n",
      "False\n",
      "False\n",
      "False\n",
      "True\n",
      "False\n"
     ]
    }
   ],
   "source": [
    "print(avisos_detalle_df['idaviso'].isnull().any())\n",
    "print(avisos_detalle_df['idpais'].isnull().any())\n",
    "print(avisos_detalle_df['titulo'].isnull().any())\n",
    "print(avisos_detalle_df['mapacalle'].isnull().any())\n",
    "print(avisos_detalle_df['tipo_de_trabajo'].isnull().any())\n",
    "print(avisos_detalle_df['nivel_laboral'].isnull().any())\n",
    "print(avisos_detalle_df['nombre_area'].isnull().any())\n",
    "print(avisos_detalle_df['descripcion'].isnull().any())\n",
    "print(avisos_detalle_df['titulo'].isnull().any())\n",
    "print(avisos_detalle_df['idaviso'].isnull().any())\n",
    "print(avisos_detalle_df['ciudad'].isnull().any())\n",
    "print(avisos_detalle_df['nombre_zona'].isnull().any())"
   ]
  },
  {
   "cell_type": "code",
   "execution_count": 7,
   "metadata": {},
   "outputs": [
    {
     "name": "stdout",
     "output_type": "stream",
     "text": [
      "(13534,)\n",
      "47\n"
     ]
    }
   ],
   "source": [
    "#Observo que solo 47 avisos de 13mil tienen ciudad especificada.\n",
    "#No es suficiente como para generalizar conclusiones.\n",
    "#Eliminamos la columna \"ciudad\"\n",
    "print(avisos_detalle_df['ciudad'].shape)\n",
    "print(avisos_detalle_df['ciudad'].count())\n",
    "avisos_detalle_df = avisos_detalle_df.drop('ciudad', 1)\n"
   ]
  },
  {
   "cell_type": "code",
   "execution_count": 83,
   "metadata": {},
   "outputs": [
    {
     "name": "stdout",
     "output_type": "stream",
     "text": [
      "1    13534\n",
      "Name: idpais, dtype: int64\n"
     ]
    }
   ],
   "source": [
    "#Observamos que la columna \"idpais\" siempre tiene el mismo valor.\n",
    "print(avisos_detalle_df['idpais'].value_counts())\n"
   ]
  },
  {
   "cell_type": "code",
   "execution_count": 84,
   "metadata": {},
   "outputs": [],
   "source": [
    "#Como no brinda informacion relevante, la eliminamos.\n",
    "avisos_detalle_df = avisos_detalle_df.drop('idpais',1)"
   ]
  },
  {
   "cell_type": "code",
   "execution_count": 8,
   "metadata": {},
   "outputs": [
    {
     "data": {
      "text/plain": [
       "Gran Buenos Aires              12654\n",
       "Capital Federal                  876\n",
       "Buenos Aires (fuera de GBA)        2\n",
       "GBA Oeste                          2\n",
       "Name: nombre_zona, dtype: int64"
      ]
     },
     "execution_count": 8,
     "metadata": {},
     "output_type": "execute_result"
    }
   ],
   "source": [
    "avisos_detalle_df['nombre_zona'].value_counts()"
   ]
  },
  {
   "cell_type": "code",
   "execution_count": 87,
   "metadata": {},
   "outputs": [
    {
     "name": "stdout",
     "output_type": "stream",
     "text": [
      "27    232145\n",
      "26    227957\n",
      "28    227160\n",
      "24     95930\n",
      "25     90646\n",
      "23     47236\n",
      "1      40823\n",
      "Name: timestamp, dtype: int64\n",
      "2    921074\n",
      "3     40823\n",
      "Name: timestamp, dtype: int64\n"
     ]
    }
   ],
   "source": [
    "#Vemos que los datos del archivo de vistas son limitados a unos pocos dias del mes de febrero y solo un dia de marzo.\n",
    "vistas_df['timestamp'] = pd.to_datetime(vistas_df['timestamp'])\n",
    "print(vistas_df['timestamp'].dt.day.value_counts())\n",
    "print(vistas_df['timestamp'].dt.month.value_counts())"
   ]
  },
  {
   "cell_type": "code",
   "execution_count": 106,
   "metadata": {},
   "outputs": [
    {
     "name": "stdout",
     "output_type": "stream",
     "text": [
      "idpostulante       False\n",
      "fechanacimiento     True\n",
      "sexo               False\n",
      "dtype: bool\n",
      "\n",
      "False    196138\n",
      "True       4750\n",
      "Name: fechanacimiento, dtype: int64\n",
      "\n",
      "True indica la cantidad de fechas nulas.\n"
     ]
    }
   ],
   "source": [
    "#Al trabajar con los datos de los postulantes, se ve que hay fechas nulas.\n",
    "print(postulantes_gye_df.isnull().any())\n",
    "print()\n",
    "print(postulantes_gye_df['fechanacimiento'].isnull().value_counts())\n",
    "print()\n",
    "print('True indica la cantidad de fechas nulas.')\n"
   ]
  },
  {
   "cell_type": "code",
   "execution_count": 107,
   "metadata": {},
   "outputs": [
    {
     "data": {
      "text/plain": [
       "FEM           101981\n",
       "MASC           94339\n",
       "NO_DECLARA      4568\n",
       "Name: sexo, dtype: int64"
      ]
     },
     "execution_count": 107,
     "metadata": {},
     "output_type": "execute_result"
    }
   ],
   "source": [
    "postulantes_gye_df['sexo'].value_counts()"
   ]
  },
  {
   "cell_type": "code",
   "execution_count": 108,
   "metadata": {},
   "outputs": [
    {
     "data": {
      "text/plain": [
       "FEM           101677\n",
       "MASC           94016\n",
       "NO_DECLARA       445\n",
       "Name: sexo, dtype: int64"
      ]
     },
     "execution_count": 108,
     "metadata": {},
     "output_type": "execute_result"
    }
   ],
   "source": [
    "#Se ve que la mayoria de entradas con fecha nula, estan asociadas a sexo no declarado.\n",
    "postulantes_gye_df = postulantes_gye_df.dropna()\n",
    "postulantes_gye_df['sexo'].value_counts()"
   ]
  },
  {
   "cell_type": "code",
   "execution_count": 109,
   "metadata": {},
   "outputs": [],
   "source": [
    "#Como la cantidad de entradas con sexo no declarado bajo considerablemente, no es suficiente como para generalizar.\n",
    "#Eliminamos esas entradas\n",
    "postulantes_gye_df = postulantes_gye_df[ (postulantes_gye_df['sexo'] == 'NO_DECLARA') == False]\n"
   ]
  },
  {
   "cell_type": "code",
   "execution_count": 110,
   "metadata": {},
   "outputs": [
    {
     "data": {
      "text/plain": [
       "FEM     101677\n",
       "MASC     94016\n",
       "Name: sexo, dtype: int64"
      ]
     },
     "execution_count": 110,
     "metadata": {},
     "output_type": "execute_result"
    }
   ],
   "source": [
    "postulantes_gye_df['sexo'].value_counts()"
   ]
  },
  {
   "cell_type": "code",
   "execution_count": 111,
   "metadata": {},
   "outputs": [
    {
     "name": "stdout",
     "output_type": "stream",
     "text": [
      "Fechas incorrectas :\n",
      "       idpostulante fechanacimiento  sexo\n",
      "56206       xkPwXwY      0031-12-11   FEM\n",
      "71458       LN85Y3b      0029-05-11  MASC\n",
      "130846      8M2R6pz      0024-02-09   FEM\n",
      "141832      A36Npjj      0033-09-14   FEM\n",
      "148638      GNZOvAv      0004-07-19  MASC\n",
      "149653      1QPQ8QL      0011-03-08  MASC\n"
     ]
    }
   ],
   "source": [
    "#Tambien en este archivo se puede ver que hay fechas anormales, que seran filtradas luego dependiendo de que se busca averiguar.\n",
    "print('Entradas con fechas incorrectas :')\n",
    "print(postulantes_gye_df[postulantes_gye_df['fechanacimiento'].str.startswith('00')])"
   ]
  },
  {
   "cell_type": "code",
   "execution_count": 135,
   "metadata": {},
   "outputs": [
    {
     "name": "stdout",
     "output_type": "stream",
     "text": [
      "axmjOE     3166\n",
      "6rQdqjl    1773\n",
      "5Mwjak     1485\n",
      "8MaQjP3    1414\n",
      "4rNzLje    1213\n",
      "Name: idpostulante, dtype: int64\n",
      "\n",
      "El promedio de postulaciones por usuario es:  16.93293277846362\n"
     ]
    }
   ],
   "source": [
    "#Analizando la cantidad de postulaciones por usuario, nos encontramos con tres casos atipicos donde se supera holgadamente el promedio de postulaciones por usuario.\n",
    "#Sin embargo los datos son irrelevantes a la hora de analizar el archivo en su totalidad.\n",
    "print(postulaciones_df['idpostulante'].value_counts().head(5))\n",
    "print()\n",
    "print('El promedio de postulaciones por usuario es: ', postulaciones_df['idpostulante'].value_counts().mean() )"
   ]
  },
  {
   "cell_type": "code",
   "execution_count": null,
   "metadata": {},
   "outputs": [],
   "source": []
  },
  {
   "cell_type": "code",
   "execution_count": null,
   "metadata": {},
   "outputs": [],
   "source": []
  },
  {
   "cell_type": "code",
   "execution_count": 9,
   "metadata": {},
   "outputs": [
    {
     "name": "stdout",
     "output_type": "stream",
     "text": [
      "(876, 10)\n",
      "\n",
      "872\n"
     ]
    }
   ],
   "source": [
    "#La cantidad de informacion sobre mapacalle coincide con la cantidad de avisos en capital federal.\n",
    "\n",
    "print(avisos_detalle_df[avisos_detalle_df['nombre_zona'] == 'Capital Federal'].shape)\n",
    "print()\n",
    "print(avisos_detalle_df['mapacalle'].count())"
   ]
  },
  {
   "cell_type": "code",
   "execution_count": 10,
   "metadata": {},
   "outputs": [
    {
     "name": "stdout",
     "output_type": "stream",
     "text": [
      "872\n",
      "(876, 10)\n",
      "871\n"
     ]
    }
   ],
   "source": [
    "print(avisos_detalle_df['mapacalle'].count())\n",
    "\n",
    "#Filtro para avisos en capital federal\n",
    "\n",
    "avisos_caba_df = avisos_detalle_df[avisos_detalle_df['nombre_zona'] == 'Capital Federal']\n",
    "print(avisos_caba_df.shape)\n",
    "print(avisos_caba_df['mapacalle'].count())"
   ]
  },
  {
   "cell_type": "code",
   "execution_count": 12,
   "metadata": {},
   "outputs": [
    {
     "data": {
      "text/html": [
       "<div>\n",
       "<style scoped>\n",
       "    .dataframe tbody tr th:only-of-type {\n",
       "        vertical-align: middle;\n",
       "    }\n",
       "\n",
       "    .dataframe tbody tr th {\n",
       "        vertical-align: top;\n",
       "    }\n",
       "\n",
       "    .dataframe thead th {\n",
       "        text-align: right;\n",
       "    }\n",
       "</style>\n",
       "<table border=\"1\" class=\"dataframe\">\n",
       "  <thead>\n",
       "    <tr style=\"text-align: right;\">\n",
       "      <th></th>\n",
       "      <th>idaviso</th>\n",
       "      <th>idpais</th>\n",
       "      <th>titulo</th>\n",
       "      <th>descripcion</th>\n",
       "      <th>nombre_zona</th>\n",
       "      <th>mapacalle</th>\n",
       "      <th>tipo_de_trabajo</th>\n",
       "      <th>nivel_laboral</th>\n",
       "      <th>nombre_area</th>\n",
       "      <th>denominacion_empresa</th>\n",
       "    </tr>\n",
       "  </thead>\n",
       "  <tbody>\n",
       "    <tr>\n",
       "      <th>2</th>\n",
       "      <td>1000150677</td>\n",
       "      <td>1</td>\n",
       "      <td>Chofer de taxi</td>\n",
       "      <td>&lt;p&gt;TE GUSTA MANEJAR? QUERES GANAR PLATA HACIEN...</td>\n",
       "      <td>Capital Federal</td>\n",
       "      <td>Empedrado 2336</td>\n",
       "      <td>Full-time</td>\n",
       "      <td>Senior / Semi-Senior</td>\n",
       "      <td>Transporte</td>\n",
       "      <td>FAMITAX SRL</td>\n",
       "    </tr>\n",
       "    <tr>\n",
       "      <th>8</th>\n",
       "      <td>9240880</td>\n",
       "      <td>1</td>\n",
       "      <td>Productores Asesores Independiente, para venta...</td>\n",
       "      <td>Agente\\r\\noficial Selecciona:&lt;/span&gt;&lt;/strong&gt;&lt;...</td>\n",
       "      <td>Capital Federal</td>\n",
       "      <td>NaN</td>\n",
       "      <td>Full-time</td>\n",
       "      <td>Jefe / Supervisor / Responsable</td>\n",
       "      <td>Comercial</td>\n",
       "      <td>Agencia Oficial Alejandro Arizaga</td>\n",
       "    </tr>\n",
       "    <tr>\n",
       "      <th>24</th>\n",
       "      <td>1110640622</td>\n",
       "      <td>1</td>\n",
       "      <td>Agente Inmobiliario para Oficinas RE/MAX en Zo...</td>\n",
       "      <td>&lt;p&gt;Si te gusta deleitar a tus clientes, brinda...</td>\n",
       "      <td>Capital Federal</td>\n",
       "      <td>Gobernador Irigoyen 56</td>\n",
       "      <td>Full-time</td>\n",
       "      <td>Senior / Semi-Senior</td>\n",
       "      <td>Comercial</td>\n",
       "      <td>RE/MAX TITANIUM</td>\n",
       "    </tr>\n",
       "    <tr>\n",
       "      <th>34</th>\n",
       "      <td>1111035451</td>\n",
       "      <td>1</td>\n",
       "      <td>Checker de procesos (laboratorio)</td>\n",
       "      <td>&lt;p&gt;Importante laboratorio farmacéutico naciona...</td>\n",
       "      <td>Capital Federal</td>\n",
       "      <td>Cochabamba 2525</td>\n",
       "      <td>Full-time</td>\n",
       "      <td>Senior / Semi-Senior</td>\n",
       "      <td>Farmacéutica</td>\n",
       "      <td>GI GROUP Argentina</td>\n",
       "    </tr>\n",
       "    <tr>\n",
       "      <th>46</th>\n",
       "      <td>1111174081</td>\n",
       "      <td>1</td>\n",
       "      <td>Gestor de Cobranzas - Telecobrador</td>\n",
       "      <td>&lt;p&gt;&lt;strong&gt;En MAS ACTIVOS BPO te estamos esper...</td>\n",
       "      <td>Capital Federal</td>\n",
       "      <td>ALEM 116</td>\n",
       "      <td>Part-time</td>\n",
       "      <td>Senior / Semi-Senior</td>\n",
       "      <td>Call Center</td>\n",
       "      <td>MAS ACTIVOS S.A.</td>\n",
       "    </tr>\n",
       "  </tbody>\n",
       "</table>\n",
       "</div>"
      ],
      "text/plain": [
       "       idaviso  idpais                                             titulo  \\\n",
       "2   1000150677       1                                     Chofer de taxi   \n",
       "8      9240880       1  Productores Asesores Independiente, para venta...   \n",
       "24  1110640622       1  Agente Inmobiliario para Oficinas RE/MAX en Zo...   \n",
       "34  1111035451       1                  Checker de procesos (laboratorio)   \n",
       "46  1111174081       1                 Gestor de Cobranzas - Telecobrador   \n",
       "\n",
       "                                          descripcion      nombre_zona  \\\n",
       "2   <p>TE GUSTA MANEJAR? QUERES GANAR PLATA HACIEN...  Capital Federal   \n",
       "8   Agente\\r\\noficial Selecciona:</span></strong><...  Capital Federal   \n",
       "24  <p>Si te gusta deleitar a tus clientes, brinda...  Capital Federal   \n",
       "34  <p>Importante laboratorio farmacéutico naciona...  Capital Federal   \n",
       "46  <p><strong>En MAS ACTIVOS BPO te estamos esper...  Capital Federal   \n",
       "\n",
       "                 mapacalle tipo_de_trabajo                    nivel_laboral  \\\n",
       "2           Empedrado 2336       Full-time             Senior / Semi-Senior   \n",
       "8                      NaN       Full-time  Jefe / Supervisor / Responsable   \n",
       "24  Gobernador Irigoyen 56       Full-time             Senior / Semi-Senior   \n",
       "34         Cochabamba 2525       Full-time             Senior / Semi-Senior   \n",
       "46                ALEM 116       Part-time             Senior / Semi-Senior   \n",
       "\n",
       "     nombre_area               denominacion_empresa  \n",
       "2     Transporte                        FAMITAX SRL  \n",
       "8      Comercial  Agencia Oficial Alejandro Arizaga  \n",
       "24     Comercial                    RE/MAX TITANIUM  \n",
       "34  Farmacéutica                 GI GROUP Argentina  \n",
       "46   Call Center                   MAS ACTIVOS S.A.  "
      ]
     },
     "execution_count": 12,
     "metadata": {},
     "output_type": "execute_result"
    }
   ],
   "source": [
    "avisos_caba_df.head()"
   ]
  },
  {
   "cell_type": "markdown",
   "metadata": {},
   "source": [
    "¿Que nivel laboral tiene mayor oferta?"
   ]
  },
  {
   "cell_type": "code",
   "execution_count": 13,
   "metadata": {},
   "outputs": [],
   "source": [
    "merge_detalle_postulaciones_df = postulaciones_df.merge(avisos_detalle_df, on = 'idaviso')"
   ]
  },
  {
   "cell_type": "code",
   "execution_count": 14,
   "metadata": {},
   "outputs": [
    {
     "data": {
      "text/plain": [
       "idaviso                 3074206\n",
       "idpostulante            3074206\n",
       "fechapostulacion        3074206\n",
       "idpais                  3074206\n",
       "titulo                  3074206\n",
       "descripcion             3074206\n",
       "nombre_zona             3074206\n",
       "mapacalle                205497\n",
       "tipo_de_trabajo         3074206\n",
       "nivel_laboral           3074206\n",
       "nombre_area             3074206\n",
       "denominacion_empresa    3073956\n",
       "dtype: int64"
      ]
     },
     "execution_count": 14,
     "metadata": {},
     "output_type": "execute_result"
    }
   ],
   "source": [
    "merge_detalle_postulaciones_df.count()"
   ]
  },
  {
   "cell_type": "markdown",
   "metadata": {},
   "source": [
    "Se identifican las variables categoricas de la columna \"nivel Laboral\""
   ]
  },
  {
   "cell_type": "code",
   "execution_count": 15,
   "metadata": {},
   "outputs": [
    {
     "data": {
      "text/plain": [
       "array(['Senior / Semi-Senior', 'Junior',\n",
       "       'Jefe / Supervisor / Responsable', 'Otro',\n",
       "       'Gerencia / Alta Gerencia / Dirección'], dtype=object)"
      ]
     },
     "execution_count": 15,
     "metadata": {},
     "output_type": "execute_result"
    }
   ],
   "source": [
    "avisos_detalle_df['nivel_laboral'].unique()"
   ]
  },
  {
   "cell_type": "code",
   "execution_count": 16,
   "metadata": {},
   "outputs": [
    {
     "data": {
      "text/plain": [
       "Senior / Semi-Senior                    9407\n",
       "Junior                                  2216\n",
       "Otro                                     921\n",
       "Jefe / Supervisor / Responsable          809\n",
       "Gerencia / Alta Gerencia / Dirección     181\n",
       "Name: nivel_laboral, dtype: int64"
      ]
     },
     "execution_count": 16,
     "metadata": {},
     "output_type": "execute_result"
    }
   ],
   "source": [
    "avisos_detalle_df['nivel_laboral'].value_counts()"
   ]
  },
  {
   "cell_type": "code",
   "execution_count": 17,
   "metadata": {},
   "outputs": [
    {
     "data": {
      "text/plain": [
       "Text(0,0.5,'Nivel laboral')"
      ]
     },
     "execution_count": 17,
     "metadata": {},
     "output_type": "execute_result"
    },
    {
     "data": {
      "image/png": "[encoded data removed]",
      "text/plain": [
       "<matplotlib.figure.Figure at 0x21d714bb2b0>"
      ]
     },
     "metadata": {},
     "output_type": "display_data"
    }
   ],
   "source": [
    "avisos_por_nivel = avisos_detalle_df['nivel_laboral'].value_counts(ascending = True).plot(kind = 'barh', color = ['lightblue','lightblue','lightblue','lightblue','blue'])\n",
    "avisos_por_nivel.set_title(\"Cantidad de avisos por nivel laboral\", fontsize = 20)\n",
    "avisos_por_nivel.set_xlabel(\"Numero de avisos\")\n",
    "avisos_por_nivel.set_ylabel(\"Nivel laboral\")"
   ]
  },
  {
   "cell_type": "code",
   "execution_count": 18,
   "metadata": {},
   "outputs": [
    {
     "data": {
      "text/plain": [
       "Text(0.5,1,'Postulaciones por nivel laboral')"
      ]
     },
     "execution_count": 18,
     "metadata": {},
     "output_type": "execute_result"
    },
    {
     "data": {
      "image/png": "[encoded data removed]",
      "text/plain": [
       "<matplotlib.figure.Figure at 0x21d716f9550>"
      ]
     },
     "metadata": {},
     "output_type": "display_data"
    }
   ],
   "source": [
    "postulaciones_por_nivel = merge_detalle_postulaciones_df['nivel_laboral'].value_counts(ascending=True).plot(kind = 'barh',color = ['lightblue','lightblue','lightblue','lightblue','blue'])\n",
    "postulaciones_por_nivel.set_title(\"Postulaciones por nivel laboral\", fontsize = 20)"
   ]
  },
  {
   "cell_type": "markdown",
   "metadata": {},
   "source": [
    "# ¿Algun area laboral tiene mucha oferta en relacion a su demanda? ¿Y algun area tiene demanda de sobra?"
   ]
  },
  {
   "cell_type": "code",
   "execution_count": 19,
   "metadata": {},
   "outputs": [
    {
     "data": {
      "text/plain": [
       "Text(0.5,1,'Top 10 areas con mas avisos')"
      ]
     },
     "execution_count": 19,
     "metadata": {},
     "output_type": "execute_result"
    },
    {
     "data": {
      "image/png": "[encoded data removed]",
      "text/plain": [
       "<matplotlib.figure.Figure at 0x21d01402748>"
      ]
     },
     "metadata": {},
     "output_type": "display_data"
    }
   ],
   "source": [
    "avisos_por_nombre_area = avisos_detalle_df['nombre_area'].value_counts().head(10).sort_values().plot(kind = 'barh',colormap='Paired')\n",
    "avisos_por_nombre_area.set_title(\"Top 10 areas con mas avisos\")"
   ]
  },
  {
   "cell_type": "code",
   "execution_count": 20,
   "metadata": {},
   "outputs": [
    {
     "data": {
      "text/plain": [
       "Text(0.5,1,'Top 10 areas con mas postulaciones')"
      ]
     },
     "execution_count": 20,
     "metadata": {},
     "output_type": "execute_result"
    },
    {
     "data": {
      "image/png": "[encoded data removed]",
      "text/plain": [
       "<matplotlib.figure.Figure at 0x21d014c35c0>"
      ]
     },
     "metadata": {},
     "output_type": "display_data"
    }
   ],
   "source": [
    "postulaciones_por_nombre_area = merge_detalle_postulaciones_df['nombre_area'].value_counts().head(10).sort_values().plot(kind = 'barh',colormap='Paired')\n",
    "postulaciones_por_nombre_area.set_title(\"Top 10 areas con mas postulaciones\")"
   ]
  },
  {
   "cell_type": "code",
   "execution_count": 21,
   "metadata": {},
   "outputs": [
    {
     "data": {
      "text/html": [
       "<div>\n",
       "<style scoped>\n",
       "    .dataframe tbody tr th:only-of-type {\n",
       "        vertical-align: middle;\n",
       "    }\n",
       "\n",
       "    .dataframe tbody tr th {\n",
       "        vertical-align: top;\n",
       "    }\n",
       "\n",
       "    .dataframe thead th {\n",
       "        text-align: right;\n",
       "    }\n",
       "</style>\n",
       "<table border=\"1\" class=\"dataframe\">\n",
       "  <thead>\n",
       "    <tr style=\"text-align: right;\">\n",
       "      <th></th>\n",
       "      <th>idaviso</th>\n",
       "      <th>idpostulante</th>\n",
       "      <th>fechapostulacion</th>\n",
       "    </tr>\n",
       "  </thead>\n",
       "  <tbody>\n",
       "    <tr>\n",
       "      <th>0</th>\n",
       "      <td>1112257047</td>\n",
       "      <td>NM5M</td>\n",
       "      <td>2018-01-15 16:22:34</td>\n",
       "    </tr>\n",
       "    <tr>\n",
       "      <th>1</th>\n",
       "      <td>1111920714</td>\n",
       "      <td>NM5M</td>\n",
       "      <td>2018-02-06 09:04:50</td>\n",
       "    </tr>\n",
       "    <tr>\n",
       "      <th>2</th>\n",
       "      <td>1112346945</td>\n",
       "      <td>NM5M</td>\n",
       "      <td>2018-02-22 09:04:47</td>\n",
       "    </tr>\n",
       "    <tr>\n",
       "      <th>3</th>\n",
       "      <td>1112345547</td>\n",
       "      <td>NM5M</td>\n",
       "      <td>2018-02-22 09:04:59</td>\n",
       "    </tr>\n",
       "    <tr>\n",
       "      <th>4</th>\n",
       "      <td>1112237522</td>\n",
       "      <td>5awk</td>\n",
       "      <td>2018-01-25 18:55:03</td>\n",
       "    </tr>\n",
       "    <tr>\n",
       "      <th>5</th>\n",
       "      <td>1112277633</td>\n",
       "      <td>5awk</td>\n",
       "      <td>2018-01-29 13:34:44</td>\n",
       "    </tr>\n",
       "    <tr>\n",
       "      <th>6</th>\n",
       "      <td>1112302347</td>\n",
       "      <td>5awk</td>\n",
       "      <td>2018-02-07 20:49:22</td>\n",
       "    </tr>\n",
       "    <tr>\n",
       "      <th>7</th>\n",
       "      <td>1112291495</td>\n",
       "      <td>5awk</td>\n",
       "      <td>2018-02-07 20:50:13</td>\n",
       "    </tr>\n",
       "    <tr>\n",
       "      <th>8</th>\n",
       "      <td>1112304011</td>\n",
       "      <td>5awk</td>\n",
       "      <td>2018-02-07 20:51:15</td>\n",
       "    </tr>\n",
       "    <tr>\n",
       "      <th>9</th>\n",
       "      <td>1112326289</td>\n",
       "      <td>5awk</td>\n",
       "      <td>2018-02-09 20:24:57</td>\n",
       "    </tr>\n",
       "    <tr>\n",
       "      <th>10</th>\n",
       "      <td>1112303543</td>\n",
       "      <td>5awk</td>\n",
       "      <td>2018-02-18 23:49:34</td>\n",
       "    </tr>\n",
       "    <tr>\n",
       "      <th>11</th>\n",
       "      <td>1112315393</td>\n",
       "      <td>5awk</td>\n",
       "      <td>2018-02-19 00:01:20</td>\n",
       "    </tr>\n",
       "    <tr>\n",
       "      <th>12</th>\n",
       "      <td>1112315188</td>\n",
       "      <td>5awk</td>\n",
       "      <td>2018-02-28 15:54:28</td>\n",
       "    </tr>\n",
       "    <tr>\n",
       "      <th>13</th>\n",
       "      <td>1112346738</td>\n",
       "      <td>5awk</td>\n",
       "      <td>2018-02-28 15:54:47</td>\n",
       "    </tr>\n",
       "    <tr>\n",
       "      <th>14</th>\n",
       "      <td>1112330625</td>\n",
       "      <td>5awk</td>\n",
       "      <td>2018-02-28 15:56:43</td>\n",
       "    </tr>\n",
       "    <tr>\n",
       "      <th>15</th>\n",
       "      <td>1112306543</td>\n",
       "      <td>5awk</td>\n",
       "      <td>2018-02-28 15:57:35</td>\n",
       "    </tr>\n",
       "    <tr>\n",
       "      <th>16</th>\n",
       "      <td>1112315170</td>\n",
       "      <td>5awk</td>\n",
       "      <td>2018-02-28 15:59:14</td>\n",
       "    </tr>\n",
       "    <tr>\n",
       "      <th>17</th>\n",
       "      <td>1111799928</td>\n",
       "      <td>5awk</td>\n",
       "      <td>2018-02-28 16:00:06</td>\n",
       "    </tr>\n",
       "    <tr>\n",
       "      <th>18</th>\n",
       "      <td>1112323355</td>\n",
       "      <td>5awk</td>\n",
       "      <td>2018-02-28 16:00:41</td>\n",
       "    </tr>\n",
       "    <tr>\n",
       "      <th>19</th>\n",
       "      <td>1112305358</td>\n",
       "      <td>5awk</td>\n",
       "      <td>2018-02-28 16:02:15</td>\n",
       "    </tr>\n",
       "    <tr>\n",
       "      <th>20</th>\n",
       "      <td>1112286523</td>\n",
       "      <td>ZaO5</td>\n",
       "      <td>2018-01-24 15:07:39</td>\n",
       "    </tr>\n",
       "    <tr>\n",
       "      <th>21</th>\n",
       "      <td>1112272060</td>\n",
       "      <td>ZaO5</td>\n",
       "      <td>2018-01-24 15:20:10</td>\n",
       "    </tr>\n",
       "    <tr>\n",
       "      <th>22</th>\n",
       "      <td>1112288401</td>\n",
       "      <td>ZaO5</td>\n",
       "      <td>2018-01-26 08:37:04</td>\n",
       "    </tr>\n",
       "    <tr>\n",
       "      <th>23</th>\n",
       "      <td>1112300563</td>\n",
       "      <td>ZaO5</td>\n",
       "      <td>2018-01-30 13:35:48</td>\n",
       "    </tr>\n",
       "    <tr>\n",
       "      <th>24</th>\n",
       "      <td>1112293018</td>\n",
       "      <td>ZaO5</td>\n",
       "      <td>2018-01-31 08:41:05</td>\n",
       "    </tr>\n",
       "    <tr>\n",
       "      <th>25</th>\n",
       "      <td>1112301287</td>\n",
       "      <td>ZaO5</td>\n",
       "      <td>2018-01-31 08:55:20</td>\n",
       "    </tr>\n",
       "    <tr>\n",
       "      <th>26</th>\n",
       "      <td>1112309589</td>\n",
       "      <td>ZaO5</td>\n",
       "      <td>2018-02-03 15:55:15</td>\n",
       "    </tr>\n",
       "    <tr>\n",
       "      <th>27</th>\n",
       "      <td>1112317020</td>\n",
       "      <td>ZaO5</td>\n",
       "      <td>2018-02-07 09:56:22</td>\n",
       "    </tr>\n",
       "    <tr>\n",
       "      <th>28</th>\n",
       "      <td>1112322363</td>\n",
       "      <td>ZaO5</td>\n",
       "      <td>2018-02-09 10:29:54</td>\n",
       "    </tr>\n",
       "    <tr>\n",
       "      <th>29</th>\n",
       "      <td>1112327122</td>\n",
       "      <td>ZaO5</td>\n",
       "      <td>2018-02-11 17:49:26</td>\n",
       "    </tr>\n",
       "    <tr>\n",
       "      <th>...</th>\n",
       "      <td>...</td>\n",
       "      <td>...</td>\n",
       "      <td>...</td>\n",
       "    </tr>\n",
       "    <tr>\n",
       "      <th>3401593</th>\n",
       "      <td>1112345347</td>\n",
       "      <td>PmGP9vJ</td>\n",
       "      <td>2018-02-28 23:52:11</td>\n",
       "    </tr>\n",
       "    <tr>\n",
       "      <th>3401594</th>\n",
       "      <td>1112357658</td>\n",
       "      <td>PmGP9vJ</td>\n",
       "      <td>2018-02-28 23:58:12</td>\n",
       "    </tr>\n",
       "    <tr>\n",
       "      <th>3401595</th>\n",
       "      <td>1112368250</td>\n",
       "      <td>GNZqAaE</td>\n",
       "      <td>2018-02-28 23:18:45</td>\n",
       "    </tr>\n",
       "    <tr>\n",
       "      <th>3401596</th>\n",
       "      <td>1112368750</td>\n",
       "      <td>GNZqAaE</td>\n",
       "      <td>2018-02-28 23:24:13</td>\n",
       "    </tr>\n",
       "    <tr>\n",
       "      <th>3401597</th>\n",
       "      <td>1111413600</td>\n",
       "      <td>GNZqAaE</td>\n",
       "      <td>2018-02-28 23:25:09</td>\n",
       "    </tr>\n",
       "    <tr>\n",
       "      <th>3401598</th>\n",
       "      <td>1112348533</td>\n",
       "      <td>6rPEvzO</td>\n",
       "      <td>2018-02-28 23:27:25</td>\n",
       "    </tr>\n",
       "    <tr>\n",
       "      <th>3401599</th>\n",
       "      <td>1112369306</td>\n",
       "      <td>ow2p8Z0</td>\n",
       "      <td>2018-02-28 23:23:36</td>\n",
       "    </tr>\n",
       "    <tr>\n",
       "      <th>3401600</th>\n",
       "      <td>1112367705</td>\n",
       "      <td>ow2p8Z0</td>\n",
       "      <td>2018-02-28 23:23:57</td>\n",
       "    </tr>\n",
       "    <tr>\n",
       "      <th>3401601</th>\n",
       "      <td>1112366909</td>\n",
       "      <td>ow2p8Z0</td>\n",
       "      <td>2018-02-28 23:26:49</td>\n",
       "    </tr>\n",
       "    <tr>\n",
       "      <th>3401602</th>\n",
       "      <td>1112349451</td>\n",
       "      <td>vVja4x5</td>\n",
       "      <td>2018-02-28 23:27:05</td>\n",
       "    </tr>\n",
       "    <tr>\n",
       "      <th>3401603</th>\n",
       "      <td>1112318545</td>\n",
       "      <td>vVja4x5</td>\n",
       "      <td>2018-02-28 23:28:08</td>\n",
       "    </tr>\n",
       "    <tr>\n",
       "      <th>3401604</th>\n",
       "      <td>1112354215</td>\n",
       "      <td>vVja4x5</td>\n",
       "      <td>2018-02-28 23:42:56</td>\n",
       "    </tr>\n",
       "    <tr>\n",
       "      <th>3401605</th>\n",
       "      <td>1112368214</td>\n",
       "      <td>6rPEver</td>\n",
       "      <td>2018-02-28 23:54:35</td>\n",
       "    </tr>\n",
       "    <tr>\n",
       "      <th>3401606</th>\n",
       "      <td>1112349559</td>\n",
       "      <td>6rPEver</td>\n",
       "      <td>2018-02-28 23:56:19</td>\n",
       "    </tr>\n",
       "    <tr>\n",
       "      <th>3401607</th>\n",
       "      <td>1112165615</td>\n",
       "      <td>6rPEver</td>\n",
       "      <td>2018-02-28 23:57:03</td>\n",
       "    </tr>\n",
       "    <tr>\n",
       "      <th>3401608</th>\n",
       "      <td>1112369739</td>\n",
       "      <td>1QPMbX3</td>\n",
       "      <td>2018-02-28 23:41:51</td>\n",
       "    </tr>\n",
       "    <tr>\n",
       "      <th>3401609</th>\n",
       "      <td>1111732991</td>\n",
       "      <td>1QPMbX3</td>\n",
       "      <td>2018-02-28 23:45:56</td>\n",
       "    </tr>\n",
       "    <tr>\n",
       "      <th>3401610</th>\n",
       "      <td>1112350030</td>\n",
       "      <td>1QPMbX3</td>\n",
       "      <td>2018-02-28 23:47:27</td>\n",
       "    </tr>\n",
       "    <tr>\n",
       "      <th>3401611</th>\n",
       "      <td>1112366913</td>\n",
       "      <td>1QPMbX3</td>\n",
       "      <td>2018-02-28 23:48:49</td>\n",
       "    </tr>\n",
       "    <tr>\n",
       "      <th>3401612</th>\n",
       "      <td>1112366611</td>\n",
       "      <td>1QPMbX3</td>\n",
       "      <td>2018-02-28 23:50:42</td>\n",
       "    </tr>\n",
       "    <tr>\n",
       "      <th>3401613</th>\n",
       "      <td>1112334662</td>\n",
       "      <td>1QPMbX3</td>\n",
       "      <td>2018-02-28 23:56:53</td>\n",
       "    </tr>\n",
       "    <tr>\n",
       "      <th>3401614</th>\n",
       "      <td>1112354320</td>\n",
       "      <td>1QPMbX3</td>\n",
       "      <td>2018-02-28 23:57:22</td>\n",
       "    </tr>\n",
       "    <tr>\n",
       "      <th>3401615</th>\n",
       "      <td>1112360579</td>\n",
       "      <td>1QPMbX3</td>\n",
       "      <td>2018-02-28 23:58:32</td>\n",
       "    </tr>\n",
       "    <tr>\n",
       "      <th>3401616</th>\n",
       "      <td>1112359520</td>\n",
       "      <td>1QPMbX3</td>\n",
       "      <td>2018-02-28 23:59:34</td>\n",
       "    </tr>\n",
       "    <tr>\n",
       "      <th>3401617</th>\n",
       "      <td>1112344822</td>\n",
       "      <td>0zPa0eq</td>\n",
       "      <td>2018-02-28 23:49:46</td>\n",
       "    </tr>\n",
       "    <tr>\n",
       "      <th>3401618</th>\n",
       "      <td>1111753681</td>\n",
       "      <td>0zPa0eq</td>\n",
       "      <td>2018-02-28 23:54:44</td>\n",
       "    </tr>\n",
       "    <tr>\n",
       "      <th>3401619</th>\n",
       "      <td>1112369306</td>\n",
       "      <td>2zP6Jd0</td>\n",
       "      <td>2018-02-28 23:57:43</td>\n",
       "    </tr>\n",
       "    <tr>\n",
       "      <th>3401620</th>\n",
       "      <td>1112308651</td>\n",
       "      <td>8MPoxDW</td>\n",
       "      <td>2018-02-28 23:52:13</td>\n",
       "    </tr>\n",
       "    <tr>\n",
       "      <th>3401621</th>\n",
       "      <td>1112341128</td>\n",
       "      <td>8MPoxDW</td>\n",
       "      <td>2018-02-28 23:59:06</td>\n",
       "    </tr>\n",
       "    <tr>\n",
       "      <th>3401622</th>\n",
       "      <td>1112369825</td>\n",
       "      <td>2zP6J9V</td>\n",
       "      <td>2018-02-28 23:56:10</td>\n",
       "    </tr>\n",
       "  </tbody>\n",
       "</table>\n",
       "<p>3401623 rows × 3 columns</p>\n",
       "</div>"
      ],
      "text/plain": [
       "            idaviso idpostulante     fechapostulacion\n",
       "0        1112257047         NM5M  2018-01-15 16:22:34\n",
       "1        1111920714         NM5M  2018-02-06 09:04:50\n",
       "2        1112346945         NM5M  2018-02-22 09:04:47\n",
       "3        1112345547         NM5M  2018-02-22 09:04:59\n",
       "4        1112237522         5awk  2018-01-25 18:55:03\n",
       "5        1112277633         5awk  2018-01-29 13:34:44\n",
       "6        1112302347         5awk  2018-02-07 20:49:22\n",
       "7        1112291495         5awk  2018-02-07 20:50:13\n",
       "8        1112304011         5awk  2018-02-07 20:51:15\n",
       "9        1112326289         5awk  2018-02-09 20:24:57\n",
       "10       1112303543         5awk  2018-02-18 23:49:34\n",
       "11       1112315393         5awk  2018-02-19 00:01:20\n",
       "12       1112315188         5awk  2018-02-28 15:54:28\n",
       "13       1112346738         5awk  2018-02-28 15:54:47\n",
       "14       1112330625         5awk  2018-02-28 15:56:43\n",
       "15       1112306543         5awk  2018-02-28 15:57:35\n",
       "16       1112315170         5awk  2018-02-28 15:59:14\n",
       "17       1111799928         5awk  2018-02-28 16:00:06\n",
       "18       1112323355         5awk  2018-02-28 16:00:41\n",
       "19       1112305358         5awk  2018-02-28 16:02:15\n",
       "20       1112286523         ZaO5  2018-01-24 15:07:39\n",
       "21       1112272060         ZaO5  2018-01-24 15:20:10\n",
       "22       1112288401         ZaO5  2018-01-26 08:37:04\n",
       "23       1112300563         ZaO5  2018-01-30 13:35:48\n",
       "24       1112293018         ZaO5  2018-01-31 08:41:05\n",
       "25       1112301287         ZaO5  2018-01-31 08:55:20\n",
       "26       1112309589         ZaO5  2018-02-03 15:55:15\n",
       "27       1112317020         ZaO5  2018-02-07 09:56:22\n",
       "28       1112322363         ZaO5  2018-02-09 10:29:54\n",
       "29       1112327122         ZaO5  2018-02-11 17:49:26\n",
       "...             ...          ...                  ...\n",
       "3401593  1112345347      PmGP9vJ  2018-02-28 23:52:11\n",
       "3401594  1112357658      PmGP9vJ  2018-02-28 23:58:12\n",
       "3401595  1112368250      GNZqAaE  2018-02-28 23:18:45\n",
       "3401596  1112368750      GNZqAaE  2018-02-28 23:24:13\n",
       "3401597  1111413600      GNZqAaE  2018-02-28 23:25:09\n",
       "3401598  1112348533      6rPEvzO  2018-02-28 23:27:25\n",
       "3401599  1112369306      ow2p8Z0  2018-02-28 23:23:36\n",
       "3401600  1112367705      ow2p8Z0  2018-02-28 23:23:57\n",
       "3401601  1112366909      ow2p8Z0  2018-02-28 23:26:49\n",
       "3401602  1112349451      vVja4x5  2018-02-28 23:27:05\n",
       "3401603  1112318545      vVja4x5  2018-02-28 23:28:08\n",
       "3401604  1112354215      vVja4x5  2018-02-28 23:42:56\n",
       "3401605  1112368214      6rPEver  2018-02-28 23:54:35\n",
       "3401606  1112349559      6rPEver  2018-02-28 23:56:19\n",
       "3401607  1112165615      6rPEver  2018-02-28 23:57:03\n",
       "3401608  1112369739      1QPMbX3  2018-02-28 23:41:51\n",
       "3401609  1111732991      1QPMbX3  2018-02-28 23:45:56\n",
       "3401610  1112350030      1QPMbX3  2018-02-28 23:47:27\n",
       "3401611  1112366913      1QPMbX3  2018-02-28 23:48:49\n",
       "3401612  1112366611      1QPMbX3  2018-02-28 23:50:42\n",
       "3401613  1112334662      1QPMbX3  2018-02-28 23:56:53\n",
       "3401614  1112354320      1QPMbX3  2018-02-28 23:57:22\n",
       "3401615  1112360579      1QPMbX3  2018-02-28 23:58:32\n",
       "3401616  1112359520      1QPMbX3  2018-02-28 23:59:34\n",
       "3401617  1112344822      0zPa0eq  2018-02-28 23:49:46\n",
       "3401618  1111753681      0zPa0eq  2018-02-28 23:54:44\n",
       "3401619  1112369306      2zP6Jd0  2018-02-28 23:57:43\n",
       "3401620  1112308651      8MPoxDW  2018-02-28 23:52:13\n",
       "3401621  1112341128      8MPoxDW  2018-02-28 23:59:06\n",
       "3401622  1112369825      2zP6J9V  2018-02-28 23:56:10\n",
       "\n",
       "[3401623 rows x 3 columns]"
      ]
     },
     "execution_count": 21,
     "metadata": {},
     "output_type": "execute_result"
    }
   ],
   "source": [
    "postulaciones_df"
   ]
  },
  {
   "cell_type": "code",
   "execution_count": 22,
   "metadata": {},
   "outputs": [
    {
     "data": {
      "text/html": [
       "<div>\n",
       "<style scoped>\n",
       "    .dataframe tbody tr th:only-of-type {\n",
       "        vertical-align: middle;\n",
       "    }\n",
       "\n",
       "    .dataframe tbody tr th {\n",
       "        vertical-align: top;\n",
       "    }\n",
       "\n",
       "    .dataframe thead th {\n",
       "        text-align: right;\n",
       "    }\n",
       "</style>\n",
       "<table border=\"1\" class=\"dataframe\">\n",
       "  <thead>\n",
       "    <tr style=\"text-align: right;\">\n",
       "      <th></th>\n",
       "      <th>nombre_area</th>\n",
       "      <th>cantidad_avisos</th>\n",
       "    </tr>\n",
       "  </thead>\n",
       "  <tbody>\n",
       "    <tr>\n",
       "      <th>0</th>\n",
       "      <td>Ventas</td>\n",
       "      <td>1659</td>\n",
       "    </tr>\n",
       "    <tr>\n",
       "      <th>1</th>\n",
       "      <td>Comercial</td>\n",
       "      <td>983</td>\n",
       "    </tr>\n",
       "    <tr>\n",
       "      <th>2</th>\n",
       "      <td>Administración</td>\n",
       "      <td>901</td>\n",
       "    </tr>\n",
       "    <tr>\n",
       "      <th>3</th>\n",
       "      <td>Producción</td>\n",
       "      <td>821</td>\n",
       "    </tr>\n",
       "    <tr>\n",
       "      <th>4</th>\n",
       "      <td>Programación</td>\n",
       "      <td>576</td>\n",
       "    </tr>\n",
       "  </tbody>\n",
       "</table>\n",
       "</div>"
      ],
      "text/plain": [
       "      nombre_area  cantidad_avisos\n",
       "0          Ventas             1659\n",
       "1       Comercial              983\n",
       "2  Administración              901\n",
       "3      Producción              821\n",
       "4    Programación              576"
      ]
     },
     "execution_count": 22,
     "metadata": {},
     "output_type": "execute_result"
    }
   ],
   "source": [
    "#Empiezo a relacionar la cantidad de postulaciones con la cantidad de avisos (por area).\n",
    "#La condicion esta dada por el 25% del promedio de avisos aproximadamente.\n",
    "merge = avisos_detalle_df['nombre_area'].value_counts().to_frame().reset_index()\n",
    "columnas = ['nombre_area','cantidad_avisos']\n",
    "merge.columns = columnas\n",
    "merge = merge[(merge['cantidad_avisos']) > 30]\n",
    "merge.head()"
   ]
  },
  {
   "cell_type": "code",
   "execution_count": 23,
   "metadata": {},
   "outputs": [
    {
     "data": {
      "text/html": [
       "<div>\n",
       "<style scoped>\n",
       "    .dataframe tbody tr th:only-of-type {\n",
       "        vertical-align: middle;\n",
       "    }\n",
       "\n",
       "    .dataframe tbody tr th {\n",
       "        vertical-align: top;\n",
       "    }\n",
       "\n",
       "    .dataframe thead th {\n",
       "        text-align: right;\n",
       "    }\n",
       "</style>\n",
       "<table border=\"1\" class=\"dataframe\">\n",
       "  <thead>\n",
       "    <tr style=\"text-align: right;\">\n",
       "      <th></th>\n",
       "      <th>nombre_area</th>\n",
       "      <th>cantidad_postulaciones</th>\n",
       "    </tr>\n",
       "  </thead>\n",
       "  <tbody>\n",
       "    <tr>\n",
       "      <th>0</th>\n",
       "      <td>Ventas</td>\n",
       "      <td>408148</td>\n",
       "    </tr>\n",
       "    <tr>\n",
       "      <th>1</th>\n",
       "      <td>Administración</td>\n",
       "      <td>291135</td>\n",
       "    </tr>\n",
       "    <tr>\n",
       "      <th>2</th>\n",
       "      <td>Producción</td>\n",
       "      <td>277089</td>\n",
       "    </tr>\n",
       "    <tr>\n",
       "      <th>3</th>\n",
       "      <td>Comercial</td>\n",
       "      <td>216677</td>\n",
       "    </tr>\n",
       "    <tr>\n",
       "      <th>4</th>\n",
       "      <td>Atención al Cliente</td>\n",
       "      <td>195636</td>\n",
       "    </tr>\n",
       "  </tbody>\n",
       "</table>\n",
       "</div>"
      ],
      "text/plain": [
       "           nombre_area  cantidad_postulaciones\n",
       "0               Ventas                  408148\n",
       "1       Administración                  291135\n",
       "2           Producción                  277089\n",
       "3            Comercial                  216677\n",
       "4  Atención al Cliente                  195636"
      ]
     },
     "execution_count": 23,
     "metadata": {},
     "output_type": "execute_result"
    }
   ],
   "source": [
    "df = merge_detalle_postulaciones_df['nombre_area'].value_counts().to_frame().reset_index()\n",
    "columnas = ['nombre_area','cantidad_postulaciones']\n",
    "df.columns = columnas\n",
    "\n",
    "df.head()"
   ]
  },
  {
   "cell_type": "code",
   "execution_count": 24,
   "metadata": {},
   "outputs": [
    {
     "data": {
      "text/html": [
       "<div>\n",
       "<style scoped>\n",
       "    .dataframe tbody tr th:only-of-type {\n",
       "        vertical-align: middle;\n",
       "    }\n",
       "\n",
       "    .dataframe tbody tr th {\n",
       "        vertical-align: top;\n",
       "    }\n",
       "\n",
       "    .dataframe thead th {\n",
       "        text-align: right;\n",
       "    }\n",
       "</style>\n",
       "<table border=\"1\" class=\"dataframe\">\n",
       "  <thead>\n",
       "    <tr style=\"text-align: right;\">\n",
       "      <th></th>\n",
       "      <th>nombre_area</th>\n",
       "      <th>cantidad_avisos</th>\n",
       "      <th>cantidad_postulaciones</th>\n",
       "    </tr>\n",
       "  </thead>\n",
       "  <tbody>\n",
       "    <tr>\n",
       "      <th>0</th>\n",
       "      <td>Ventas</td>\n",
       "      <td>1659</td>\n",
       "      <td>408148</td>\n",
       "    </tr>\n",
       "    <tr>\n",
       "      <th>1</th>\n",
       "      <td>Comercial</td>\n",
       "      <td>983</td>\n",
       "      <td>216677</td>\n",
       "    </tr>\n",
       "    <tr>\n",
       "      <th>2</th>\n",
       "      <td>Administración</td>\n",
       "      <td>901</td>\n",
       "      <td>291135</td>\n",
       "    </tr>\n",
       "    <tr>\n",
       "      <th>3</th>\n",
       "      <td>Producción</td>\n",
       "      <td>821</td>\n",
       "      <td>277089</td>\n",
       "    </tr>\n",
       "    <tr>\n",
       "      <th>4</th>\n",
       "      <td>Programación</td>\n",
       "      <td>576</td>\n",
       "      <td>8188</td>\n",
       "    </tr>\n",
       "  </tbody>\n",
       "</table>\n",
       "</div>"
      ],
      "text/plain": [
       "      nombre_area  cantidad_avisos  cantidad_postulaciones\n",
       "0          Ventas             1659                  408148\n",
       "1       Comercial              983                  216677\n",
       "2  Administración              901                  291135\n",
       "3      Producción              821                  277089\n",
       "4    Programación              576                    8188"
      ]
     },
     "execution_count": 24,
     "metadata": {},
     "output_type": "execute_result"
    }
   ],
   "source": [
    "merge = merge.merge(df, on = 'nombre_area')\n",
    "merge.head()"
   ]
  },
  {
   "cell_type": "code",
   "execution_count": 25,
   "metadata": {},
   "outputs": [
    {
     "data": {
      "text/html": [
       "<div>\n",
       "<style scoped>\n",
       "    .dataframe tbody tr th:only-of-type {\n",
       "        vertical-align: middle;\n",
       "    }\n",
       "\n",
       "    .dataframe tbody tr th {\n",
       "        vertical-align: top;\n",
       "    }\n",
       "\n",
       "    .dataframe thead th {\n",
       "        text-align: right;\n",
       "    }\n",
       "</style>\n",
       "<table border=\"1\" class=\"dataframe\">\n",
       "  <thead>\n",
       "    <tr style=\"text-align: right;\">\n",
       "      <th></th>\n",
       "      <th>nombre_area</th>\n",
       "      <th>cantidad_avisos</th>\n",
       "      <th>cantidad_postulaciones</th>\n",
       "      <th>postulaciones/avisos</th>\n",
       "    </tr>\n",
       "  </thead>\n",
       "  <tbody>\n",
       "    <tr>\n",
       "      <th>0</th>\n",
       "      <td>Ventas</td>\n",
       "      <td>1659</td>\n",
       "      <td>408148</td>\n",
       "      <td>246.020494</td>\n",
       "    </tr>\n",
       "    <tr>\n",
       "      <th>1</th>\n",
       "      <td>Comercial</td>\n",
       "      <td>983</td>\n",
       "      <td>216677</td>\n",
       "      <td>220.424212</td>\n",
       "    </tr>\n",
       "    <tr>\n",
       "      <th>2</th>\n",
       "      <td>Administración</td>\n",
       "      <td>901</td>\n",
       "      <td>291135</td>\n",
       "      <td>323.124306</td>\n",
       "    </tr>\n",
       "    <tr>\n",
       "      <th>3</th>\n",
       "      <td>Producción</td>\n",
       "      <td>821</td>\n",
       "      <td>277089</td>\n",
       "      <td>337.501827</td>\n",
       "    </tr>\n",
       "    <tr>\n",
       "      <th>4</th>\n",
       "      <td>Programación</td>\n",
       "      <td>576</td>\n",
       "      <td>8188</td>\n",
       "      <td>14.215278</td>\n",
       "    </tr>\n",
       "  </tbody>\n",
       "</table>\n",
       "</div>"
      ],
      "text/plain": [
       "      nombre_area  cantidad_avisos  cantidad_postulaciones  \\\n",
       "0          Ventas             1659                  408148   \n",
       "1       Comercial              983                  216677   \n",
       "2  Administración              901                  291135   \n",
       "3      Producción              821                  277089   \n",
       "4    Programación              576                    8188   \n",
       "\n",
       "   postulaciones/avisos  \n",
       "0            246.020494  \n",
       "1            220.424212  \n",
       "2            323.124306  \n",
       "3            337.501827  \n",
       "4             14.215278  "
      ]
     },
     "execution_count": 25,
     "metadata": {},
     "output_type": "execute_result"
    }
   ],
   "source": [
    "merge['postulaciones/avisos'] = ( merge['cantidad_postulaciones'] ) / (merge['cantidad_avisos'] )\n",
    "\n",
    "merge.head()"
   ]
  },
  {
   "cell_type": "code",
   "execution_count": 26,
   "metadata": {},
   "outputs": [
    {
     "data": {
      "text/plain": [
       "Text(0.5,1,'Areas con mayor postulaciones por aviso')"
      ]
     },
     "execution_count": 26,
     "metadata": {},
     "output_type": "execute_result"
    },
    {
     "data": {
      "image/png": "[encoded data removed]",
      "text/plain": [
       "<matplotlib.figure.Figure at 0x21d017fe940>"
      ]
     },
     "metadata": {},
     "output_type": "display_data"
    }
   ],
   "source": [
    "merge.groupby('nombre_area').agg({'postulaciones/avisos' : 'sum'}).sort_values(by = 'postulaciones/avisos',ascending = False).head(8).sort_values(by='postulaciones/avisos').plot(kind = 'barh',figsize = (12,8)).set_title('Areas con mayor postulaciones por aviso', fontsize=20)\n",
    "#Grafico de relacion entre cantidad de postulaciones y cantidad de avisos por nombre de area. Ojo con la cantidad de avisos, ecuacion mas peligrosa de la historia."
   ]
  },
  {
   "cell_type": "code",
   "execution_count": 27,
   "metadata": {},
   "outputs": [
    {
     "data": {
      "text/plain": [
       "Text(0.5,1,'Areas con menor postulaciones por aviso')"
      ]
     },
     "execution_count": 27,
     "metadata": {},
     "output_type": "execute_result"
    },
    {
     "data": {
      "image/png": "[encoded data removed]",
      "text/plain": [
       "<matplotlib.figure.Figure at 0x21d01821240>"
      ]
     },
     "metadata": {},
     "output_type": "display_data"
    }
   ],
   "source": [
    "merge.groupby('nombre_area').agg({'postulaciones/avisos' : 'sum'}).sort_values(by = 'postulaciones/avisos',ascending = False).tail(8).sort_values(by='postulaciones/avisos').plot(kind = 'barh',figsize = (12,8)).set_title('Areas con menor postulaciones por aviso', fontsize=20)\n"
   ]
  },
  {
   "cell_type": "markdown",
   "metadata": {},
   "source": [
    "Conclusión: Programacion es el area que menor demanda tiene en relacion a su oferta, siendo que por cada aviso relacionado a programacion en promedio se postulan menos de 20 personas, en contraste con Atencion al cliente, a la cual por cada aviso se postulan en promedio mas de 500 personas."
   ]
  },
  {
   "cell_type": "markdown",
   "metadata": {},
   "source": [
    "# ¿Alguna empresa esta acaparando mas postulaciones que las demás en relacion con su cantidad de avisos?"
   ]
  },
  {
   "cell_type": "code",
   "execution_count": 28,
   "metadata": {},
   "outputs": [
    {
     "data": {
      "text/plain": [
       "Text(0.5,0,'Cantidad de avisos')"
      ]
     },
     "execution_count": 28,
     "metadata": {},
     "output_type": "execute_result"
    },
    {
     "data": {
      "image/png": "[encoded data removed]",
      "text/plain": [
       "<matplotlib.figure.Figure at 0x21d01661588>"
      ]
     },
     "metadata": {},
     "output_type": "display_data"
    }
   ],
   "source": [
    "empresas_con_mas_avisos = avisos_detalle_df['denominacion_empresa'].value_counts().head(10).sort_values().plot(kind = 'barh')\n",
    "empresas_con_mas_avisos.set_title(\"Top 10 Empresas Con Mas Avisos\", fontsize = 20)\n",
    "empresas_con_mas_avisos.set_xlabel('Cantidad de avisos')"
   ]
  },
  {
   "cell_type": "code",
   "execution_count": 29,
   "metadata": {},
   "outputs": [
    {
     "data": {
      "text/plain": [
       "Text(0.5,1,'Top 10 Empresas Con Mas Postulaciones')"
      ]
     },
     "execution_count": 29,
     "metadata": {},
     "output_type": "execute_result"
    },
    {
     "data": {
      "image/png": "[encoded data removed]",
      "text/plain": [
       "<matplotlib.figure.Figure at 0x21d016144e0>"
      ]
     },
     "metadata": {},
     "output_type": "display_data"
    }
   ],
   "source": [
    "empresas_con_mas_postulaciones = merge_detalle_postulaciones_df['denominacion_empresa'].value_counts().head(10).sort_values().plot(kind = 'barh')\n",
    "empresas_con_mas_postulaciones.set_title(\"Top 10 Empresas Con Mas Postulaciones\", fontsize = 20)"
   ]
  },
  {
   "cell_type": "code",
   "execution_count": 30,
   "metadata": {},
   "outputs": [
    {
     "data": {
      "text/html": [
       "<div>\n",
       "<style scoped>\n",
       "    .dataframe tbody tr th:only-of-type {\n",
       "        vertical-align: middle;\n",
       "    }\n",
       "\n",
       "    .dataframe tbody tr th {\n",
       "        vertical-align: top;\n",
       "    }\n",
       "\n",
       "    .dataframe thead th {\n",
       "        text-align: right;\n",
       "    }\n",
       "</style>\n",
       "<table border=\"1\" class=\"dataframe\">\n",
       "  <thead>\n",
       "    <tr style=\"text-align: right;\">\n",
       "      <th></th>\n",
       "      <th>denominacion_empresa</th>\n",
       "      <th>cantidad_avisos</th>\n",
       "    </tr>\n",
       "  </thead>\n",
       "  <tbody>\n",
       "    <tr>\n",
       "      <th>0</th>\n",
       "      <td>RANDSTAD</td>\n",
       "      <td>562</td>\n",
       "    </tr>\n",
       "    <tr>\n",
       "      <th>1</th>\n",
       "      <td>Manpower</td>\n",
       "      <td>422</td>\n",
       "    </tr>\n",
       "    <tr>\n",
       "      <th>2</th>\n",
       "      <td>Grupo Gestión</td>\n",
       "      <td>383</td>\n",
       "    </tr>\n",
       "    <tr>\n",
       "      <th>3</th>\n",
       "      <td>Assistem</td>\n",
       "      <td>289</td>\n",
       "    </tr>\n",
       "    <tr>\n",
       "      <th>4</th>\n",
       "      <td>SOLUTIX S.A.</td>\n",
       "      <td>260</td>\n",
       "    </tr>\n",
       "  </tbody>\n",
       "</table>\n",
       "</div>"
      ],
      "text/plain": [
       "  denominacion_empresa  cantidad_avisos\n",
       "0             RANDSTAD              562\n",
       "1             Manpower              422\n",
       "2        Grupo Gestión              383\n",
       "3             Assistem              289\n",
       "4        SOLUTIX S.A.               260"
      ]
     },
     "execution_count": 30,
     "metadata": {},
     "output_type": "execute_result"
    }
   ],
   "source": [
    "#Ahora veo la relacion entre postulaciones y avisos pero con las empresas.\n",
    "merge = avisos_detalle_df['denominacion_empresa'].value_counts().reset_index()\n",
    "columnas = ['denominacion_empresa','cantidad_avisos']\n",
    "merge.columns = columnas\n",
    "merge = merge[ (merge['cantidad_avisos'] > 20 ) ]\n",
    "merge.head()"
   ]
  },
  {
   "cell_type": "code",
   "execution_count": 31,
   "metadata": {},
   "outputs": [
    {
     "data": {
      "text/html": [
       "<div>\n",
       "<style scoped>\n",
       "    .dataframe tbody tr th:only-of-type {\n",
       "        vertical-align: middle;\n",
       "    }\n",
       "\n",
       "    .dataframe tbody tr th {\n",
       "        vertical-align: top;\n",
       "    }\n",
       "\n",
       "    .dataframe thead th {\n",
       "        text-align: right;\n",
       "    }\n",
       "</style>\n",
       "<table border=\"1\" class=\"dataframe\">\n",
       "  <thead>\n",
       "    <tr style=\"text-align: right;\">\n",
       "      <th></th>\n",
       "      <th>denominacion_empresa</th>\n",
       "      <th>cantidad_postulaciones</th>\n",
       "    </tr>\n",
       "  </thead>\n",
       "  <tbody>\n",
       "    <tr>\n",
       "      <th>0</th>\n",
       "      <td>Manpower</td>\n",
       "      <td>119013</td>\n",
       "    </tr>\n",
       "    <tr>\n",
       "      <th>1</th>\n",
       "      <td>RANDSTAD</td>\n",
       "      <td>102640</td>\n",
       "    </tr>\n",
       "    <tr>\n",
       "      <th>2</th>\n",
       "      <td>Grupo Gestión</td>\n",
       "      <td>89950</td>\n",
       "    </tr>\n",
       "    <tr>\n",
       "      <th>3</th>\n",
       "      <td>Adecco -Región Office</td>\n",
       "      <td>83530</td>\n",
       "    </tr>\n",
       "    <tr>\n",
       "      <th>4</th>\n",
       "      <td>Assistem</td>\n",
       "      <td>68125</td>\n",
       "    </tr>\n",
       "  </tbody>\n",
       "</table>\n",
       "</div>"
      ],
      "text/plain": [
       "    denominacion_empresa  cantidad_postulaciones\n",
       "0               Manpower                  119013\n",
       "1               RANDSTAD                  102640\n",
       "2          Grupo Gestión                   89950\n",
       "3  Adecco -Región Office                   83530\n",
       "4               Assistem                   68125"
      ]
     },
     "execution_count": 31,
     "metadata": {},
     "output_type": "execute_result"
    }
   ],
   "source": [
    "df = merge_detalle_postulaciones_df['denominacion_empresa'].value_counts().reset_index()\n",
    "columnas = ['denominacion_empresa','cantidad_postulaciones']\n",
    "df.columns = columnas\n",
    "df.head()"
   ]
  },
  {
   "cell_type": "code",
   "execution_count": 32,
   "metadata": {},
   "outputs": [
    {
     "data": {
      "text/html": [
       "<div>\n",
       "<style scoped>\n",
       "    .dataframe tbody tr th:only-of-type {\n",
       "        vertical-align: middle;\n",
       "    }\n",
       "\n",
       "    .dataframe tbody tr th {\n",
       "        vertical-align: top;\n",
       "    }\n",
       "\n",
       "    .dataframe thead th {\n",
       "        text-align: right;\n",
       "    }\n",
       "</style>\n",
       "<table border=\"1\" class=\"dataframe\">\n",
       "  <thead>\n",
       "    <tr style=\"text-align: right;\">\n",
       "      <th></th>\n",
       "      <th>denominacion_empresa</th>\n",
       "      <th>cantidad_avisos</th>\n",
       "      <th>cantidad_postulaciones</th>\n",
       "    </tr>\n",
       "  </thead>\n",
       "  <tbody>\n",
       "    <tr>\n",
       "      <th>0</th>\n",
       "      <td>RANDSTAD</td>\n",
       "      <td>562</td>\n",
       "      <td>102640</td>\n",
       "    </tr>\n",
       "    <tr>\n",
       "      <th>1</th>\n",
       "      <td>Manpower</td>\n",
       "      <td>422</td>\n",
       "      <td>119013</td>\n",
       "    </tr>\n",
       "    <tr>\n",
       "      <th>2</th>\n",
       "      <td>Grupo Gestión</td>\n",
       "      <td>383</td>\n",
       "      <td>89950</td>\n",
       "    </tr>\n",
       "    <tr>\n",
       "      <th>3</th>\n",
       "      <td>Assistem</td>\n",
       "      <td>289</td>\n",
       "      <td>68125</td>\n",
       "    </tr>\n",
       "    <tr>\n",
       "      <th>4</th>\n",
       "      <td>SOLUTIX S.A.</td>\n",
       "      <td>260</td>\n",
       "      <td>8206</td>\n",
       "    </tr>\n",
       "  </tbody>\n",
       "</table>\n",
       "</div>"
      ],
      "text/plain": [
       "  denominacion_empresa  cantidad_avisos  cantidad_postulaciones\n",
       "0             RANDSTAD              562                  102640\n",
       "1             Manpower              422                  119013\n",
       "2        Grupo Gestión              383                   89950\n",
       "3             Assistem              289                   68125\n",
       "4        SOLUTIX S.A.               260                    8206"
      ]
     },
     "execution_count": 32,
     "metadata": {},
     "output_type": "execute_result"
    }
   ],
   "source": [
    "merge = merge.merge(df, on = 'denominacion_empresa')\n",
    "merge.head()"
   ]
  },
  {
   "cell_type": "code",
   "execution_count": 33,
   "metadata": {},
   "outputs": [
    {
     "data": {
      "text/html": [
       "<div>\n",
       "<style scoped>\n",
       "    .dataframe tbody tr th:only-of-type {\n",
       "        vertical-align: middle;\n",
       "    }\n",
       "\n",
       "    .dataframe tbody tr th {\n",
       "        vertical-align: top;\n",
       "    }\n",
       "\n",
       "    .dataframe thead th {\n",
       "        text-align: right;\n",
       "    }\n",
       "</style>\n",
       "<table border=\"1\" class=\"dataframe\">\n",
       "  <thead>\n",
       "    <tr style=\"text-align: right;\">\n",
       "      <th></th>\n",
       "      <th>denominacion_empresa</th>\n",
       "      <th>cantidad_avisos</th>\n",
       "      <th>cantidad_postulaciones</th>\n",
       "      <th>postulaciones/avisos</th>\n",
       "    </tr>\n",
       "  </thead>\n",
       "  <tbody>\n",
       "    <tr>\n",
       "      <th>0</th>\n",
       "      <td>RANDSTAD</td>\n",
       "      <td>562</td>\n",
       "      <td>102640</td>\n",
       "      <td>182.633452</td>\n",
       "    </tr>\n",
       "    <tr>\n",
       "      <th>1</th>\n",
       "      <td>Manpower</td>\n",
       "      <td>422</td>\n",
       "      <td>119013</td>\n",
       "      <td>282.021327</td>\n",
       "    </tr>\n",
       "    <tr>\n",
       "      <th>2</th>\n",
       "      <td>Grupo Gestión</td>\n",
       "      <td>383</td>\n",
       "      <td>89950</td>\n",
       "      <td>234.856397</td>\n",
       "    </tr>\n",
       "    <tr>\n",
       "      <th>3</th>\n",
       "      <td>Assistem</td>\n",
       "      <td>289</td>\n",
       "      <td>68125</td>\n",
       "      <td>235.726644</td>\n",
       "    </tr>\n",
       "    <tr>\n",
       "      <th>4</th>\n",
       "      <td>SOLUTIX S.A.</td>\n",
       "      <td>260</td>\n",
       "      <td>8206</td>\n",
       "      <td>31.561538</td>\n",
       "    </tr>\n",
       "  </tbody>\n",
       "</table>\n",
       "</div>"
      ],
      "text/plain": [
       "  denominacion_empresa  cantidad_avisos  cantidad_postulaciones  \\\n",
       "0             RANDSTAD              562                  102640   \n",
       "1             Manpower              422                  119013   \n",
       "2        Grupo Gestión              383                   89950   \n",
       "3             Assistem              289                   68125   \n",
       "4        SOLUTIX S.A.               260                    8206   \n",
       "\n",
       "   postulaciones/avisos  \n",
       "0            182.633452  \n",
       "1            282.021327  \n",
       "2            234.856397  \n",
       "3            235.726644  \n",
       "4             31.561538  "
      ]
     },
     "execution_count": 33,
     "metadata": {},
     "output_type": "execute_result"
    }
   ],
   "source": [
    "merge['postulaciones/avisos'] = ( merge['cantidad_postulaciones'] / merge['cantidad_avisos'])\n",
    "merge.head()"
   ]
  },
  {
   "cell_type": "code",
   "execution_count": 34,
   "metadata": {},
   "outputs": [
    {
     "data": {
      "text/plain": [
       "Text(0.5,1,'Empresas con mayor cantidad de postulantes por aviso')"
      ]
     },
     "execution_count": 34,
     "metadata": {},
     "output_type": "execute_result"
    },
    {
     "data": {
      "image/png": "[encoded data removed]",
      "text/plain": [
       "<matplotlib.figure.Figure at 0x21d01821438>"
      ]
     },
     "metadata": {},
     "output_type": "display_data"
    }
   ],
   "source": [
    "plot = merge.groupby('denominacion_empresa').agg({'postulaciones/avisos' : 'sum'}).sort_values(by = 'postulaciones/avisos', ascending = False).head(10).sort_values(by = 'postulaciones/avisos').plot(kind = 'barh')\n",
    "plot.set_title('Empresas con mayor cantidad de postulantes por aviso')\n",
    "#Grafico de relacion entre postulaciones y avisos (por empresa)"
   ]
  },
  {
   "cell_type": "markdown",
   "metadata": {},
   "source": [
    "Farmacity sobrepasa por mucho a las demás empresas, seguida de BBVA Francés"
   ]
  },
  {
   "cell_type": "code",
   "execution_count": 35,
   "metadata": {},
   "outputs": [
    {
     "data": {
      "text/plain": [
       "Text(0.5,1,'Empresas con menor cantidad de postulantes por aviso')"
      ]
     },
     "execution_count": 35,
     "metadata": {},
     "output_type": "execute_result"
    },
    {
     "data": {
      "image/png": "[encoded data removed]",
      "text/plain": [
       "<matplotlib.figure.Figure at 0x21d0177f518>"
      ]
     },
     "metadata": {},
     "output_type": "display_data"
    }
   ],
   "source": [
    "plot = merge.groupby('denominacion_empresa').agg({'postulaciones/avisos' : 'sum'}).sort_values(by = 'postulaciones/avisos', ascending = False).tail(10).plot(kind = 'barh')\n",
    "plot.set_title('Empresas con menor cantidad de postulantes por aviso')\n",
    "#Grafico de relacion entre postulaciones y avisos (por empresa)"
   ]
  },
  {
   "cell_type": "markdown",
   "metadata": {},
   "source": [
    "Nuevamente, las empresas relacionadas a programación son las que menor cantidad de postulantes tienen. Al parecer el renombre y reputación de la empresa tambien influye en la cantidad de postulantes, siendo que las que figuran en la lista de mayor postulaciones por aviso son de nombre conocido."
   ]
  },
  {
   "cell_type": "markdown",
   "metadata": {},
   "source": [
    "# (aca empieza otra pregunta)"
   ]
  },
  {
   "cell_type": "markdown",
   "metadata": {},
   "source": [
    "Para hallar la relacion entre nivel laboral y edad media de los postulantes se descartan los usuarios con fechas nulas o incorrectas."
   ]
  },
  {
   "cell_type": "code",
   "execution_count": 37,
   "metadata": {},
   "outputs": [
    {
     "name": "stdout",
     "output_type": "stream",
     "text": [
      "Cantidad original: 196138\n",
      "\n",
      "Fechas incorrectas :\n",
      "       idpostulante fechanacimiento        sexo\n",
      "56206       xkPwXwY      0031-12-11         FEM\n",
      "71458       LN85Y3b      0029-05-11        MASC\n",
      "130846      8M2R6pz      0024-02-09         FEM\n",
      "141832      A36Npjj      0033-09-14         FEM\n",
      "145683      dYjV0rb      0012-11-04  NO_DECLARA\n",
      "148638      GNZOvAv      0004-07-19        MASC\n",
      "149653      1QPQ8QL      0011-03-08        MASC\n",
      "\n",
      "Cantidad de fechas incorrectas:  (7, 3)\n",
      "\n",
      "Cantidad sin fechas incorrectas :  (196131, 3)\n"
     ]
    }
   ],
   "source": [
    "#Hay fechas que no son correctas, las saco.\n",
    "print('Cantidad original: 196138')\n",
    "print('')\n",
    "print('Fechas incorrectas :')\n",
    "print(postulantes_gye_df[postulantes_gye_df['fechanacimiento'].str.startswith('00')])\n",
    "print('')\n",
    "print('Cantidad de fechas incorrectas: ' , postulantes_gye_df[postulantes_gye_df['fechanacimiento'].str.startswith('00')].shape)\n",
    "postulantes_gye_df = postulantes_gye_df[ (postulantes_gye_df['fechanacimiento'].str.startswith('00')) == False]\n",
    "print('')\n",
    "print('Cantidad sin fechas incorrectas : ', postulantes_gye_df.shape)\n"
   ]
  },
  {
   "cell_type": "code",
   "execution_count": 38,
   "metadata": {},
   "outputs": [
    {
     "name": "stdout",
     "output_type": "stream",
     "text": [
      "<class 'pandas.core.frame.DataFrame'>\n",
      "Int64Index: 196131 entries, 0 to 200886\n",
      "Data columns (total 3 columns):\n",
      "idpostulante       196131 non-null object\n",
      "fechanacimiento    196131 non-null datetime64[ns]\n",
      "sexo               196131 non-null object\n",
      "dtypes: datetime64[ns](1), object(2)\n",
      "memory usage: 6.0+ MB\n"
     ]
    }
   ],
   "source": [
    "#Ahora, sin las fechas incorrectas, puedo calcular la edad promedio.\n",
    "postulantes_gye_df.fechanacimiento = pd.to_datetime(postulantes_gye_df.fechanacimiento)\n",
    "postulantes_gye_df.info()"
   ]
  },
  {
   "cell_type": "code",
   "execution_count": 39,
   "metadata": {},
   "outputs": [
    {
     "data": {
      "text/html": [
       "<div>\n",
       "<style scoped>\n",
       "    .dataframe tbody tr th:only-of-type {\n",
       "        vertical-align: middle;\n",
       "    }\n",
       "\n",
       "    .dataframe tbody tr th {\n",
       "        vertical-align: top;\n",
       "    }\n",
       "\n",
       "    .dataframe thead th {\n",
       "        text-align: right;\n",
       "    }\n",
       "</style>\n",
       "<table border=\"1\" class=\"dataframe\">\n",
       "  <thead>\n",
       "    <tr style=\"text-align: right;\">\n",
       "      <th></th>\n",
       "      <th>idpostulante</th>\n",
       "      <th>fechanacimiento</th>\n",
       "      <th>sexo</th>\n",
       "      <th>edad</th>\n",
       "    </tr>\n",
       "  </thead>\n",
       "  <tbody>\n",
       "    <tr>\n",
       "      <th>0</th>\n",
       "      <td>NM5M</td>\n",
       "      <td>1970-12-03</td>\n",
       "      <td>FEM</td>\n",
       "      <td>48</td>\n",
       "    </tr>\n",
       "    <tr>\n",
       "      <th>1</th>\n",
       "      <td>5awk</td>\n",
       "      <td>1962-12-04</td>\n",
       "      <td>FEM</td>\n",
       "      <td>56</td>\n",
       "    </tr>\n",
       "    <tr>\n",
       "      <th>2</th>\n",
       "      <td>ZaO5</td>\n",
       "      <td>1978-08-10</td>\n",
       "      <td>FEM</td>\n",
       "      <td>40</td>\n",
       "    </tr>\n",
       "    <tr>\n",
       "      <th>3</th>\n",
       "      <td>NdJl</td>\n",
       "      <td>1969-05-09</td>\n",
       "      <td>MASC</td>\n",
       "      <td>49</td>\n",
       "    </tr>\n",
       "    <tr>\n",
       "      <th>4</th>\n",
       "      <td>eo2p</td>\n",
       "      <td>1981-02-16</td>\n",
       "      <td>MASC</td>\n",
       "      <td>37</td>\n",
       "    </tr>\n",
       "  </tbody>\n",
       "</table>\n",
       "</div>"
      ],
      "text/plain": [
       "  idpostulante fechanacimiento  sexo  edad\n",
       "0         NM5M      1970-12-03   FEM    48\n",
       "1         5awk      1962-12-04   FEM    56\n",
       "2         ZaO5      1978-08-10   FEM    40\n",
       "3         NdJl      1969-05-09  MASC    49\n",
       "4         eo2p      1981-02-16  MASC    37"
      ]
     },
     "execution_count": 39,
     "metadata": {},
     "output_type": "execute_result"
    }
   ],
   "source": [
    "postulantes_gye_df['edad'] = (2018 - postulantes_gye_df.fechanacimiento.dt.year)\n",
    "postulantes_gye_df.head()"
   ]
  },
  {
   "cell_type": "code",
   "execution_count": 40,
   "metadata": {},
   "outputs": [
    {
     "name": "stdout",
     "output_type": "stream",
     "text": [
      "Postualantes con edad incorrecta: \n",
      "       idpostulante fechanacimiento  sexo  edad\n",
      "6869         a5qWAm      2006-01-01  MASC    12\n",
      "154559      xkdvwm0      1775-07-09  MASC   243\n",
      "156483      4rP8l0R      1921-08-18   FEM    97\n",
      "164618      96X1loa      1917-07-08  MASC   101\n"
     ]
    }
   ],
   "source": [
    "#Hay postulantes con mas de 100 años, tambien los saco\n",
    "print('Postualantes con edad incorrecta: ')\n",
    "print(postulantes_gye_df[ ( postulantes_gye_df['edad'] > 90) | (postulantes_gye_df['edad'] < 18) ])\n",
    "\n",
    "postulantes_gye_df = postulantes_gye_df[ ( (postulantes_gye_df['edad'] > 90) | (postulantes_gye_df['edad'] < 18) ) == False ]\n",
    "\n"
   ]
  },
  {
   "cell_type": "code",
   "execution_count": 41,
   "metadata": {},
   "outputs": [
    {
     "data": {
      "text/plain": [
       "Text(0.5,1,'Postulantes por edad')"
      ]
     },
     "execution_count": 41,
     "metadata": {},
     "output_type": "execute_result"
    },
    {
     "data": {
      "image/png": "[encoded data removed]",
      "text/plain": [
       "<matplotlib.figure.Figure at 0x21d773c9b00>"
      ]
     },
     "metadata": {},
     "output_type": "display_data"
    }
   ],
   "source": [
    "#Visualizacion de las postulaciones segun la edad del postulante.\n",
    "postulantes_gye_df.edad.value_counts().sort_index().plot().set_title('Postulantes por edad', fontsize=18)"
   ]
  },
  {
   "cell_type": "code",
   "execution_count": 42,
   "metadata": {},
   "outputs": [
    {
     "name": "stdout",
     "output_type": "stream",
     "text": [
      "(3034428, 15)\n"
     ]
    }
   ],
   "source": [
    "#Ahora junto la informacion de las edades con el data frame de postulaciones-avisos.\n",
    "merge = merge_detalle_postulaciones_df.merge(postulantes_gye_df, on = 'idpostulante')\n",
    "merge.head()\n",
    "print(merge.shape)"
   ]
  },
  {
   "cell_type": "code",
   "execution_count": 43,
   "metadata": {},
   "outputs": [
    {
     "data": {
      "text/plain": [
       "<matplotlib.axes._subplots.AxesSubplot at 0x21d773a9940>"
      ]
     },
     "execution_count": 43,
     "metadata": {},
     "output_type": "execute_result"
    },
    {
     "data": {
      "image/png": "[encoded data removed]",
      "text/plain": [
       "<matplotlib.figure.Figure at 0x21d7735ea58>"
      ]
     },
     "metadata": {},
     "output_type": "display_data"
    }
   ],
   "source": [
    "merge.groupby('nivel_laboral').agg({'edad':'mean'}).sort_values(by = 'edad').plot(kind = 'barh')\n",
    "#Ver si se puede acortar el rango"
   ]
  },
  {
   "cell_type": "code",
   "execution_count": 44,
   "metadata": {},
   "outputs": [
    {
     "data": {
      "image/png": "[encoded data removed]",
      "text/plain": [
       "<matplotlib.figure.Figure at 0x21d7735ccc0>"
      ]
     },
     "metadata": {},
     "output_type": "display_data"
    }
   ],
   "source": [
    "#ANUNCIOS POR EMPRESA\n",
    "empresas_con_mas_avisos = avisos_detalle_df['denominacion_empresa'].value_counts().to_frame().reset_index()#.head(10).sort_values().plot(kind = 'barh')\n",
    "\n",
    "menos_de_20 = empresas_con_mas_avisos[empresas_con_mas_avisos['denominacion_empresa']<= 20]\n",
    "menos_de_20 = menos_de_20['denominacion_empresa'].sum()\n",
    "\n",
    "mas_de_100 = empresas_con_mas_avisos[empresas_con_mas_avisos['denominacion_empresa'] >= 100]\n",
    "mas_de_100 = mas_de_100['denominacion_empresa'].sum()\n",
    "\n",
    "otros = empresas_con_mas_avisos[(empresas_con_mas_avisos['denominacion_empresa'] > 20) &(empresas_con_mas_avisos['denominacion_empresa'] < 100) ]\n",
    "otros = otros['denominacion_empresa'].sum()\n",
    "\n",
    "pie_chart = plt.pie([otros,mas_de_100,menos_de_20], labels = ['Otros','Mas de 100 Anuncios','Menos de 20 Anuncios'],shadow=True,startangle=90,radius=1.3,explode=(0.1,0.1,0.1),autopct='%1.0f%%')"
   ]
  },
  {
   "cell_type": "code",
   "execution_count": 45,
   "metadata": {},
   "outputs": [],
   "source": [
    "#Ahora queremos ver la relaciones entre las vistas y las postulaciones\n",
    "#vistas_df['timestamp'] = pd.to_datetime(vistas_df['timestamp'])\n",
    "postulaciones_df['fechapostulacion'] = pd.to_datetime(postulaciones_df['fechapostulacion'] )\n"
   ]
  },
  {
   "cell_type": "code",
   "execution_count": 46,
   "metadata": {},
   "outputs": [
    {
     "data": {
      "text/plain": [
       "2    2125425\n",
       "1    1276198\n",
       "Name: fechapostulacion, dtype: int64"
      ]
     },
     "execution_count": 46,
     "metadata": {},
     "output_type": "execute_result"
    }
   ],
   "source": [
    "postulaciones_df['fechapostulacion'].dt.month.value_counts()\n"
   ]
  },
  {
   "cell_type": "code",
   "execution_count": 47,
   "metadata": {},
   "outputs": [
    {
     "data": {
      "text/plain": [
       "2    921074\n",
       "3     40823\n",
       "Name: timestamp, dtype: int64"
      ]
     },
     "execution_count": 47,
     "metadata": {},
     "output_type": "execute_result"
    }
   ],
   "source": [
    "vistas_df['timestamp'].dt.month.value_counts()"
   ]
  },
  {
   "cell_type": "code",
   "execution_count": 48,
   "metadata": {},
   "outputs": [
    {
     "data": {
      "text/plain": [
       "0     45966\n",
       "1     44273\n",
       "2     41101\n",
       "3     35716\n",
       "4     22249\n",
       "5     11966\n",
       "6      7487\n",
       "7      4550\n",
       "8      4445\n",
       "9      5957\n",
       "10    18679\n",
       "11    36364\n",
       "12    50213\n",
       "13    60972\n",
       "14    66168\n",
       "15    63737\n",
       "16    56415\n",
       "17    54704\n",
       "18    56568\n",
       "19    59214\n",
       "20    58042\n",
       "21    53928\n",
       "22    51527\n",
       "23    51656\n",
       "Name: timestamp, dtype: int64"
      ]
     },
     "execution_count": 48,
     "metadata": {},
     "output_type": "execute_result"
    }
   ],
   "source": [
    "vistas_df['timestamp'].dt.hour.value_counts().sort_index().sort_index()"
   ]
  },
  {
   "cell_type": "code",
   "execution_count": 49,
   "metadata": {},
   "outputs": [
    {
     "data": {
      "text/html": [
       "<div>\n",
       "<style scoped>\n",
       "    .dataframe tbody tr th:only-of-type {\n",
       "        vertical-align: middle;\n",
       "    }\n",
       "\n",
       "    .dataframe tbody tr th {\n",
       "        vertical-align: top;\n",
       "    }\n",
       "\n",
       "    .dataframe thead th {\n",
       "        text-align: right;\n",
       "    }\n",
       "</style>\n",
       "<table border=\"1\" class=\"dataframe\">\n",
       "  <thead>\n",
       "    <tr style=\"text-align: right;\">\n",
       "      <th></th>\n",
       "      <th>idaviso</th>\n",
       "      <th>idpostulante</th>\n",
       "      <th>fechapostulacion</th>\n",
       "    </tr>\n",
       "  </thead>\n",
       "  <tbody>\n",
       "    <tr>\n",
       "      <th>12</th>\n",
       "      <td>1112315188</td>\n",
       "      <td>5awk</td>\n",
       "      <td>2018-02-28 15:54:28</td>\n",
       "    </tr>\n",
       "    <tr>\n",
       "      <th>13</th>\n",
       "      <td>1112346738</td>\n",
       "      <td>5awk</td>\n",
       "      <td>2018-02-28 15:54:47</td>\n",
       "    </tr>\n",
       "    <tr>\n",
       "      <th>14</th>\n",
       "      <td>1112330625</td>\n",
       "      <td>5awk</td>\n",
       "      <td>2018-02-28 15:56:43</td>\n",
       "    </tr>\n",
       "    <tr>\n",
       "      <th>15</th>\n",
       "      <td>1112306543</td>\n",
       "      <td>5awk</td>\n",
       "      <td>2018-02-28 15:57:35</td>\n",
       "    </tr>\n",
       "    <tr>\n",
       "      <th>16</th>\n",
       "      <td>1112315170</td>\n",
       "      <td>5awk</td>\n",
       "      <td>2018-02-28 15:59:14</td>\n",
       "    </tr>\n",
       "  </tbody>\n",
       "</table>\n",
       "</div>"
      ],
      "text/plain": [
       "       idaviso idpostulante    fechapostulacion\n",
       "12  1112315188         5awk 2018-02-28 15:54:28\n",
       "13  1112346738         5awk 2018-02-28 15:54:47\n",
       "14  1112330625         5awk 2018-02-28 15:56:43\n",
       "15  1112306543         5awk 2018-02-28 15:57:35\n",
       "16  1112315170         5awk 2018-02-28 15:59:14"
      ]
     },
     "execution_count": 49,
     "metadata": {},
     "output_type": "execute_result"
    }
   ],
   "source": [
    "#Observo que la informacion disponible es de solo la ultima semana de febrero, por lo tanto filtro las postulaciones para esa fecha.\n",
    "#Filtro los dias que tienen datos incompletos\n",
    "postulaciones_filtradas = postulaciones_df[(postulaciones_df['fechapostulacion'].dt.month == 2 ) & ((postulaciones_df['fechapostulacion'].dt.day > 23) & ( postulaciones_df['fechapostulacion'].dt.day < 29)) ]\n",
    "vistas = vistas_df[(vistas_df['timestamp'].dt.month == 2 ) & ((vistas_df['timestamp'].dt.day > 23) & ( vistas_df['timestamp'].dt.day < 29)) ]\n",
    "postulaciones_filtradas.head()"
   ]
  },
  {
   "cell_type": "code",
   "execution_count": 50,
   "metadata": {},
   "outputs": [
    {
     "data": {
      "text/plain": [
       "0      6143\n",
       "1      3787\n",
       "2      2230\n",
       "3      1985\n",
       "4      2727\n",
       "5      6822\n",
       "6     13712\n",
       "7     22489\n",
       "8     31688\n",
       "9     36884\n",
       "10    34429\n",
       "11    29992\n",
       "12    28743\n",
       "13    27738\n",
       "14    25205\n",
       "15    25018\n",
       "16    23231\n",
       "17    23190\n",
       "18    22807\n",
       "19    21237\n",
       "20    20063\n",
       "21    18408\n",
       "22    15352\n",
       "23    10591\n",
       "Name: fechapostulacion, dtype: int64"
      ]
     },
     "execution_count": 50,
     "metadata": {},
     "output_type": "execute_result"
    }
   ],
   "source": [
    "postulaciones_filtradas['fechapostulacion'].dt.hour.value_counts().sort_index()"
   ]
  },
  {
   "cell_type": "code",
   "execution_count": 51,
   "metadata": {},
   "outputs": [
    {
     "data": {
      "text/plain": [
       "0     36136\n",
       "1     34463\n",
       "2     31818\n",
       "3     28553\n",
       "4     17512\n",
       "5     11966\n",
       "6      7487\n",
       "7      4550\n",
       "8      4445\n",
       "9      5957\n",
       "10    18679\n",
       "11    36364\n",
       "12    50213\n",
       "13    60972\n",
       "14    66168\n",
       "15    63737\n",
       "16    56415\n",
       "17    54704\n",
       "18    52649\n",
       "19    48844\n",
       "20    48398\n",
       "21    44847\n",
       "22    44346\n",
       "23    44615\n",
       "Name: timestamp, dtype: int64"
      ]
     },
     "execution_count": 51,
     "metadata": {},
     "output_type": "execute_result"
    }
   ],
   "source": [
    "vistas['timestamp'].dt.hour.value_counts().sort_index()"
   ]
  },
  {
   "cell_type": "code",
   "execution_count": 52,
   "metadata": {},
   "outputs": [
    {
     "data": {
      "text/plain": [
       "Text(0,0.5,'Cantidad')"
      ]
     },
     "execution_count": 52,
     "metadata": {},
     "output_type": "execute_result"
    },
    {
     "data": {
      "image/png": "[encoded data removed]",
      "text/plain": [
       "<matplotlib.figure.Figure at 0x21d77258780>"
      ]
     },
     "metadata": {},
     "output_type": "display_data"
    }
   ],
   "source": [
    "#Falta hacer un label de las lineas\n",
    "\n",
    "fig = plt.figure() #Creates a figure for the next plot, then disapears\n",
    "\n",
    "ax = fig.add_subplot(111)#Form and background\n",
    "\n",
    "plt.title('Tendencia de postulaciones y vistas segun la hora',fontsize=16,fontweight='bold')\n",
    "\n",
    "ax.set_xlabel('Horas del dia',fontsize=16)\n",
    "\n",
    "\n",
    "vistas['timestamp'].dt.hour.value_counts().sort_index().plot(color='red')\n",
    "postulaciones_filtradas['fechapostulacion'].dt.hour.value_counts().sort_index().plot(color='blue',figsize=(14,10))#Density plot\n",
    "ax.set_ylabel('Cantidad',fontsize=16,)"
   ]
  },
  {
   "cell_type": "markdown",
   "metadata": {},
   "source": []
  },
  {
   "cell_type": "code",
   "execution_count": 53,
   "metadata": {},
   "outputs": [],
   "source": [
    "vistas  = vistas['timestamp'].dt.weekday_name.to_frame()\n",
    "vistas['timestamp'] = pd.Categorical(vistas['timestamp'], categories=['Monday','Tuesday','Wednesday','Saturday', 'Sunday'], ordered=True)\n",
    "postulaciones_filtradas = postulaciones_filtradas['fechapostulacion'].dt.weekday_name.to_frame()\n",
    "postulaciones_filtradas['fechapostulacion'] =pd.Categorical(postulaciones_filtradas['fechapostulacion'], categories=['Monday','Tuesday','Wednesday','Saturday', 'Sunday'], ordered=True)"
   ]
  },
  {
   "cell_type": "code",
   "execution_count": 54,
   "metadata": {},
   "outputs": [
    {
     "name": "stdout",
     "output_type": "stream",
     "text": [
      "Monday       122688\n",
      "Tuesday      119845\n",
      "Wednesday    118296\n",
      "Saturday      43718\n",
      "Sunday        49924\n",
      "Name: fechapostulacion, dtype: int64\n",
      "\n",
      "Monday       227957\n",
      "Tuesday      232145\n",
      "Wednesday    227160\n",
      "Saturday      95930\n",
      "Sunday        90646\n",
      "Name: timestamp, dtype: int64\n"
     ]
    }
   ],
   "source": [
    "print(postulaciones_filtradas['fechapostulacion'].value_counts().sort_index())\n",
    "print()\n",
    "print(vistas['timestamp'].value_counts().sort_index())"
   ]
  },
  {
   "cell_type": "code",
   "execution_count": 73,
   "metadata": {},
   "outputs": [
    {
     "data": {
      "text/html": [
       "<div>\n",
       "<style scoped>\n",
       "    .dataframe tbody tr th:only-of-type {\n",
       "        vertical-align: middle;\n",
       "    }\n",
       "\n",
       "    .dataframe tbody tr th {\n",
       "        vertical-align: top;\n",
       "    }\n",
       "\n",
       "    .dataframe thead th {\n",
       "        text-align: right;\n",
       "    }\n",
       "</style>\n",
       "<table border=\"1\" class=\"dataframe\">\n",
       "  <thead>\n",
       "    <tr style=\"text-align: right;\">\n",
       "      <th></th>\n",
       "      <th>vistas</th>\n",
       "      <th>postulaciones</th>\n",
       "    </tr>\n",
       "  </thead>\n",
       "  <tbody>\n",
       "    <tr>\n",
       "      <th>Monday</th>\n",
       "      <td>227957</td>\n",
       "      <td>122688</td>\n",
       "    </tr>\n",
       "    <tr>\n",
       "      <th>Tuesday</th>\n",
       "      <td>232145</td>\n",
       "      <td>119845</td>\n",
       "    </tr>\n",
       "    <tr>\n",
       "      <th>Wednesday</th>\n",
       "      <td>227160</td>\n",
       "      <td>118296</td>\n",
       "    </tr>\n",
       "    <tr>\n",
       "      <th>Saturday</th>\n",
       "      <td>95930</td>\n",
       "      <td>43718</td>\n",
       "    </tr>\n",
       "    <tr>\n",
       "      <th>Sunday</th>\n",
       "      <td>90646</td>\n",
       "      <td>49924</td>\n",
       "    </tr>\n",
       "  </tbody>\n",
       "</table>\n",
       "</div>"
      ],
      "text/plain": [
       "           vistas  postulaciones\n",
       "Monday     227957         122688\n",
       "Tuesday    232145         119845\n",
       "Wednesday  227160         118296\n",
       "Saturday    95930          43718\n",
       "Sunday      90646          49924"
      ]
     },
     "execution_count": 73,
     "metadata": {},
     "output_type": "execute_result"
    }
   ],
   "source": [
    "\n",
    "df = vistas['timestamp'].value_counts().to_frame()\n",
    "df['postulaciones'] = postulaciones_filtradas['fechapostulacion'].value_counts()\n",
    "df.columns = ['vistas','postulaciones']\n",
    "\n",
    "df.sort_index(inplace=True)\n",
    "df.head()\n"
   ]
  },
  {
   "cell_type": "code",
   "execution_count": 74,
   "metadata": {},
   "outputs": [
    {
     "data": {
      "text/plain": [
       "Text(22.2,0.5,'Cantidad')"
      ]
     },
     "execution_count": 74,
     "metadata": {},
     "output_type": "execute_result"
    },
    {
     "data": {
      "image/png": "[encoded data removed]",
      "text/plain": [
       "<matplotlib.figure.Figure at 0x21d003da518>"
      ]
     },
     "metadata": {},
     "output_type": "display_data"
    }
   ],
   "source": [
    "#fig = plt.figure() #Creates a figure for the next plot, then disapears\n",
    "\n",
    "\n",
    "#ax = fig.add_subplot(111)#Form and background\n",
    "\n",
    "#plt.title('Postulaciones y Vistas segun los dias de la semana',fontsize=16,fontweight='bold')\n",
    "\n",
    "\n",
    "#ax.set_xlabel('Dias de la semana',fontsize=16)\n",
    "\n",
    "df.plot(kind='bar')\n",
    "\n",
    "#df['postulaciones'] = postulaciones_filtradas['fechapostulacion']\n",
    "\n",
    "#vistas['timestamp'].value_counts().sort_index().plot(kind='bar',color='red')\n",
    "\n",
    "#postulaciones_filtradas['fechapostulacion'].value_counts().sort_index().plot(kind='bar',color='blue')#,figsize=(14,10))\n",
    "ax.set_ylabel('Cantidad',fontsize=16,)"
   ]
  },
  {
   "cell_type": "code",
   "execution_count": 76,
   "metadata": {},
   "outputs": [],
   "source": [
    "df = postulantes_edu_df.merge(postulaciones_df, on='idpostulante')\n",
    "df['cantidad'] = 1"
   ]
  },
  {
   "cell_type": "code",
   "execution_count": 82,
   "metadata": {},
   "outputs": [
    {
     "data": {
      "text/plain": [
       "Text(0,0.5,'Nivel academico')"
      ]
     },
     "execution_count": 82,
     "metadata": {},
     "output_type": "execute_result"
    },
    {
     "data": {
      "image/png": "[encoded data removed]",
      "text/plain": [
       "<matplotlib.figure.Figure at 0x21d004c0c88>"
      ]
     },
     "metadata": {},
     "output_type": "display_data"
    }
   ],
   "source": [
    "plot = df.groupby('nombre').agg({'cantidad':'count'}).sort_values(by = 'cantidad').plot(kind = 'barh', legend = False)\n",
    "plot.set_title('Postulaciones segun el nivel academico', fontsize = 18)\n",
    "plot.set_xlabel('Cantidad de postulaciones')\n",
    "plot.set_ylabel('Nivel academico')"
   ]
  },
  {
   "cell_type": "code",
   "execution_count": 59,
   "metadata": {},
   "outputs": [
    {
     "data": {
      "text/plain": [
       "Text(0.5,1,'Postulaciones segun estado academico actual')"
      ]
     },
     "execution_count": 59,
     "metadata": {},
     "output_type": "execute_result"
    },
    {
     "data": {
      "image/png": "[encoded data removed]",
      "text/plain": [
       "<matplotlib.figure.Figure at 0x21d7510ae10>"
      ]
     },
     "metadata": {},
     "output_type": "display_data"
    }
   ],
   "source": [
    "plot = df.groupby('estado').agg({'cantidad':'count'}).plot(kind = 'bar')\n",
    "plot.set_title('Postulaciones segun estado academico actual')"
   ]
  },
  {
   "cell_type": "code",
   "execution_count": 60,
   "metadata": {},
   "outputs": [
    {
     "data": {
      "text/plain": [
       "Text(0.5,1,'Postulaciones segun el genero')"
      ]
     },
     "execution_count": 60,
     "metadata": {},
     "output_type": "execute_result"
    },
    {
     "data": {
      "image/png": "[encoded data removed]",
      "text/plain": [
       "<matplotlib.figure.Figure at 0x21d7fda29b0>"
      ]
     },
     "metadata": {},
     "output_type": "display_data"
    }
   ],
   "source": [
    "df = postulantes_gye_df.merge(postulaciones_df, on='idpostulante')\n",
    "plot = df['sexo'].value_counts().sort_values().plot('bar')\n",
    "plot.set_title('Postulaciones segun el genero')"
   ]
  },
  {
   "cell_type": "code",
   "execution_count": 61,
   "metadata": {},
   "outputs": [
    {
     "data": {
      "text/plain": [
       "Text(0.5,1,' Postulaciones segun el horario')"
      ]
     },
     "execution_count": 61,
     "metadata": {},
     "output_type": "execute_result"
    },
    {
     "data": {
      "image/png": "[encoded data removed]",
      "text/plain": [
       "<matplotlib.figure.Figure at 0x21d00e97a58>"
      ]
     },
     "metadata": {},
     "output_type": "display_data"
    }
   ],
   "source": [
    "postulaciones_df['fechapostulacion'] = pd.to_datetime(postulaciones_df['fechapostulacion'])\n",
    "plot = postulaciones_df['fechapostulacion'].dt.hour.value_counts().sort_index().plot()\n",
    "plot.set_title(' Postulaciones segun el horario')"
   ]
  },
  {
   "cell_type": "code",
   "execution_count": 62,
   "metadata": {},
   "outputs": [
    {
     "data": {
      "text/plain": [
       "Text(0.5,1,'Vistas segun el Horario')"
      ]
     },
     "execution_count": 62,
     "metadata": {},
     "output_type": "execute_result"
    },
    {
     "data": {
      "image/png": "[encoded data removed]",
      "text/plain": [
       "<matplotlib.figure.Figure at 0x21d00e877f0>"
      ]
     },
     "metadata": {},
     "output_type": "display_data"
    }
   ],
   "source": [
    "plot = vistas_df['timestamp'].dt.hour.value_counts().sort_index().plot()\n",
    "plot.set_title('Vistas segun el Horario')"
   ]
  },
  {
   "cell_type": "code",
   "execution_count": 63,
   "metadata": {},
   "outputs": [],
   "source": [
    "merge = postulaciones_df.merge(avisos_detalle_df, on='idaviso')"
   ]
  },
  {
   "cell_type": "code",
   "execution_count": 64,
   "metadata": {},
   "outputs": [
    {
     "data": {
      "text/plain": [
       "Text(0.5,1,'Postulaciones por nivel laboral')"
      ]
     },
     "execution_count": 64,
     "metadata": {},
     "output_type": "execute_result"
    },
    {
     "data": {
      "image/png": "[encoded data removed]",
      "text/plain": [
       "<matplotlib.figure.Figure at 0x21d0022dcc0>"
      ]
     },
     "metadata": {},
     "output_type": "display_data"
    }
   ],
   "source": [
    "plot = merge.groupby('nivel_laboral').agg({'idpostulante':'count'}).sort_values(by='idpostulante').rename(columns={'idpostulante':'cantidad'}).plot(kind='barh')\n",
    "plot.set_title('Postulaciones por nivel laboral')"
   ]
  },
  {
   "cell_type": "code",
   "execution_count": 65,
   "metadata": {
    "scrolled": true
   },
   "outputs": [
    {
     "data": {
      "text/plain": [
       "11.000274464508308"
      ]
     },
     "execution_count": 65,
     "metadata": {},
     "output_type": "execute_result"
    }
   ],
   "source": [
    "#vistas promedio por persona en el rango dado\n",
    "\n",
    "vistas_df['cantidad'] = 1\n",
    "vistas_per_capita = vistas_df.groupby('idpostulante').agg({'cantidad':'count'})\n",
    "vistas_per_capita['cantidad'].mean()"
   ]
  },
  {
   "cell_type": "markdown",
   "metadata": {},
   "source": [
    "# ¿Las palabras en los títulos de los anuncios pueden predecir o atraer postulaciones?"
   ]
  },
  {
   "cell_type": "code",
   "execution_count": 66,
   "metadata": {},
   "outputs": [
    {
     "data": {
      "text/html": [
       "<div>\n",
       "<style scoped>\n",
       "    .dataframe tbody tr th:only-of-type {\n",
       "        vertical-align: middle;\n",
       "    }\n",
       "\n",
       "    .dataframe tbody tr th {\n",
       "        vertical-align: top;\n",
       "    }\n",
       "\n",
       "    .dataframe thead th {\n",
       "        text-align: right;\n",
       "    }\n",
       "</style>\n",
       "<table border=\"1\" class=\"dataframe\">\n",
       "  <thead>\n",
       "    <tr style=\"text-align: right;\">\n",
       "      <th></th>\n",
       "      <th>apariciones</th>\n",
       "    </tr>\n",
       "    <tr>\n",
       "      <th>palabra</th>\n",
       "      <th></th>\n",
       "    </tr>\n",
       "  </thead>\n",
       "  <tbody>\n",
       "    <tr>\n",
       "      <th>vendedor/a</th>\n",
       "      <td>75</td>\n",
       "    </tr>\n",
       "    <tr>\n",
       "      <th>provincia</th>\n",
       "      <td>24</td>\n",
       "    </tr>\n",
       "    <tr>\n",
       "      <th>santa</th>\n",
       "      <td>83</td>\n",
       "    </tr>\n",
       "    <tr>\n",
       "      <th>fe</th>\n",
       "      <td>64</td>\n",
       "    </tr>\n",
       "    <tr>\n",
       "      <th>enfermeras</th>\n",
       "      <td>4</td>\n",
       "    </tr>\n",
       "  </tbody>\n",
       "</table>\n",
       "</div>"
      ],
      "text/plain": [
       "            apariciones\n",
       "palabra                \n",
       "vendedor/a           75\n",
       "provincia            24\n",
       "santa                83\n",
       "fe                   64\n",
       "enfermeras            4"
      ]
     },
     "execution_count": 66,
     "metadata": {},
     "output_type": "execute_result"
    }
   ],
   "source": [
    "from collections import Counter\n",
    "#Hago una lista con todas las palabras que aparecen en los titulos y sus apariciones, sacando los chars \"( ) ,\"\n",
    "contador_palabras_avisos = Counter(\" \".join(avisos_detalle_df['titulo'].values.tolist()).lower().replace(\"(\",'').replace(\")\",'').replace(\",\",' ').split(\" \")).items()\n",
    "\n",
    "#Formo un DF con esa lista\n",
    "\n",
    "contador_palabras_avisos = list(contador_palabras_avisos)\n",
    "\n",
    "\n",
    "contador_palabras_avisos_df = pd.DataFrame(contador_palabras_avisos)\n",
    "contador_palabras_avisos_df.head()\n",
    "\n",
    "contador_palabras_avisos_df.columns=['palabra','apariciones']\n",
    "contador_palabras_avisos_df=contador_palabras_avisos_df.set_index('palabra')\n",
    "\n",
    "#Saco los adverbios del df\n",
    "adverbios=['','-','de','con','en','y','a','para','la','al','los','/']\n",
    "contador_palabras_avisos_df=contador_palabras_avisos_df.drop(adverbios)\n",
    "contador_palabras_avisos_df.head()"
   ]
  },
  {
   "cell_type": "code",
   "execution_count": 67,
   "metadata": {},
   "outputs": [
    {
     "data": {
      "text/plain": [
       "Text(0.5,1,'Palabras mas frecuentes en titulos de anuncios')"
      ]
     },
     "execution_count": 67,
     "metadata": {},
     "output_type": "execute_result"
    },
    {
     "data": {
      "image/png": "[encoded data removed]",
      "text/plain": [
       "<matplotlib.figure.Figure at 0x21d00327c50>"
      ]
     },
     "metadata": {},
     "output_type": "display_data"
    }
   ],
   "source": [
    "plot = contador_palabras_avisos_df.sort_values(by='apariciones',ascending=False).head(20).sort_values(by='apariciones').plot(kind='barh')\n",
    "plot.set_title('Palabras mas frecuentes en titulos de anuncios')"
   ]
  },
  {
   "cell_type": "code",
   "execution_count": 68,
   "metadata": {},
   "outputs": [],
   "source": [
    "#Por cada postulacion cuento las palabras que aparecen en el titulo del aviso al que se postularon\n",
    "contador_palabras_postulaciones = Counter(\" \".join(merge_detalle_postulaciones_df['titulo'].values.tolist()).lower().replace(\"(\",'').replace(\")\",'').strip(\")\").replace(\")\",'').replace(\",\",' ').split(\" \")).items()\n",
    "\n",
    "contador_palabras_postulaciones = list(contador_palabras_postulaciones)\n",
    "\n",
    "\n",
    "contador_palabras_postulaciones_df=pd.DataFrame(contador_palabras_postulaciones)\n",
    "\n",
    "contador_palabras_postulaciones_df.columns=['palabra','apariciones']\n",
    "contador_palabras_postulaciones_df=contador_palabras_postulaciones_df.set_index('palabra')\n",
    "\n",
    "contador_palabras_postulaciones_df=contador_palabras_postulaciones_df.drop(adverbios)\n"
   ]
  },
  {
   "cell_type": "code",
   "execution_count": 69,
   "metadata": {},
   "outputs": [
    {
     "data": {
      "text/plain": [
       "Text(0.5,1,'Palabras mas frecuentes en titulos de anuncios a los que se postularon')"
      ]
     },
     "execution_count": 69,
     "metadata": {},
     "output_type": "execute_result"
    },
    {
     "data": {
      "image/png": "[encoded data removed]",
      "text/plain": [
       "<matplotlib.figure.Figure at 0x21d0022de10>"
      ]
     },
     "metadata": {},
     "output_type": "display_data"
    }
   ],
   "source": [
    "plot = contador_palabras_postulaciones_df.sort_values(by='apariciones',ascending=False).head(20).sort_values(by='apariciones').plot(kind='barh')\n",
    "plot.set_title('Palabras mas frecuentes en titulos de anuncios a los que se postularon')"
   ]
  },
  {
   "cell_type": "code",
   "execution_count": 70,
   "metadata": {},
   "outputs": [],
   "source": [
    "# me quedo con las palabras que figuran en al menos 20 avisos\n",
    "contador_palabras_avisos_df_filtrado=contador_palabras_avisos_df.loc[contador_palabras_avisos_df['apariciones']>=20]\n",
    "\n",
    "efectividad_palabras_df = contador_palabras_postulaciones_df.sort_values(by='apariciones',ascending=False) / contador_palabras_avisos_df_filtrado.sort_values(by='apariciones',ascending=False)\n",
    "efectividad_palabras_df = efectividad_palabras_df.dropna()\n",
    "efectividad_palabras_df.columns=['postulaciones/avisos']"
   ]
  },
  {
   "cell_type": "code",
   "execution_count": 71,
   "metadata": {},
   "outputs": [
    {
     "data": {
      "text/plain": [
       "Text(0.5,1,'Palabras que menos postulaciones atraen')"
      ]
     },
     "execution_count": 71,
     "metadata": {},
     "output_type": "execute_result"
    },
    {
     "data": {
      "image/png": "[encoded data removed]",
      "text/plain": [
       "<matplotlib.figure.Figure at 0x21d003b0f28>"
      ]
     },
     "metadata": {},
     "output_type": "display_data"
    }
   ],
   "source": [
    "plot = efectividad_palabras_df.sort_values(by='postulaciones/avisos',ascending= False).tail(20).plot(kind='barh')\n",
    "plot.set_title('Palabras que menos postulaciones atraen') "
   ]
  },
  {
   "cell_type": "code",
   "execution_count": 72,
   "metadata": {},
   "outputs": [
    {
     "data": {
      "text/plain": [
       "Text(0.5,1,'Palabras que mas postulaciones atraen')"
      ]
     },
     "execution_count": 72,
     "metadata": {},
     "output_type": "execute_result"
    },
    {
     "data": {
      "image/png": "[encoded data removed]",
      "text/plain": [
       "<matplotlib.figure.Figure at 0x21d003c3710>"
      ]
     },
     "metadata": {},
     "output_type": "display_data"
    }
   ],
   "source": [
    "plot = efectividad_palabras_df.sort_values(by='postulaciones/avisos',ascending= False).head(20).sort_values(by='postulaciones/avisos').plot(kind='barh',title='Palabras que mas postulaciones atraen')\n",
    "plot.set_title('Palabras que mas postulaciones atraen')"
   ]
  },
  {
   "cell_type": "markdown",
   "metadata": {},
   "source": [
    "Algunas conclusiones: Puede verse que el empleo de cajero tiene significativamente más postulaciones por aviso que los demás, lo que explica el por qué el area de ventas figura en la primer posicion del top de areas con mas postulaciones. Tambien puede verse que los anuncios con palabras relacionadas a programación tienen relativamente muy pocas postulaciones (¿Algo bueno para nosotros?). Ademas, si bien analista es la palabra que mas aparece en los titulos de las postulaciones, esto seguramente se deba a que es la que mas figura en todos los avisos en general."
   ]
  },
  {
   "cell_type": "code",
   "execution_count": null,
   "metadata": {},
   "outputs": [],
   "source": []
  }
 ],
 "metadata": {
  "kernelspec": {
   "display_name": "Python 3",
   "language": "python",
   "name": "python3"
  },
  "language_info": {
   "codemirror_mode": {
    "name": "ipython",
    "version": 3
   },
   "file_extension": ".py",
   "mimetype": "text/x-python",
   "name": "python",
   "nbconvert_exporter": "python",
   "pygments_lexer": "ipython3",
   "version": "3.6.4"
  }
 },
 "nbformat": 4,
 "nbformat_minor": 2
}
